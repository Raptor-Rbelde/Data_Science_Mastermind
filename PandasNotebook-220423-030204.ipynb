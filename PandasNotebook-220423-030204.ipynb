{
 "cells": [
  {
   "cell_type": "markdown",
   "id": "8091fa32",
   "metadata": {},
   "source": [
    "![](https://import.cdn.thinkific.com/220744/BExaQBPPQairRWFqxFbK_logo_mastermind_web_png)"
   ]
  },
  {
   "cell_type": "markdown",
   "id": "a3af8a63",
   "metadata": {},
   "source": [
    "# Qué es Pandas?"
   ]
  },
  {
   "cell_type": "markdown",
   "id": "930de3f7",
   "metadata": {},
   "source": [
    "**Pandas** es la librería por excelencia para manipular datos tabulares con **Python**. Recordamos que estos datos tabulares se refieren a *tablas*, y es una forma de representar datos _estructurados_. Ya que estos datos serán los que trabajaremos el 99% de las veces, al menos en este curso, es crucial conocer las herramientas para poder manipular estos datos como nos convenga!\n",
    "\n",
    "Esta librería introduce el objeto _DataFrame_, una forma de representar estos datos. Como todos los objetos en **Python**, estos _DataFrames_ disponen de una serie de métodos y atributos para tener el control total sobre ellos. En este capítulo revisaremos los más importantes!"
   ]
  },
  {
   "cell_type": "markdown",
   "id": "700a9ae8",
   "metadata": {},
   "source": [
    "Lo primero que haremos será importar la librería de **Pandas**, que la tendréis instalada por defecto. Esta vez como **pd**:"
   ]
  },
  {
   "cell_type": "code",
   "execution_count": 1,
   "id": "c8959e30",
   "metadata": {},
   "outputs": [],
   "source": [
    "import pandas as pd\n",
    "\n",
    "# También importaremos NumPy, ya que lo necesitaremos:\n",
    "\n",
    "import numpy as np"
   ]
  },
  {
   "cell_type": "markdown",
   "id": "d3930135",
   "metadata": {},
   "source": [
    "Un DataFrame es un objeto de Python que muestra datos de forma _tabular_, es decir, un array de 2 dimensiones que tiene _filas_(eje 0) y _columnas_ (eje 1). \n",
    "\n",
    "![](https://pandas.pydata.org/docs/_images/01_table_dataframe.svg)"
   ]
  },
  {
   "cell_type": "markdown",
   "id": "87d619f5",
   "metadata": {},
   "source": [
    "A su vez, los DataFrames están creados por objetos más pequeños llamados **Pandas Series**. Dicho de una forma sencilla, los _Series_ son las columnas individuales, con las siguientes propiedades:\n",
    "- Cada elemento de la columna tiene asignado un índice en el eje 0 (las filas).\n",
    "- El nombre de la columna es el atributo `name` del Pandas Series\n",
    "- Los valores de la columna son un `NumPy Array`, con los pros y contras que eso conlleva. Se pueden hacer operaciones elemento por elemento, son rápidos de operar, y deben ser homogéneos: sólo pueden contener un tipo de dato cada uno de estos _Series_. Además, se pueden usar las funciones de **Numpy** en estas columnas."
   ]
  },
  {
   "cell_type": "markdown",
   "id": "7317c3e3",
   "metadata": {},
   "source": [
    "![](https://www.educative.io/api/page/5494232312709120/image/download/6456886820864000)"
   ]
  },
  {
   "cell_type": "markdown",
   "id": "09803239",
   "metadata": {},
   "source": [
    "# Creando un DataFrame"
   ]
  },
  {
   "cell_type": "markdown",
   "id": "d99ff7d4",
   "metadata": {},
   "source": [
    "Para crear un DataFrame tenemos muchas opciones, ya que estos _datos tabulares_ pueden venir en muchas formas. Nosotros nos centraremos en dos los dos métodos más habituales: \n",
    "- Desde un archivo local (descargado en tu ordenador) en forma de archivo **.csv**\n",
    "- Creándolo desde un **diccionario de Python**"
   ]
  },
  {
   "cell_type": "markdown",
   "id": "480bcb62",
   "metadata": {},
   "source": [
    "## Desde un archivo local .csv"
   ]
  },
  {
   "cell_type": "markdown",
   "id": "c45b6a18",
   "metadata": {},
   "source": [
    "Estos archivos **.csv** son muy comunes y pueden descargarse de muchos lugares de forma gratuita! En este caso disponemos de un archivo llamado _mastermind.csv_ que os he facilitado en la primera lección del capítulo. Y para transformarlo en un _DataFrame_, usaremos la función *pd.read_csv()*.\n",
    "\n",
    "Esta función acepta una gran cantidad de parámetros, podéis echarles un vistazo [aquí](https://pandas.pydata.org/docs/reference/api/pandas.read_csv.html), aunque para funcionar sólo necesita uno de ellos: la ruta [absoluta](https://es.wikipedia.org/wiki/Ruta_(inform%C3%A1tica)#Ruta_absoluta) o [relativa](https://es.wikipedia.org/wiki/Ruta_(inform%C3%A1tica)#Ruta_relativa) de nuestro archivo **.csv**"
   ]
  },
  {
   "cell_type": "markdown",
   "id": "d0b4645a",
   "metadata": {},
   "source": [
    "> [pd.read_csv(*ruta_archivo*)](https://pandas.pydata.org/docs/reference/api/pandas.read_csv.html)   \n"
   ]
  },
  {
   "cell_type": "markdown",
   "id": "b7ab8101",
   "metadata": {},
   "source": [
    "Al usar esta función, siempre asignaremos a una variable (comúnmente llamada **df**), el output que ésta genera.\n"
   ]
  },
  {
   "cell_type": "code",
   "execution_count": 2,
   "id": "490b3d77",
   "metadata": {},
   "outputs": [
    {
     "data": {
      "text/html": [
       "<div>\n",
       "<style scoped>\n",
       "    .dataframe tbody tr th:only-of-type {\n",
       "        vertical-align: middle;\n",
       "    }\n",
       "\n",
       "    .dataframe tbody tr th {\n",
       "        vertical-align: top;\n",
       "    }\n",
       "\n",
       "    .dataframe thead th {\n",
       "        text-align: right;\n",
       "    }\n",
       "</style>\n",
       "<table border=\"1\" class=\"dataframe\">\n",
       "  <thead>\n",
       "    <tr style=\"text-align: right;\">\n",
       "      <th></th>\n",
       "      <th>Unnamed: 0</th>\n",
       "      <th>nombre</th>\n",
       "      <th>especialidad</th>\n",
       "      <th>edad</th>\n",
       "      <th>visitas</th>\n",
       "      <th>sexo</th>\n",
       "    </tr>\n",
       "  </thead>\n",
       "  <tbody>\n",
       "    <tr>\n",
       "      <th>0</th>\n",
       "      <td>0</td>\n",
       "      <td>SFDX Show</td>\n",
       "      <td>Hardware</td>\n",
       "      <td>30</td>\n",
       "      <td>130855</td>\n",
       "      <td>H</td>\n",
       "    </tr>\n",
       "    <tr>\n",
       "      <th>1</th>\n",
       "      <td>1</td>\n",
       "      <td>Sara Nogark</td>\n",
       "      <td>Edición de vídeo</td>\n",
       "      <td>29</td>\n",
       "      <td>114175</td>\n",
       "      <td>M</td>\n",
       "    </tr>\n",
       "    <tr>\n",
       "      <th>2</th>\n",
       "      <td>2</td>\n",
       "      <td>Nate Gentile</td>\n",
       "      <td>Programación</td>\n",
       "      <td>31</td>\n",
       "      <td>142545</td>\n",
       "      <td>H</td>\n",
       "    </tr>\n",
       "    <tr>\n",
       "      <th>3</th>\n",
       "      <td>3</td>\n",
       "      <td>Bettatech</td>\n",
       "      <td>Programación</td>\n",
       "      <td>31</td>\n",
       "      <td>149462</td>\n",
       "      <td>H</td>\n",
       "    </tr>\n",
       "    <tr>\n",
       "      <th>4</th>\n",
       "      <td>4</td>\n",
       "      <td>Antonio Sarosi</td>\n",
       "      <td>Sistemas Operativos</td>\n",
       "      <td>28</td>\n",
       "      <td>132008</td>\n",
       "      <td>H</td>\n",
       "    </tr>\n",
       "    <tr>\n",
       "      <th>5</th>\n",
       "      <td>5</td>\n",
       "      <td>Edgar Pons</td>\n",
       "      <td>Robótica</td>\n",
       "      <td>29</td>\n",
       "      <td>143620</td>\n",
       "      <td>H</td>\n",
       "    </tr>\n",
       "    <tr>\n",
       "      <th>6</th>\n",
       "      <td>6</td>\n",
       "      <td>s4vitar</td>\n",
       "      <td>Hacking</td>\n",
       "      <td>28</td>\n",
       "      <td>132567</td>\n",
       "      <td>H</td>\n",
       "    </tr>\n",
       "  </tbody>\n",
       "</table>\n",
       "</div>"
      ],
      "text/plain": [
       "   Unnamed: 0          nombre         especialidad  edad  visitas sexo\n",
       "0           0       SFDX Show             Hardware    30   130855    H\n",
       "1           1     Sara Nogark     Edición de vídeo    29   114175    M\n",
       "2           2    Nate Gentile         Programación    31   142545    H\n",
       "3           3       Bettatech         Programación    31   149462    H\n",
       "4           4  Antonio Sarosi  Sistemas Operativos    28   132008    H\n",
       "5           5      Edgar Pons             Robótica    29   143620    H\n",
       "6           6         s4vitar              Hacking    28   132567    H"
      ]
     },
     "execution_count": 2,
     "metadata": {},
     "output_type": "execute_result"
    }
   ],
   "source": [
    "df = pd.read_csv('../Inteligencia Artificial/mastermind.csv')\n",
    "\n",
    "df"
   ]
  },
  {
   "cell_type": "markdown",
   "id": "aa5e2eef",
   "metadata": {},
   "source": [
    "Como vemos, ha importado correctamente nuestro archivo, pero hay una de la primera columna contiene una información rara: la columna `Unnamed: 0`. Esto sucede porque **Pandas** genera un índice que manera automática a la hora de generar un *DataFrame*, y éste en concreto, ya disponía de un *índice* propio, que lo ha asignado a esa columna.  \n",
    "Para que esto no suceda, le especificaremos con el argumento `index_col` el número de columna que queremos que use de índice, en este caso la primera, la número `0`:"
   ]
  },
  {
   "cell_type": "code",
   "execution_count": 3,
   "id": "cd69e8ee",
   "metadata": {},
   "outputs": [
    {
     "data": {
      "text/html": [
       "<div>\n",
       "<style scoped>\n",
       "    .dataframe tbody tr th:only-of-type {\n",
       "        vertical-align: middle;\n",
       "    }\n",
       "\n",
       "    .dataframe tbody tr th {\n",
       "        vertical-align: top;\n",
       "    }\n",
       "\n",
       "    .dataframe thead th {\n",
       "        text-align: right;\n",
       "    }\n",
       "</style>\n",
       "<table border=\"1\" class=\"dataframe\">\n",
       "  <thead>\n",
       "    <tr style=\"text-align: right;\">\n",
       "      <th></th>\n",
       "      <th>nombre</th>\n",
       "      <th>especialidad</th>\n",
       "      <th>edad</th>\n",
       "      <th>visitas</th>\n",
       "      <th>sexo</th>\n",
       "    </tr>\n",
       "  </thead>\n",
       "  <tbody>\n",
       "    <tr>\n",
       "      <th>0</th>\n",
       "      <td>SFDX Show</td>\n",
       "      <td>Hardware</td>\n",
       "      <td>30</td>\n",
       "      <td>130855</td>\n",
       "      <td>H</td>\n",
       "    </tr>\n",
       "    <tr>\n",
       "      <th>1</th>\n",
       "      <td>Sara Nogark</td>\n",
       "      <td>Edición de vídeo</td>\n",
       "      <td>29</td>\n",
       "      <td>114175</td>\n",
       "      <td>M</td>\n",
       "    </tr>\n",
       "    <tr>\n",
       "      <th>2</th>\n",
       "      <td>Nate Gentile</td>\n",
       "      <td>Programación</td>\n",
       "      <td>31</td>\n",
       "      <td>142545</td>\n",
       "      <td>H</td>\n",
       "    </tr>\n",
       "    <tr>\n",
       "      <th>3</th>\n",
       "      <td>Bettatech</td>\n",
       "      <td>Programación</td>\n",
       "      <td>31</td>\n",
       "      <td>149462</td>\n",
       "      <td>H</td>\n",
       "    </tr>\n",
       "    <tr>\n",
       "      <th>4</th>\n",
       "      <td>Antonio Sarosi</td>\n",
       "      <td>Sistemas Operativos</td>\n",
       "      <td>28</td>\n",
       "      <td>132008</td>\n",
       "      <td>H</td>\n",
       "    </tr>\n",
       "    <tr>\n",
       "      <th>5</th>\n",
       "      <td>Edgar Pons</td>\n",
       "      <td>Robótica</td>\n",
       "      <td>29</td>\n",
       "      <td>143620</td>\n",
       "      <td>H</td>\n",
       "    </tr>\n",
       "    <tr>\n",
       "      <th>6</th>\n",
       "      <td>s4vitar</td>\n",
       "      <td>Hacking</td>\n",
       "      <td>28</td>\n",
       "      <td>132567</td>\n",
       "      <td>H</td>\n",
       "    </tr>\n",
       "  </tbody>\n",
       "</table>\n",
       "</div>"
      ],
      "text/plain": [
       "           nombre         especialidad  edad  visitas sexo\n",
       "0       SFDX Show             Hardware    30   130855    H\n",
       "1     Sara Nogark     Edición de vídeo    29   114175    M\n",
       "2    Nate Gentile         Programación    31   142545    H\n",
       "3       Bettatech         Programación    31   149462    H\n",
       "4  Antonio Sarosi  Sistemas Operativos    28   132008    H\n",
       "5      Edgar Pons             Robótica    29   143620    H\n",
       "6         s4vitar              Hacking    28   132567    H"
      ]
     },
     "execution_count": 3,
     "metadata": {},
     "output_type": "execute_result"
    }
   ],
   "source": [
    "df = pd.read_csv('../Inteligencia Artificial/mastermind.csv', index_col=[0])\n",
    "\n",
    "df"
   ]
  },
  {
   "cell_type": "markdown",
   "id": "9479fb9b",
   "metadata": {},
   "source": [
    "## Desde un diccionario"
   ]
  },
  {
   "cell_type": "markdown",
   "id": "73a07bfe",
   "metadata": {},
   "source": [
    "Si queremos crear nuestro propio _DataFrame_ con datos que generamos desde el mismo *Notebook*, la forma más sencilla es desde un _diccionario_ de **Python**. En este caso, cada par `llave:valores` será una columna de nuestro _DataFrame_, siendo la `llave` el nombre de la columna y `valores` los elementos que ésta contenga.\n",
    "\n",
    "Es importante saber que las lista de valores que contengan este _diccionario_ deben tener todas la misma **longitud**, ya que **no podemos** tener un _DataFrame_ en el que cada columna tenga un número de elementos diferente. Dicho de otro modo, el índice de nuestro _DataFrame_ debe ser el mismo para todas las columnas:"
   ]
  },
  {
   "cell_type": "code",
   "execution_count": 4,
   "id": "b1f0fca8",
   "metadata": {},
   "outputs": [],
   "source": [
    "datos = {'nombre': ['SFDX Show', 'Sara Nogark', 'Nate Gentile', 'Bettatech', 'Antonio Sarosi', 'Edgar Pons', 's4vitar'],\n",
    "         'especialidad': list(df['especialidad']),\n",
    "         'edad': [ np.random.randint(28, 31) for i in range(len(df['nombre']))],\n",
    "         'visitas' : [np.random.randint(100000, 150000) for i in range(len(df['nombre']))]}"
   ]
  },
  {
   "cell_type": "markdown",
   "id": "dc743036",
   "metadata": {},
   "source": [
    "Una vez tenemos nuestro diccionario, podemos transformarlo a _DataFrame_ con esta función:\n",
    "\n",
    "> [pd.DataFrame(_diccionario_)](https://pandas.pydata.org/docs/reference/api/pandas.DataFrame.html)"
   ]
  },
  {
   "cell_type": "code",
   "execution_count": 5,
   "id": "3fa7058a",
   "metadata": {},
   "outputs": [
    {
     "data": {
      "text/html": [
       "<div>\n",
       "<style scoped>\n",
       "    .dataframe tbody tr th:only-of-type {\n",
       "        vertical-align: middle;\n",
       "    }\n",
       "\n",
       "    .dataframe tbody tr th {\n",
       "        vertical-align: top;\n",
       "    }\n",
       "\n",
       "    .dataframe thead th {\n",
       "        text-align: right;\n",
       "    }\n",
       "</style>\n",
       "<table border=\"1\" class=\"dataframe\">\n",
       "  <thead>\n",
       "    <tr style=\"text-align: right;\">\n",
       "      <th></th>\n",
       "      <th>nombre</th>\n",
       "      <th>especialidad</th>\n",
       "      <th>edad</th>\n",
       "      <th>visitas</th>\n",
       "    </tr>\n",
       "  </thead>\n",
       "  <tbody>\n",
       "    <tr>\n",
       "      <th>0</th>\n",
       "      <td>SFDX Show</td>\n",
       "      <td>Hardware</td>\n",
       "      <td>30</td>\n",
       "      <td>135391</td>\n",
       "    </tr>\n",
       "    <tr>\n",
       "      <th>1</th>\n",
       "      <td>Sara Nogark</td>\n",
       "      <td>Edición de vídeo</td>\n",
       "      <td>29</td>\n",
       "      <td>109019</td>\n",
       "    </tr>\n",
       "    <tr>\n",
       "      <th>2</th>\n",
       "      <td>Nate Gentile</td>\n",
       "      <td>Programación</td>\n",
       "      <td>28</td>\n",
       "      <td>120603</td>\n",
       "    </tr>\n",
       "    <tr>\n",
       "      <th>3</th>\n",
       "      <td>Bettatech</td>\n",
       "      <td>Programación</td>\n",
       "      <td>29</td>\n",
       "      <td>143970</td>\n",
       "    </tr>\n",
       "    <tr>\n",
       "      <th>4</th>\n",
       "      <td>Antonio Sarosi</td>\n",
       "      <td>Sistemas Operativos</td>\n",
       "      <td>30</td>\n",
       "      <td>105796</td>\n",
       "    </tr>\n",
       "    <tr>\n",
       "      <th>5</th>\n",
       "      <td>Edgar Pons</td>\n",
       "      <td>Robótica</td>\n",
       "      <td>28</td>\n",
       "      <td>149084</td>\n",
       "    </tr>\n",
       "    <tr>\n",
       "      <th>6</th>\n",
       "      <td>s4vitar</td>\n",
       "      <td>Hacking</td>\n",
       "      <td>29</td>\n",
       "      <td>103389</td>\n",
       "    </tr>\n",
       "  </tbody>\n",
       "</table>\n",
       "</div>"
      ],
      "text/plain": [
       "           nombre         especialidad  edad  visitas\n",
       "0       SFDX Show             Hardware    30   135391\n",
       "1     Sara Nogark     Edición de vídeo    29   109019\n",
       "2    Nate Gentile         Programación    28   120603\n",
       "3       Bettatech         Programación    29   143970\n",
       "4  Antonio Sarosi  Sistemas Operativos    30   105796\n",
       "5      Edgar Pons             Robótica    28   149084\n",
       "6         s4vitar              Hacking    29   103389"
      ]
     },
     "execution_count": 5,
     "metadata": {},
     "output_type": "execute_result"
    }
   ],
   "source": [
    "df_inventado = pd.DataFrame(datos)\n",
    "\n",
    "df_inventado"
   ]
  },
  {
   "cell_type": "markdown",
   "id": "a77a1938",
   "metadata": {},
   "source": [
    "# Explorando un DataFrame"
   ]
  },
  {
   "cell_type": "markdown",
   "id": "0a17b44a",
   "metadata": {},
   "source": [
    "Una vez que tenemos nuestro _DataFrame_ construido, es necesario saber cómo podemos ver todo su contenido, que podemos consultar usando las columnas (Pandas Series), o usando las filas:"
   ]
  },
  {
   "cell_type": "markdown",
   "id": "18daf6aa",
   "metadata": {},
   "source": [
    "## Mostrando columnas"
   ]
  },
  {
   "cell_type": "markdown",
   "id": "b53b81b9",
   "metadata": {},
   "source": [
    "Para mostrar una columna (o _insisto_, un **Pandas Series**), simplemente usaremos un accesor indicando el nombre de la columna:\n",
    "\n",
    "> [df[*nombre_columna*]](https://pandas.pydata.org/docs/getting_started/intro_tutorials/03_subset_data.html)"
   ]
  },
  {
   "cell_type": "code",
   "execution_count": 6,
   "id": "d5be0ee5",
   "metadata": {},
   "outputs": [
    {
     "data": {
      "text/plain": [
       "0         SFDX Show\n",
       "1       Sara Nogark\n",
       "2      Nate Gentile\n",
       "3         Bettatech\n",
       "4    Antonio Sarosi\n",
       "5        Edgar Pons\n",
       "6           s4vitar\n",
       "Name: nombre, dtype: object"
      ]
     },
     "execution_count": 6,
     "metadata": {},
     "output_type": "execute_result"
    }
   ],
   "source": [
    "df['nombre']"
   ]
  },
  {
   "cell_type": "code",
   "execution_count": 7,
   "id": "8d4f8dea",
   "metadata": {},
   "outputs": [
    {
     "data": {
      "text/plain": [
       "pandas.core.series.Series"
      ]
     },
     "execution_count": 7,
     "metadata": {},
     "output_type": "execute_result"
    }
   ],
   "source": [
    "type(df['nombre'])"
   ]
  },
  {
   "cell_type": "markdown",
   "id": "37e9f78b",
   "metadata": {},
   "source": [
    "Este _Pandas Series_ lo podemos usar como un _array_ normal, accediendo a cada elemento también por su número de índice:"
   ]
  },
  {
   "cell_type": "code",
   "execution_count": 8,
   "id": "30305d89",
   "metadata": {},
   "outputs": [
    {
     "data": {
      "text/plain": [
       "'SFDX Show'"
      ]
     },
     "execution_count": 8,
     "metadata": {},
     "output_type": "execute_result"
    }
   ],
   "source": [
    "columna = df['nombre']\n",
    "\n",
    "columna[0]"
   ]
  },
  {
   "cell_type": "markdown",
   "id": "46234c87",
   "metadata": {},
   "source": [
    "También podemos indicar varias columnas para mostrar, pero en este caso no nos devolverá un _Pandas Series_, ya que no es una columna individual, sinó un DataFrame filtrado. Y podemos acceder a estas columnas usando **lista de strings** con los nombres de las columnas:"
   ]
  },
  {
   "cell_type": "code",
   "execution_count": 9,
   "id": "c6bfbf17",
   "metadata": {},
   "outputs": [
    {
     "data": {
      "text/html": [
       "<div>\n",
       "<style scoped>\n",
       "    .dataframe tbody tr th:only-of-type {\n",
       "        vertical-align: middle;\n",
       "    }\n",
       "\n",
       "    .dataframe tbody tr th {\n",
       "        vertical-align: top;\n",
       "    }\n",
       "\n",
       "    .dataframe thead th {\n",
       "        text-align: right;\n",
       "    }\n",
       "</style>\n",
       "<table border=\"1\" class=\"dataframe\">\n",
       "  <thead>\n",
       "    <tr style=\"text-align: right;\">\n",
       "      <th></th>\n",
       "      <th>nombre</th>\n",
       "      <th>especialidad</th>\n",
       "    </tr>\n",
       "  </thead>\n",
       "  <tbody>\n",
       "    <tr>\n",
       "      <th>0</th>\n",
       "      <td>SFDX Show</td>\n",
       "      <td>Hardware</td>\n",
       "    </tr>\n",
       "    <tr>\n",
       "      <th>1</th>\n",
       "      <td>Sara Nogark</td>\n",
       "      <td>Edición de vídeo</td>\n",
       "    </tr>\n",
       "    <tr>\n",
       "      <th>2</th>\n",
       "      <td>Nate Gentile</td>\n",
       "      <td>Programación</td>\n",
       "    </tr>\n",
       "    <tr>\n",
       "      <th>3</th>\n",
       "      <td>Bettatech</td>\n",
       "      <td>Programación</td>\n",
       "    </tr>\n",
       "    <tr>\n",
       "      <th>4</th>\n",
       "      <td>Antonio Sarosi</td>\n",
       "      <td>Sistemas Operativos</td>\n",
       "    </tr>\n",
       "    <tr>\n",
       "      <th>5</th>\n",
       "      <td>Edgar Pons</td>\n",
       "      <td>Robótica</td>\n",
       "    </tr>\n",
       "    <tr>\n",
       "      <th>6</th>\n",
       "      <td>s4vitar</td>\n",
       "      <td>Hacking</td>\n",
       "    </tr>\n",
       "  </tbody>\n",
       "</table>\n",
       "</div>"
      ],
      "text/plain": [
       "           nombre         especialidad\n",
       "0       SFDX Show             Hardware\n",
       "1     Sara Nogark     Edición de vídeo\n",
       "2    Nate Gentile         Programación\n",
       "3       Bettatech         Programación\n",
       "4  Antonio Sarosi  Sistemas Operativos\n",
       "5      Edgar Pons             Robótica\n",
       "6         s4vitar              Hacking"
      ]
     },
     "execution_count": 9,
     "metadata": {},
     "output_type": "execute_result"
    }
   ],
   "source": [
    "df[['nombre', 'especialidad']]"
   ]
  },
  {
   "cell_type": "code",
   "execution_count": 10,
   "id": "18f163db",
   "metadata": {},
   "outputs": [
    {
     "data": {
      "text/plain": [
       "pandas.core.frame.DataFrame"
      ]
     },
     "execution_count": 10,
     "metadata": {},
     "output_type": "execute_result"
    }
   ],
   "source": [
    "type(df[['nombre', 'especialidad']])"
   ]
  },
  {
   "cell_type": "markdown",
   "id": "41f43644",
   "metadata": {},
   "source": [
    "En nuestro caso, tenemos un _DataFrame_ de sólo 7 filas, que podemos ver totalmente en  pantalla. Pero qué pasaría si tuviera 700.000 (que es habitual)? La cosa se complica.\n",
    "\n",
    "Para ello, **Pandas** dispone de una serie de métodos para poder mostrar un número limitado de filas en nuestros dataframes:"
   ]
  },
  {
   "cell_type": "markdown",
   "id": "9e438d14",
   "metadata": {},
   "source": [
    "## Mostrando filas"
   ]
  },
  {
   "cell_type": "markdown",
   "id": "8e772093",
   "metadata": {},
   "source": [
    "### df.head()"
   ]
  },
  {
   "cell_type": "markdown",
   "id": "2ffe1d24",
   "metadata": {},
   "source": [
    "El primer método del que disponemos (y de los más usados), es el de **mostrar las primeras filas**:\n",
    "\n",
    "> [df.head(*n_filas*)](https://pandas.pydata.org/docs/reference/api/pandas.DataFrame.head.html)"
   ]
  },
  {
   "cell_type": "code",
   "execution_count": 11,
   "id": "15abb2be",
   "metadata": {},
   "outputs": [
    {
     "data": {
      "text/html": [
       "<div>\n",
       "<style scoped>\n",
       "    .dataframe tbody tr th:only-of-type {\n",
       "        vertical-align: middle;\n",
       "    }\n",
       "\n",
       "    .dataframe tbody tr th {\n",
       "        vertical-align: top;\n",
       "    }\n",
       "\n",
       "    .dataframe thead th {\n",
       "        text-align: right;\n",
       "    }\n",
       "</style>\n",
       "<table border=\"1\" class=\"dataframe\">\n",
       "  <thead>\n",
       "    <tr style=\"text-align: right;\">\n",
       "      <th></th>\n",
       "      <th>nombre</th>\n",
       "      <th>especialidad</th>\n",
       "      <th>edad</th>\n",
       "      <th>visitas</th>\n",
       "      <th>sexo</th>\n",
       "    </tr>\n",
       "  </thead>\n",
       "  <tbody>\n",
       "    <tr>\n",
       "      <th>0</th>\n",
       "      <td>SFDX Show</td>\n",
       "      <td>Hardware</td>\n",
       "      <td>30</td>\n",
       "      <td>130855</td>\n",
       "      <td>H</td>\n",
       "    </tr>\n",
       "    <tr>\n",
       "      <th>1</th>\n",
       "      <td>Sara Nogark</td>\n",
       "      <td>Edición de vídeo</td>\n",
       "      <td>29</td>\n",
       "      <td>114175</td>\n",
       "      <td>M</td>\n",
       "    </tr>\n",
       "  </tbody>\n",
       "</table>\n",
       "</div>"
      ],
      "text/plain": [
       "        nombre      especialidad  edad  visitas sexo\n",
       "0    SFDX Show          Hardware    30   130855    H\n",
       "1  Sara Nogark  Edición de vídeo    29   114175    M"
      ]
     },
     "execution_count": 11,
     "metadata": {},
     "output_type": "execute_result"
    }
   ],
   "source": [
    "df.head(2)"
   ]
  },
  {
   "cell_type": "markdown",
   "id": "5df0d330",
   "metadata": {},
   "source": [
    "Si no indicamos ningún argumento en este método, por defecto nos mostrará `5` filas"
   ]
  },
  {
   "cell_type": "markdown",
   "id": "0e48f895",
   "metadata": {},
   "source": [
    "### df.tail()"
   ]
  },
  {
   "cell_type": "markdown",
   "id": "c201da50",
   "metadata": {},
   "source": [
    "`df.tail` funciona de la misma manera, sólo que nos mostrará **las últimas filas**:\n",
    "\n",
    "> [df.tail(*n_filas*)](https://pandas.pydata.org/docs/reference/api/pandas.DataFrame.tail.html)"
   ]
  },
  {
   "cell_type": "code",
   "execution_count": 12,
   "id": "44b4d354",
   "metadata": {},
   "outputs": [
    {
     "data": {
      "text/html": [
       "<div>\n",
       "<style scoped>\n",
       "    .dataframe tbody tr th:only-of-type {\n",
       "        vertical-align: middle;\n",
       "    }\n",
       "\n",
       "    .dataframe tbody tr th {\n",
       "        vertical-align: top;\n",
       "    }\n",
       "\n",
       "    .dataframe thead th {\n",
       "        text-align: right;\n",
       "    }\n",
       "</style>\n",
       "<table border=\"1\" class=\"dataframe\">\n",
       "  <thead>\n",
       "    <tr style=\"text-align: right;\">\n",
       "      <th></th>\n",
       "      <th>nombre</th>\n",
       "      <th>especialidad</th>\n",
       "      <th>edad</th>\n",
       "      <th>visitas</th>\n",
       "      <th>sexo</th>\n",
       "    </tr>\n",
       "  </thead>\n",
       "  <tbody>\n",
       "    <tr>\n",
       "      <th>5</th>\n",
       "      <td>Edgar Pons</td>\n",
       "      <td>Robótica</td>\n",
       "      <td>29</td>\n",
       "      <td>143620</td>\n",
       "      <td>H</td>\n",
       "    </tr>\n",
       "    <tr>\n",
       "      <th>6</th>\n",
       "      <td>s4vitar</td>\n",
       "      <td>Hacking</td>\n",
       "      <td>28</td>\n",
       "      <td>132567</td>\n",
       "      <td>H</td>\n",
       "    </tr>\n",
       "  </tbody>\n",
       "</table>\n",
       "</div>"
      ],
      "text/plain": [
       "       nombre especialidad  edad  visitas sexo\n",
       "5  Edgar Pons     Robótica    29   143620    H\n",
       "6     s4vitar      Hacking    28   132567    H"
      ]
     },
     "execution_count": 12,
     "metadata": {},
     "output_type": "execute_result"
    }
   ],
   "source": [
    "df.tail(2)"
   ]
  },
  {
   "cell_type": "markdown",
   "id": "748a6bb2",
   "metadata": {},
   "source": [
    "### df.sample()"
   ]
  },
  {
   "cell_type": "markdown",
   "id": "bfecc044",
   "metadata": {},
   "source": [
    "Este método funciona de manera similar a `df.head`y `df.tail`, sólo que en este caso nos mostrará **filas aleatorias** y desordenadas. Si no indicamos el número de filas, nos devolverá sólo una:\n",
    "\n",
    "> [df.sample(*n_filas*)](https://pandas.pydata.org/docs/reference/api/pandas.DataFrame.sample.html)"
   ]
  },
  {
   "cell_type": "code",
   "execution_count": 13,
   "id": "e36f8116",
   "metadata": {},
   "outputs": [
    {
     "data": {
      "text/html": [
       "<div>\n",
       "<style scoped>\n",
       "    .dataframe tbody tr th:only-of-type {\n",
       "        vertical-align: middle;\n",
       "    }\n",
       "\n",
       "    .dataframe tbody tr th {\n",
       "        vertical-align: top;\n",
       "    }\n",
       "\n",
       "    .dataframe thead th {\n",
       "        text-align: right;\n",
       "    }\n",
       "</style>\n",
       "<table border=\"1\" class=\"dataframe\">\n",
       "  <thead>\n",
       "    <tr style=\"text-align: right;\">\n",
       "      <th></th>\n",
       "      <th>nombre</th>\n",
       "      <th>especialidad</th>\n",
       "      <th>edad</th>\n",
       "      <th>visitas</th>\n",
       "      <th>sexo</th>\n",
       "    </tr>\n",
       "  </thead>\n",
       "  <tbody>\n",
       "    <tr>\n",
       "      <th>6</th>\n",
       "      <td>s4vitar</td>\n",
       "      <td>Hacking</td>\n",
       "      <td>28</td>\n",
       "      <td>132567</td>\n",
       "      <td>H</td>\n",
       "    </tr>\n",
       "  </tbody>\n",
       "</table>\n",
       "</div>"
      ],
      "text/plain": [
       "    nombre especialidad  edad  visitas sexo\n",
       "6  s4vitar      Hacking    28   132567    H"
      ]
     },
     "execution_count": 13,
     "metadata": {},
     "output_type": "execute_result"
    }
   ],
   "source": [
    "df.sample()"
   ]
  },
  {
   "cell_type": "code",
   "execution_count": 14,
   "id": "40de96e9",
   "metadata": {},
   "outputs": [
    {
     "data": {
      "text/html": [
       "<div>\n",
       "<style scoped>\n",
       "    .dataframe tbody tr th:only-of-type {\n",
       "        vertical-align: middle;\n",
       "    }\n",
       "\n",
       "    .dataframe tbody tr th {\n",
       "        vertical-align: top;\n",
       "    }\n",
       "\n",
       "    .dataframe thead th {\n",
       "        text-align: right;\n",
       "    }\n",
       "</style>\n",
       "<table border=\"1\" class=\"dataframe\">\n",
       "  <thead>\n",
       "    <tr style=\"text-align: right;\">\n",
       "      <th></th>\n",
       "      <th>nombre</th>\n",
       "      <th>especialidad</th>\n",
       "      <th>edad</th>\n",
       "      <th>visitas</th>\n",
       "      <th>sexo</th>\n",
       "    </tr>\n",
       "  </thead>\n",
       "  <tbody>\n",
       "    <tr>\n",
       "      <th>6</th>\n",
       "      <td>s4vitar</td>\n",
       "      <td>Hacking</td>\n",
       "      <td>28</td>\n",
       "      <td>132567</td>\n",
       "      <td>H</td>\n",
       "    </tr>\n",
       "    <tr>\n",
       "      <th>2</th>\n",
       "      <td>Nate Gentile</td>\n",
       "      <td>Programación</td>\n",
       "      <td>31</td>\n",
       "      <td>142545</td>\n",
       "      <td>H</td>\n",
       "    </tr>\n",
       "    <tr>\n",
       "      <th>4</th>\n",
       "      <td>Antonio Sarosi</td>\n",
       "      <td>Sistemas Operativos</td>\n",
       "      <td>28</td>\n",
       "      <td>132008</td>\n",
       "      <td>H</td>\n",
       "    </tr>\n",
       "  </tbody>\n",
       "</table>\n",
       "</div>"
      ],
      "text/plain": [
       "           nombre         especialidad  edad  visitas sexo\n",
       "6         s4vitar              Hacking    28   132567    H\n",
       "2    Nate Gentile         Programación    31   142545    H\n",
       "4  Antonio Sarosi  Sistemas Operativos    28   132008    H"
      ]
     },
     "execution_count": 14,
     "metadata": {},
     "output_type": "execute_result"
    }
   ],
   "source": [
    "df.sample(3)"
   ]
  },
  {
   "cell_type": "markdown",
   "id": "61a3440c",
   "metadata": {},
   "source": [
    "## Información"
   ]
  },
  {
   "cell_type": "markdown",
   "id": "fb65127b",
   "metadata": {},
   "source": [
    "Tenemos otras maneras de conseguir información de nuestro _DataFrame_, no sólo viendo un número de filas:"
   ]
  },
  {
   "cell_type": "markdown",
   "id": "d4d981fe",
   "metadata": {},
   "source": [
    "### df.info()"
   ]
  },
  {
   "cell_type": "markdown",
   "id": "05bf722d",
   "metadata": {},
   "source": [
    "Esta función nos muestra información importante de nuestro _DataFrame_:\n",
    "- El número de filas\n",
    "- El número de columnas\n",
    "- Cómo se llama cada columna\n",
    "- Qué tipo de datos contiene\n",
    "- Cuántos valores nulos contiene cada columna\n",
    "\n",
    "> [df.info()](https://pandas.pydata.org/docs/reference/api/pandas.DataFrame.info.html)"
   ]
  },
  {
   "cell_type": "code",
   "execution_count": 15,
   "id": "b81c7f07",
   "metadata": {},
   "outputs": [
    {
     "name": "stdout",
     "output_type": "stream",
     "text": [
      "<class 'pandas.core.frame.DataFrame'>\n",
      "Int64Index: 7 entries, 0 to 6\n",
      "Data columns (total 5 columns):\n",
      " #   Column        Non-Null Count  Dtype \n",
      "---  ------        --------------  ----- \n",
      " 0   nombre        7 non-null      object\n",
      " 1   especialidad  7 non-null      object\n",
      " 2   edad          7 non-null      int64 \n",
      " 3   visitas       7 non-null      int64 \n",
      " 4   sexo          7 non-null      object\n",
      "dtypes: int64(2), object(3)\n",
      "memory usage: 636.0+ bytes\n"
     ]
    }
   ],
   "source": [
    "df.info()"
   ]
  },
  {
   "cell_type": "markdown",
   "id": "164cd695",
   "metadata": {},
   "source": [
    "### df.describe()"
   ]
  },
  {
   "cell_type": "markdown",
   "id": "51cd1800",
   "metadata": {},
   "source": [
    "Si tenemos columnas numéricas, esta función nos permite conocer sus medidas estadísticas principales: cuenta los valores, `media`, `mediana`, `desviacion estandar`, `mínimo`, `1 IQR`, `mediana`, `3 IQR` y `máximo`. \n",
    "\n",
    "> [df.describe()](https://pandas.pydata.org/docs/reference/api/pandas.DataFrame.describe.html)"
   ]
  },
  {
   "cell_type": "code",
   "execution_count": 16,
   "id": "47a8422e",
   "metadata": {},
   "outputs": [
    {
     "data": {
      "text/html": [
       "<div>\n",
       "<style scoped>\n",
       "    .dataframe tbody tr th:only-of-type {\n",
       "        vertical-align: middle;\n",
       "    }\n",
       "\n",
       "    .dataframe tbody tr th {\n",
       "        vertical-align: top;\n",
       "    }\n",
       "\n",
       "    .dataframe thead th {\n",
       "        text-align: right;\n",
       "    }\n",
       "</style>\n",
       "<table border=\"1\" class=\"dataframe\">\n",
       "  <thead>\n",
       "    <tr style=\"text-align: right;\">\n",
       "      <th></th>\n",
       "      <th>edad</th>\n",
       "      <th>visitas</th>\n",
       "    </tr>\n",
       "  </thead>\n",
       "  <tbody>\n",
       "    <tr>\n",
       "      <th>count</th>\n",
       "      <td>7.000000</td>\n",
       "      <td>7.000000</td>\n",
       "    </tr>\n",
       "    <tr>\n",
       "      <th>mean</th>\n",
       "      <td>29.428571</td>\n",
       "      <td>135033.142857</td>\n",
       "    </tr>\n",
       "    <tr>\n",
       "      <th>std</th>\n",
       "      <td>1.272418</td>\n",
       "      <td>11590.990631</td>\n",
       "    </tr>\n",
       "    <tr>\n",
       "      <th>min</th>\n",
       "      <td>28.000000</td>\n",
       "      <td>114175.000000</td>\n",
       "    </tr>\n",
       "    <tr>\n",
       "      <th>25%</th>\n",
       "      <td>28.500000</td>\n",
       "      <td>131431.500000</td>\n",
       "    </tr>\n",
       "    <tr>\n",
       "      <th>50%</th>\n",
       "      <td>29.000000</td>\n",
       "      <td>132567.000000</td>\n",
       "    </tr>\n",
       "    <tr>\n",
       "      <th>75%</th>\n",
       "      <td>30.500000</td>\n",
       "      <td>143082.500000</td>\n",
       "    </tr>\n",
       "    <tr>\n",
       "      <th>max</th>\n",
       "      <td>31.000000</td>\n",
       "      <td>149462.000000</td>\n",
       "    </tr>\n",
       "  </tbody>\n",
       "</table>\n",
       "</div>"
      ],
      "text/plain": [
       "            edad        visitas\n",
       "count   7.000000       7.000000\n",
       "mean   29.428571  135033.142857\n",
       "std     1.272418   11590.990631\n",
       "min    28.000000  114175.000000\n",
       "25%    28.500000  131431.500000\n",
       "50%    29.000000  132567.000000\n",
       "75%    30.500000  143082.500000\n",
       "max    31.000000  149462.000000"
      ]
     },
     "execution_count": 16,
     "metadata": {},
     "output_type": "execute_result"
    }
   ],
   "source": [
    "df.describe()"
   ]
  },
  {
   "cell_type": "markdown",
   "id": "593ee3e9",
   "metadata": {},
   "source": [
    "## Atributos"
   ]
  },
  {
   "cell_type": "markdown",
   "id": "01645312",
   "metadata": {},
   "source": [
    "Los *DataFrames* disponen de _atributos_, como cualquier objeto en **Python**. Éstos nos muestran información básica de nuestro objeto:"
   ]
  },
  {
   "cell_type": "markdown",
   "id": "768ef567",
   "metadata": {},
   "source": [
    "### df.shape"
   ]
  },
  {
   "cell_type": "markdown",
   "id": "9520a559",
   "metadata": {},
   "source": [
    "Devuelve la forma de nuestro _DataFrame_ en forma de tupla:\n",
    "`(n_filas, n_columnas)`"
   ]
  },
  {
   "cell_type": "code",
   "execution_count": 17,
   "id": "1891940e",
   "metadata": {},
   "outputs": [
    {
     "data": {
      "text/plain": [
       "(7, 5)"
      ]
     },
     "execution_count": 17,
     "metadata": {},
     "output_type": "execute_result"
    }
   ],
   "source": [
    "df.shape"
   ]
  },
  {
   "cell_type": "markdown",
   "id": "fae71fad",
   "metadata": {},
   "source": [
    "### df.columns"
   ]
  },
  {
   "cell_type": "markdown",
   "id": "bdd9c466",
   "metadata": {},
   "source": [
    "Si queremos saber los nombres de nuestras columnas, éste atributo nos lo devuelve en forma de _array_:"
   ]
  },
  {
   "cell_type": "code",
   "execution_count": 18,
   "id": "9ea007ce",
   "metadata": {},
   "outputs": [
    {
     "data": {
      "text/plain": [
       "Index(['nombre', 'especialidad', 'edad', 'visitas', 'sexo'], dtype='object')"
      ]
     },
     "execution_count": 18,
     "metadata": {},
     "output_type": "execute_result"
    }
   ],
   "source": [
    "df.columns"
   ]
  },
  {
   "cell_type": "markdown",
   "id": "431eee55",
   "metadata": {},
   "source": [
    "### df.index "
   ]
  },
  {
   "cell_type": "markdown",
   "id": "6fa333e9",
   "metadata": {},
   "source": [
    "Lo mismo ocurre con los índices de nuestro _DataFrame_!"
   ]
  },
  {
   "cell_type": "code",
   "execution_count": 19,
   "id": "84728576",
   "metadata": {},
   "outputs": [
    {
     "data": {
      "text/plain": [
       "Int64Index([0, 1, 2, 3, 4, 5, 6], dtype='int64')"
      ]
     },
     "execution_count": 19,
     "metadata": {},
     "output_type": "execute_result"
    }
   ],
   "source": [
    "df.index"
   ]
  },
  {
   "cell_type": "markdown",
   "id": "7ca2de5c",
   "metadata": {},
   "source": [
    "# Selección de elementos (Subset)"
   ]
  },
  {
   "cell_type": "markdown",
   "id": "59b83e7f",
   "metadata": {},
   "source": [
    "Hay situaciones (muchas) en las que necesitamos acceder a valores concretos en nuestro _DataFrame_ ya sea para consultarlos o modificarlos. Para ello, miraremos 3 de las maneras posibles:"
   ]
  },
  {
   "cell_type": "markdown",
   "id": "687cc7a0",
   "metadata": {},
   "source": [
    "## Acceso mediante etiquetas"
   ]
  },
  {
   "cell_type": "markdown",
   "id": "97072a26",
   "metadata": {},
   "source": [
    "> df[columna][fila]"
   ]
  },
  {
   "cell_type": "code",
   "execution_count": 20,
   "id": "3817f50d",
   "metadata": {},
   "outputs": [
    {
     "data": {
      "text/plain": [
       "'Programación'"
      ]
     },
     "execution_count": 20,
     "metadata": {},
     "output_type": "execute_result"
    }
   ],
   "source": [
    "df['especialidad'][2]"
   ]
  },
  {
   "cell_type": "markdown",
   "id": "c4cd73ec",
   "metadata": {},
   "source": [
    "Para encontrar valores según una condición, usaremos una **Máscara booleana** mediante una **comparación**:"
   ]
  },
  {
   "cell_type": "code",
   "execution_count": 21,
   "id": "430a6a5c",
   "metadata": {},
   "outputs": [
    {
     "data": {
      "text/plain": [
       "0    False\n",
       "1    False\n",
       "2     True\n",
       "3    False\n",
       "4    False\n",
       "5    False\n",
       "6    False\n",
       "Name: nombre, dtype: bool"
      ]
     },
     "execution_count": 21,
     "metadata": {},
     "output_type": "execute_result"
    }
   ],
   "source": [
    "condicion = df['nombre'] == 'Nate Gentile'\n",
    "\n",
    "condicion"
   ]
  },
  {
   "cell_type": "markdown",
   "id": "c8d8d9df",
   "metadata": {},
   "source": [
    "Cuando realizamos una comparación en una columna, **Pandas** nos la devuelve en forma de _pandas series_ sustituyendo los valores por **valores booleanos** (_true, false_) dependiendo si cumplen la condición que le hemos indicado.\n",
    "\n",
    "Luego podemos usar esta condición para mostrar en nuestro DataFrame las filas cuyo valor en su máscara booleana sea `True`:"
   ]
  },
  {
   "cell_type": "code",
   "execution_count": 22,
   "id": "c54f1c97",
   "metadata": {},
   "outputs": [
    {
     "data": {
      "text/html": [
       "<div>\n",
       "<style scoped>\n",
       "    .dataframe tbody tr th:only-of-type {\n",
       "        vertical-align: middle;\n",
       "    }\n",
       "\n",
       "    .dataframe tbody tr th {\n",
       "        vertical-align: top;\n",
       "    }\n",
       "\n",
       "    .dataframe thead th {\n",
       "        text-align: right;\n",
       "    }\n",
       "</style>\n",
       "<table border=\"1\" class=\"dataframe\">\n",
       "  <thead>\n",
       "    <tr style=\"text-align: right;\">\n",
       "      <th></th>\n",
       "      <th>nombre</th>\n",
       "      <th>especialidad</th>\n",
       "      <th>edad</th>\n",
       "      <th>visitas</th>\n",
       "      <th>sexo</th>\n",
       "    </tr>\n",
       "  </thead>\n",
       "  <tbody>\n",
       "    <tr>\n",
       "      <th>2</th>\n",
       "      <td>Nate Gentile</td>\n",
       "      <td>Programación</td>\n",
       "      <td>31</td>\n",
       "      <td>142545</td>\n",
       "      <td>H</td>\n",
       "    </tr>\n",
       "  </tbody>\n",
       "</table>\n",
       "</div>"
      ],
      "text/plain": [
       "         nombre  especialidad  edad  visitas sexo\n",
       "2  Nate Gentile  Programación    31   142545    H"
      ]
     },
     "execution_count": 22,
     "metadata": {},
     "output_type": "execute_result"
    }
   ],
   "source": [
    "df[condicion]"
   ]
  },
  {
   "cell_type": "markdown",
   "id": "dcef5cf8",
   "metadata": {},
   "source": [
    "## df.iloc[]"
   ]
  },
  {
   "cell_type": "markdown",
   "id": "2bc9bde9",
   "metadata": {},
   "source": [
    "La segunda de las maneras para encontrar valores es el método `df.iloc`. iloc, de **I**nteger **LOC**ation, accede a los valores mediante los índices numéricos, tanto de las filas como de las columnas. \n",
    "\n",
    "En este caso, se puede aplicar tanto un valor individual, como un rango de valores para mostrar más de un elemento (como hacemos en las listas). Por ejemplo, el elemento `1` o los elementos `1:3`, teniendo en cuenta que el último elemento **no es inclusivo**, por lo que no se mostrará:"
   ]
  },
  {
   "cell_type": "markdown",
   "id": "096eda0f",
   "metadata": {},
   "source": [
    "> [df.iloc[*rango_indice_filas, rango_indice_columnas*]](https://pandas.pydata.org/docs/reference/api/pandas.DataFrame.iloc.html)"
   ]
  },
  {
   "cell_type": "markdown",
   "id": "ea516b1b",
   "metadata": {},
   "source": [
    "Recordamos también que cuando usamos estos números enteros, empezamos a contar desde el `0`:"
   ]
  },
  {
   "cell_type": "code",
   "execution_count": 23,
   "id": "00a956a2",
   "metadata": {},
   "outputs": [
    {
     "data": {
      "text/plain": [
       "142545"
      ]
     },
     "execution_count": 23,
     "metadata": {},
     "output_type": "execute_result"
    }
   ],
   "source": [
    "df.iloc[2, 3] # tercera fila, cuarta columna"
   ]
  },
  {
   "cell_type": "code",
   "execution_count": 24,
   "id": "cc8cf2c5",
   "metadata": {
    "scrolled": true
   },
   "outputs": [
    {
     "data": {
      "text/plain": [
       "nombre          Nate Gentile\n",
       "especialidad    Programación\n",
       "Name: 2, dtype: object"
      ]
     },
     "execution_count": 24,
     "metadata": {},
     "output_type": "execute_result"
    }
   ],
   "source": [
    "df.iloc[2,0:2] # tercera fila, primera y segunda columna"
   ]
  },
  {
   "cell_type": "markdown",
   "id": "8d82787a",
   "metadata": {},
   "source": [
    "## df.loc[] "
   ]
  },
  {
   "cell_type": "markdown",
   "id": "063f1b4d",
   "metadata": {},
   "source": [
    "Similar al comportamiento de **iloc**, podemos usar `df.loc`. En este caso, **location** funciona mediante etiquetas, es decir, los strings que componen tanto las columnas, como los índices (si hubieran strings). También se puede indicar un rango de elementos!"
   ]
  },
  {
   "cell_type": "markdown",
   "id": "abd96e7d",
   "metadata": {},
   "source": [
    "> [df.loc[etiqueta_indice, etiqueta_columna]](https://pandas.pydata.org/docs/reference/api/pandas.DataFrame.loc.html)"
   ]
  },
  {
   "cell_type": "code",
   "execution_count": 25,
   "id": "576c33f3",
   "metadata": {},
   "outputs": [
    {
     "data": {
      "text/plain": [
       "nombre          Nate Gentile\n",
       "especialidad    Programación\n",
       "Name: 2, dtype: object"
      ]
     },
     "execution_count": 25,
     "metadata": {},
     "output_type": "execute_result"
    }
   ],
   "source": [
    "df.loc[2, 'nombre':'especialidad']"
   ]
  },
  {
   "cell_type": "markdown",
   "id": "ba821b5c",
   "metadata": {},
   "source": [
    "# Manipulación de Datos"
   ]
  },
  {
   "cell_type": "markdown",
   "id": "779dee37",
   "metadata": {},
   "source": [
    "Existen varias funciones y métodos para realizar cambios en nuestro _DataFrame_, lo que se conoce como la **manipulación de datos**:"
   ]
  },
  {
   "cell_type": "markdown",
   "id": "11d75b99",
   "metadata": {},
   "source": [
    "## df.set_index()"
   ]
  },
  {
   "cell_type": "markdown",
   "id": "6c64d627",
   "metadata": {},
   "source": [
    "Hay casos en los que nos interesa cambiar nuestro índice, habitualmente numérico, por otra columna de las que tenemos en nuestro _DataFrame_, como por ejemplo _nombres_ o _fechas_. Para ello, podemos usar el método `df.set_index()`:\n",
    "\n",
    "> [df.set_index(*nombre_columna*)](https://pandas.pydata.org/docs/reference/api/pandas.DataFrame.set_index.html)"
   ]
  },
  {
   "cell_type": "code",
   "execution_count": 26,
   "id": "0dd5e48a",
   "metadata": {},
   "outputs": [
    {
     "data": {
      "text/html": [
       "<div>\n",
       "<style scoped>\n",
       "    .dataframe tbody tr th:only-of-type {\n",
       "        vertical-align: middle;\n",
       "    }\n",
       "\n",
       "    .dataframe tbody tr th {\n",
       "        vertical-align: top;\n",
       "    }\n",
       "\n",
       "    .dataframe thead th {\n",
       "        text-align: right;\n",
       "    }\n",
       "</style>\n",
       "<table border=\"1\" class=\"dataframe\">\n",
       "  <thead>\n",
       "    <tr style=\"text-align: right;\">\n",
       "      <th></th>\n",
       "      <th>nombre</th>\n",
       "      <th>especialidad</th>\n",
       "      <th>edad</th>\n",
       "      <th>visitas</th>\n",
       "      <th>sexo</th>\n",
       "    </tr>\n",
       "  </thead>\n",
       "  <tbody>\n",
       "    <tr>\n",
       "      <th>0</th>\n",
       "      <td>SFDX Show</td>\n",
       "      <td>Hardware</td>\n",
       "      <td>30</td>\n",
       "      <td>130855</td>\n",
       "      <td>H</td>\n",
       "    </tr>\n",
       "    <tr>\n",
       "      <th>1</th>\n",
       "      <td>Sara Nogark</td>\n",
       "      <td>Edición de vídeo</td>\n",
       "      <td>29</td>\n",
       "      <td>114175</td>\n",
       "      <td>M</td>\n",
       "    </tr>\n",
       "    <tr>\n",
       "      <th>2</th>\n",
       "      <td>Nate Gentile</td>\n",
       "      <td>Programación</td>\n",
       "      <td>31</td>\n",
       "      <td>142545</td>\n",
       "      <td>H</td>\n",
       "    </tr>\n",
       "    <tr>\n",
       "      <th>3</th>\n",
       "      <td>Bettatech</td>\n",
       "      <td>Programación</td>\n",
       "      <td>31</td>\n",
       "      <td>149462</td>\n",
       "      <td>H</td>\n",
       "    </tr>\n",
       "    <tr>\n",
       "      <th>4</th>\n",
       "      <td>Antonio Sarosi</td>\n",
       "      <td>Sistemas Operativos</td>\n",
       "      <td>28</td>\n",
       "      <td>132008</td>\n",
       "      <td>H</td>\n",
       "    </tr>\n",
       "  </tbody>\n",
       "</table>\n",
       "</div>"
      ],
      "text/plain": [
       "           nombre         especialidad  edad  visitas sexo\n",
       "0       SFDX Show             Hardware    30   130855    H\n",
       "1     Sara Nogark     Edición de vídeo    29   114175    M\n",
       "2    Nate Gentile         Programación    31   142545    H\n",
       "3       Bettatech         Programación    31   149462    H\n",
       "4  Antonio Sarosi  Sistemas Operativos    28   132008    H"
      ]
     },
     "execution_count": 26,
     "metadata": {},
     "output_type": "execute_result"
    }
   ],
   "source": [
    "df.head()"
   ]
  },
  {
   "cell_type": "code",
   "execution_count": 27,
   "id": "ceef2f66",
   "metadata": {},
   "outputs": [
    {
     "data": {
      "text/html": [
       "<div>\n",
       "<style scoped>\n",
       "    .dataframe tbody tr th:only-of-type {\n",
       "        vertical-align: middle;\n",
       "    }\n",
       "\n",
       "    .dataframe tbody tr th {\n",
       "        vertical-align: top;\n",
       "    }\n",
       "\n",
       "    .dataframe thead th {\n",
       "        text-align: right;\n",
       "    }\n",
       "</style>\n",
       "<table border=\"1\" class=\"dataframe\">\n",
       "  <thead>\n",
       "    <tr style=\"text-align: right;\">\n",
       "      <th></th>\n",
       "      <th>especialidad</th>\n",
       "      <th>edad</th>\n",
       "      <th>visitas</th>\n",
       "      <th>sexo</th>\n",
       "    </tr>\n",
       "    <tr>\n",
       "      <th>nombre</th>\n",
       "      <th></th>\n",
       "      <th></th>\n",
       "      <th></th>\n",
       "      <th></th>\n",
       "    </tr>\n",
       "  </thead>\n",
       "  <tbody>\n",
       "    <tr>\n",
       "      <th>SFDX Show</th>\n",
       "      <td>Hardware</td>\n",
       "      <td>30</td>\n",
       "      <td>130855</td>\n",
       "      <td>H</td>\n",
       "    </tr>\n",
       "    <tr>\n",
       "      <th>Sara Nogark</th>\n",
       "      <td>Edición de vídeo</td>\n",
       "      <td>29</td>\n",
       "      <td>114175</td>\n",
       "      <td>M</td>\n",
       "    </tr>\n",
       "    <tr>\n",
       "      <th>Nate Gentile</th>\n",
       "      <td>Programación</td>\n",
       "      <td>31</td>\n",
       "      <td>142545</td>\n",
       "      <td>H</td>\n",
       "    </tr>\n",
       "    <tr>\n",
       "      <th>Bettatech</th>\n",
       "      <td>Programación</td>\n",
       "      <td>31</td>\n",
       "      <td>149462</td>\n",
       "      <td>H</td>\n",
       "    </tr>\n",
       "    <tr>\n",
       "      <th>Antonio Sarosi</th>\n",
       "      <td>Sistemas Operativos</td>\n",
       "      <td>28</td>\n",
       "      <td>132008</td>\n",
       "      <td>H</td>\n",
       "    </tr>\n",
       "    <tr>\n",
       "      <th>Edgar Pons</th>\n",
       "      <td>Robótica</td>\n",
       "      <td>29</td>\n",
       "      <td>143620</td>\n",
       "      <td>H</td>\n",
       "    </tr>\n",
       "    <tr>\n",
       "      <th>s4vitar</th>\n",
       "      <td>Hacking</td>\n",
       "      <td>28</td>\n",
       "      <td>132567</td>\n",
       "      <td>H</td>\n",
       "    </tr>\n",
       "  </tbody>\n",
       "</table>\n",
       "</div>"
      ],
      "text/plain": [
       "                       especialidad  edad  visitas sexo\n",
       "nombre                                                 \n",
       "SFDX Show                  Hardware    30   130855    H\n",
       "Sara Nogark        Edición de vídeo    29   114175    M\n",
       "Nate Gentile           Programación    31   142545    H\n",
       "Bettatech              Programación    31   149462    H\n",
       "Antonio Sarosi  Sistemas Operativos    28   132008    H\n",
       "Edgar Pons                 Robótica    29   143620    H\n",
       "s4vitar                     Hacking    28   132567    H"
      ]
     },
     "execution_count": 27,
     "metadata": {},
     "output_type": "execute_result"
    }
   ],
   "source": [
    "df.set_index('nombre')"
   ]
  },
  {
   "cell_type": "markdown",
   "id": "c4d9c42f",
   "metadata": {},
   "source": [
    "Una vez hemos usado `df.set_index()`, si volvemos a llamar a nuestro DataFrame, veremos que los cambios no se han realizado:"
   ]
  },
  {
   "cell_type": "code",
   "execution_count": 28,
   "id": "b998fb34",
   "metadata": {},
   "outputs": [
    {
     "data": {
      "text/html": [
       "<div>\n",
       "<style scoped>\n",
       "    .dataframe tbody tr th:only-of-type {\n",
       "        vertical-align: middle;\n",
       "    }\n",
       "\n",
       "    .dataframe tbody tr th {\n",
       "        vertical-align: top;\n",
       "    }\n",
       "\n",
       "    .dataframe thead th {\n",
       "        text-align: right;\n",
       "    }\n",
       "</style>\n",
       "<table border=\"1\" class=\"dataframe\">\n",
       "  <thead>\n",
       "    <tr style=\"text-align: right;\">\n",
       "      <th></th>\n",
       "      <th>nombre</th>\n",
       "      <th>especialidad</th>\n",
       "      <th>edad</th>\n",
       "      <th>visitas</th>\n",
       "      <th>sexo</th>\n",
       "    </tr>\n",
       "  </thead>\n",
       "  <tbody>\n",
       "    <tr>\n",
       "      <th>0</th>\n",
       "      <td>SFDX Show</td>\n",
       "      <td>Hardware</td>\n",
       "      <td>30</td>\n",
       "      <td>130855</td>\n",
       "      <td>H</td>\n",
       "    </tr>\n",
       "    <tr>\n",
       "      <th>1</th>\n",
       "      <td>Sara Nogark</td>\n",
       "      <td>Edición de vídeo</td>\n",
       "      <td>29</td>\n",
       "      <td>114175</td>\n",
       "      <td>M</td>\n",
       "    </tr>\n",
       "    <tr>\n",
       "      <th>2</th>\n",
       "      <td>Nate Gentile</td>\n",
       "      <td>Programación</td>\n",
       "      <td>31</td>\n",
       "      <td>142545</td>\n",
       "      <td>H</td>\n",
       "    </tr>\n",
       "    <tr>\n",
       "      <th>3</th>\n",
       "      <td>Bettatech</td>\n",
       "      <td>Programación</td>\n",
       "      <td>31</td>\n",
       "      <td>149462</td>\n",
       "      <td>H</td>\n",
       "    </tr>\n",
       "    <tr>\n",
       "      <th>4</th>\n",
       "      <td>Antonio Sarosi</td>\n",
       "      <td>Sistemas Operativos</td>\n",
       "      <td>28</td>\n",
       "      <td>132008</td>\n",
       "      <td>H</td>\n",
       "    </tr>\n",
       "  </tbody>\n",
       "</table>\n",
       "</div>"
      ],
      "text/plain": [
       "           nombre         especialidad  edad  visitas sexo\n",
       "0       SFDX Show             Hardware    30   130855    H\n",
       "1     Sara Nogark     Edición de vídeo    29   114175    M\n",
       "2    Nate Gentile         Programación    31   142545    H\n",
       "3       Bettatech         Programación    31   149462    H\n",
       "4  Antonio Sarosi  Sistemas Operativos    28   132008    H"
      ]
     },
     "execution_count": 28,
     "metadata": {},
     "output_type": "execute_result"
    }
   ],
   "source": [
    "df.head()"
   ]
  },
  {
   "cell_type": "markdown",
   "id": "665ff8f5",
   "metadata": {},
   "source": [
    "Esto sucede porque hay un _argumento_ dentro de éste y otros métodos de manipulación que define si el cambio se hace en el propio _DataFrame_, o sea, si realmente quieres modificarlo. Este argumento se llama `inplace` y por defecto viene desactivado. Si queremos activarlo, tendremos que indicarlo explícitamente:"
   ]
  },
  {
   "cell_type": "code",
   "execution_count": 29,
   "id": "3355a1b6",
   "metadata": {},
   "outputs": [],
   "source": [
    "df.set_index('nombre', inplace=True)"
   ]
  },
  {
   "cell_type": "code",
   "execution_count": 30,
   "id": "81c2f6e2",
   "metadata": {},
   "outputs": [
    {
     "data": {
      "text/html": [
       "<div>\n",
       "<style scoped>\n",
       "    .dataframe tbody tr th:only-of-type {\n",
       "        vertical-align: middle;\n",
       "    }\n",
       "\n",
       "    .dataframe tbody tr th {\n",
       "        vertical-align: top;\n",
       "    }\n",
       "\n",
       "    .dataframe thead th {\n",
       "        text-align: right;\n",
       "    }\n",
       "</style>\n",
       "<table border=\"1\" class=\"dataframe\">\n",
       "  <thead>\n",
       "    <tr style=\"text-align: right;\">\n",
       "      <th></th>\n",
       "      <th>especialidad</th>\n",
       "      <th>edad</th>\n",
       "      <th>visitas</th>\n",
       "      <th>sexo</th>\n",
       "    </tr>\n",
       "    <tr>\n",
       "      <th>nombre</th>\n",
       "      <th></th>\n",
       "      <th></th>\n",
       "      <th></th>\n",
       "      <th></th>\n",
       "    </tr>\n",
       "  </thead>\n",
       "  <tbody>\n",
       "    <tr>\n",
       "      <th>SFDX Show</th>\n",
       "      <td>Hardware</td>\n",
       "      <td>30</td>\n",
       "      <td>130855</td>\n",
       "      <td>H</td>\n",
       "    </tr>\n",
       "    <tr>\n",
       "      <th>Sara Nogark</th>\n",
       "      <td>Edición de vídeo</td>\n",
       "      <td>29</td>\n",
       "      <td>114175</td>\n",
       "      <td>M</td>\n",
       "    </tr>\n",
       "    <tr>\n",
       "      <th>Nate Gentile</th>\n",
       "      <td>Programación</td>\n",
       "      <td>31</td>\n",
       "      <td>142545</td>\n",
       "      <td>H</td>\n",
       "    </tr>\n",
       "    <tr>\n",
       "      <th>Bettatech</th>\n",
       "      <td>Programación</td>\n",
       "      <td>31</td>\n",
       "      <td>149462</td>\n",
       "      <td>H</td>\n",
       "    </tr>\n",
       "    <tr>\n",
       "      <th>Antonio Sarosi</th>\n",
       "      <td>Sistemas Operativos</td>\n",
       "      <td>28</td>\n",
       "      <td>132008</td>\n",
       "      <td>H</td>\n",
       "    </tr>\n",
       "  </tbody>\n",
       "</table>\n",
       "</div>"
      ],
      "text/plain": [
       "                       especialidad  edad  visitas sexo\n",
       "nombre                                                 \n",
       "SFDX Show                  Hardware    30   130855    H\n",
       "Sara Nogark        Edición de vídeo    29   114175    M\n",
       "Nate Gentile           Programación    31   142545    H\n",
       "Bettatech              Programación    31   149462    H\n",
       "Antonio Sarosi  Sistemas Operativos    28   132008    H"
      ]
     },
     "execution_count": 30,
     "metadata": {},
     "output_type": "execute_result"
    }
   ],
   "source": [
    "df.head() # Ahora sí que se han realizado permanentemente los cambios"
   ]
  },
  {
   "cell_type": "markdown",
   "id": "61e02fbf",
   "metadata": {},
   "source": [
    "## df.reset_index()"
   ]
  },
  {
   "cell_type": "markdown",
   "id": "f059a47f",
   "metadata": {},
   "source": [
    "Si queremos volver a dejar nuestro índice de la manera por defecto, es decir, utilizando un rango numérico, podemos usar este método. Observa que también requiere del argumento `inplace` para que los cambios sean permanentes:\n",
    "\n",
    "> [df.reset_index(inplace=False)](https://pandas.pydata.org/docs/reference/api/pandas.DataFrame.reset_index.html)"
   ]
  },
  {
   "cell_type": "code",
   "execution_count": 31,
   "id": "0e2b83ae",
   "metadata": {},
   "outputs": [
    {
     "data": {
      "text/html": [
       "<div>\n",
       "<style scoped>\n",
       "    .dataframe tbody tr th:only-of-type {\n",
       "        vertical-align: middle;\n",
       "    }\n",
       "\n",
       "    .dataframe tbody tr th {\n",
       "        vertical-align: top;\n",
       "    }\n",
       "\n",
       "    .dataframe thead th {\n",
       "        text-align: right;\n",
       "    }\n",
       "</style>\n",
       "<table border=\"1\" class=\"dataframe\">\n",
       "  <thead>\n",
       "    <tr style=\"text-align: right;\">\n",
       "      <th></th>\n",
       "      <th>nombre</th>\n",
       "      <th>especialidad</th>\n",
       "      <th>edad</th>\n",
       "      <th>visitas</th>\n",
       "      <th>sexo</th>\n",
       "    </tr>\n",
       "  </thead>\n",
       "  <tbody>\n",
       "    <tr>\n",
       "      <th>0</th>\n",
       "      <td>SFDX Show</td>\n",
       "      <td>Hardware</td>\n",
       "      <td>30</td>\n",
       "      <td>130855</td>\n",
       "      <td>H</td>\n",
       "    </tr>\n",
       "    <tr>\n",
       "      <th>1</th>\n",
       "      <td>Sara Nogark</td>\n",
       "      <td>Edición de vídeo</td>\n",
       "      <td>29</td>\n",
       "      <td>114175</td>\n",
       "      <td>M</td>\n",
       "    </tr>\n",
       "    <tr>\n",
       "      <th>2</th>\n",
       "      <td>Nate Gentile</td>\n",
       "      <td>Programación</td>\n",
       "      <td>31</td>\n",
       "      <td>142545</td>\n",
       "      <td>H</td>\n",
       "    </tr>\n",
       "    <tr>\n",
       "      <th>3</th>\n",
       "      <td>Bettatech</td>\n",
       "      <td>Programación</td>\n",
       "      <td>31</td>\n",
       "      <td>149462</td>\n",
       "      <td>H</td>\n",
       "    </tr>\n",
       "    <tr>\n",
       "      <th>4</th>\n",
       "      <td>Antonio Sarosi</td>\n",
       "      <td>Sistemas Operativos</td>\n",
       "      <td>28</td>\n",
       "      <td>132008</td>\n",
       "      <td>H</td>\n",
       "    </tr>\n",
       "    <tr>\n",
       "      <th>5</th>\n",
       "      <td>Edgar Pons</td>\n",
       "      <td>Robótica</td>\n",
       "      <td>29</td>\n",
       "      <td>143620</td>\n",
       "      <td>H</td>\n",
       "    </tr>\n",
       "    <tr>\n",
       "      <th>6</th>\n",
       "      <td>s4vitar</td>\n",
       "      <td>Hacking</td>\n",
       "      <td>28</td>\n",
       "      <td>132567</td>\n",
       "      <td>H</td>\n",
       "    </tr>\n",
       "  </tbody>\n",
       "</table>\n",
       "</div>"
      ],
      "text/plain": [
       "           nombre         especialidad  edad  visitas sexo\n",
       "0       SFDX Show             Hardware    30   130855    H\n",
       "1     Sara Nogark     Edición de vídeo    29   114175    M\n",
       "2    Nate Gentile         Programación    31   142545    H\n",
       "3       Bettatech         Programación    31   149462    H\n",
       "4  Antonio Sarosi  Sistemas Operativos    28   132008    H\n",
       "5      Edgar Pons             Robótica    29   143620    H\n",
       "6         s4vitar              Hacking    28   132567    H"
      ]
     },
     "execution_count": 31,
     "metadata": {},
     "output_type": "execute_result"
    }
   ],
   "source": [
    "df.reset_index()"
   ]
  },
  {
   "cell_type": "code",
   "execution_count": 32,
   "id": "36d3b5a7",
   "metadata": {},
   "outputs": [
    {
     "data": {
      "text/html": [
       "<div>\n",
       "<style scoped>\n",
       "    .dataframe tbody tr th:only-of-type {\n",
       "        vertical-align: middle;\n",
       "    }\n",
       "\n",
       "    .dataframe tbody tr th {\n",
       "        vertical-align: top;\n",
       "    }\n",
       "\n",
       "    .dataframe thead th {\n",
       "        text-align: right;\n",
       "    }\n",
       "</style>\n",
       "<table border=\"1\" class=\"dataframe\">\n",
       "  <thead>\n",
       "    <tr style=\"text-align: right;\">\n",
       "      <th></th>\n",
       "      <th>especialidad</th>\n",
       "      <th>edad</th>\n",
       "      <th>visitas</th>\n",
       "      <th>sexo</th>\n",
       "    </tr>\n",
       "    <tr>\n",
       "      <th>nombre</th>\n",
       "      <th></th>\n",
       "      <th></th>\n",
       "      <th></th>\n",
       "      <th></th>\n",
       "    </tr>\n",
       "  </thead>\n",
       "  <tbody>\n",
       "    <tr>\n",
       "      <th>SFDX Show</th>\n",
       "      <td>Hardware</td>\n",
       "      <td>30</td>\n",
       "      <td>130855</td>\n",
       "      <td>H</td>\n",
       "    </tr>\n",
       "    <tr>\n",
       "      <th>Sara Nogark</th>\n",
       "      <td>Edición de vídeo</td>\n",
       "      <td>29</td>\n",
       "      <td>114175</td>\n",
       "      <td>M</td>\n",
       "    </tr>\n",
       "    <tr>\n",
       "      <th>Nate Gentile</th>\n",
       "      <td>Programación</td>\n",
       "      <td>31</td>\n",
       "      <td>142545</td>\n",
       "      <td>H</td>\n",
       "    </tr>\n",
       "    <tr>\n",
       "      <th>Bettatech</th>\n",
       "      <td>Programación</td>\n",
       "      <td>31</td>\n",
       "      <td>149462</td>\n",
       "      <td>H</td>\n",
       "    </tr>\n",
       "    <tr>\n",
       "      <th>Antonio Sarosi</th>\n",
       "      <td>Sistemas Operativos</td>\n",
       "      <td>28</td>\n",
       "      <td>132008</td>\n",
       "      <td>H</td>\n",
       "    </tr>\n",
       "  </tbody>\n",
       "</table>\n",
       "</div>"
      ],
      "text/plain": [
       "                       especialidad  edad  visitas sexo\n",
       "nombre                                                 \n",
       "SFDX Show                  Hardware    30   130855    H\n",
       "Sara Nogark        Edición de vídeo    29   114175    M\n",
       "Nate Gentile           Programación    31   142545    H\n",
       "Bettatech              Programación    31   149462    H\n",
       "Antonio Sarosi  Sistemas Operativos    28   132008    H"
      ]
     },
     "execution_count": 32,
     "metadata": {},
     "output_type": "execute_result"
    }
   ],
   "source": [
    "df.head() #No hay cambios"
   ]
  },
  {
   "cell_type": "code",
   "execution_count": 33,
   "id": "450bb9a4",
   "metadata": {},
   "outputs": [],
   "source": [
    "df.reset_index(inplace=True) # Usando inplace el cambio es permanente:"
   ]
  },
  {
   "cell_type": "code",
   "execution_count": 34,
   "id": "a510c3e7",
   "metadata": {},
   "outputs": [
    {
     "data": {
      "text/html": [
       "<div>\n",
       "<style scoped>\n",
       "    .dataframe tbody tr th:only-of-type {\n",
       "        vertical-align: middle;\n",
       "    }\n",
       "\n",
       "    .dataframe tbody tr th {\n",
       "        vertical-align: top;\n",
       "    }\n",
       "\n",
       "    .dataframe thead th {\n",
       "        text-align: right;\n",
       "    }\n",
       "</style>\n",
       "<table border=\"1\" class=\"dataframe\">\n",
       "  <thead>\n",
       "    <tr style=\"text-align: right;\">\n",
       "      <th></th>\n",
       "      <th>nombre</th>\n",
       "      <th>especialidad</th>\n",
       "      <th>edad</th>\n",
       "      <th>visitas</th>\n",
       "      <th>sexo</th>\n",
       "    </tr>\n",
       "  </thead>\n",
       "  <tbody>\n",
       "    <tr>\n",
       "      <th>0</th>\n",
       "      <td>SFDX Show</td>\n",
       "      <td>Hardware</td>\n",
       "      <td>30</td>\n",
       "      <td>130855</td>\n",
       "      <td>H</td>\n",
       "    </tr>\n",
       "    <tr>\n",
       "      <th>1</th>\n",
       "      <td>Sara Nogark</td>\n",
       "      <td>Edición de vídeo</td>\n",
       "      <td>29</td>\n",
       "      <td>114175</td>\n",
       "      <td>M</td>\n",
       "    </tr>\n",
       "    <tr>\n",
       "      <th>2</th>\n",
       "      <td>Nate Gentile</td>\n",
       "      <td>Programación</td>\n",
       "      <td>31</td>\n",
       "      <td>142545</td>\n",
       "      <td>H</td>\n",
       "    </tr>\n",
       "    <tr>\n",
       "      <th>3</th>\n",
       "      <td>Bettatech</td>\n",
       "      <td>Programación</td>\n",
       "      <td>31</td>\n",
       "      <td>149462</td>\n",
       "      <td>H</td>\n",
       "    </tr>\n",
       "    <tr>\n",
       "      <th>4</th>\n",
       "      <td>Antonio Sarosi</td>\n",
       "      <td>Sistemas Operativos</td>\n",
       "      <td>28</td>\n",
       "      <td>132008</td>\n",
       "      <td>H</td>\n",
       "    </tr>\n",
       "  </tbody>\n",
       "</table>\n",
       "</div>"
      ],
      "text/plain": [
       "           nombre         especialidad  edad  visitas sexo\n",
       "0       SFDX Show             Hardware    30   130855    H\n",
       "1     Sara Nogark     Edición de vídeo    29   114175    M\n",
       "2    Nate Gentile         Programación    31   142545    H\n",
       "3       Bettatech         Programación    31   149462    H\n",
       "4  Antonio Sarosi  Sistemas Operativos    28   132008    H"
      ]
     },
     "execution_count": 34,
     "metadata": {},
     "output_type": "execute_result"
    }
   ],
   "source": [
    "df.head()"
   ]
  },
  {
   "cell_type": "markdown",
   "id": "1f8e8ad0",
   "metadata": {},
   "source": [
    "## df.apply()"
   ]
  },
  {
   "cell_type": "markdown",
   "id": "ac885af9",
   "metadata": {},
   "source": [
    "En **Pandas** disponemos de una navaja suiza que nos permite usar cualquier función, incluso de otras librerías, para modificar los valores de nuestras columnas: el método `.apply()`.\n",
    "\n",
    "> [df.apply(*nombre_funcion*)](https://pandas.pydata.org/docs/reference/api/pandas.DataFrame.apply.html)\n",
    "\n",
    "_nota: hay algunas funciones que por su naturaleza no funcionarán con un pd.Series o con un pd.Dataframe_"
   ]
  },
  {
   "cell_type": "code",
   "execution_count": 35,
   "id": "9d24fe1f",
   "metadata": {},
   "outputs": [
    {
     "data": {
      "text/plain": [
       "0    5.477226\n",
       "1    5.385165\n",
       "2    5.567764\n",
       "3    5.567764\n",
       "4    5.291503\n",
       "5    5.385165\n",
       "6    5.291503\n",
       "Name: edad, dtype: float64"
      ]
     },
     "execution_count": 35,
     "metadata": {},
     "output_type": "execute_result"
    }
   ],
   "source": [
    "df['edad'].apply(np.sqrt)"
   ]
  },
  {
   "cell_type": "markdown",
   "id": "367bb8d1",
   "metadata": {},
   "source": [
    "De lo mejorcito de este método es poder usar [funciones Lambda](https://towardsdatascience.com/lambda-functions-with-practical-examples-in-python-45934f3653a8) (nativas de Python) para cualquier uso:"
   ]
  },
  {
   "cell_type": "code",
   "execution_count": 36,
   "id": "49436416",
   "metadata": {},
   "outputs": [
    {
     "data": {
      "text/plain": [
       "0               Hardware\n",
       "1       Edición de vídeo\n",
       "2           Programación\n",
       "3           Programación\n",
       "4    Sistemas Operativos\n",
       "5               Robótica\n",
       "6                Hacking\n",
       "Name: especialidad, dtype: object"
      ]
     },
     "execution_count": 36,
     "metadata": {},
     "output_type": "execute_result"
    }
   ],
   "source": [
    "df['especialidad']"
   ]
  },
  {
   "cell_type": "code",
   "execution_count": 37,
   "id": "7884178d",
   "metadata": {},
   "outputs": [
    {
     "data": {
      "text/plain": [
       "0               HARDWARE\n",
       "1       EDICIÓN DE VÍDEO\n",
       "2           PROGRAMACIÓN\n",
       "3           PROGRAMACIÓN\n",
       "4    SISTEMAS OPERATIVOS\n",
       "5               ROBÓTICA\n",
       "6                HACKING\n",
       "Name: especialidad, dtype: object"
      ]
     },
     "execution_count": 37,
     "metadata": {},
     "output_type": "execute_result"
    }
   ],
   "source": [
    "df['especialidad'].apply(lambda x: x.upper())"
   ]
  },
  {
   "cell_type": "markdown",
   "id": "ee2e2d9e",
   "metadata": {},
   "source": [
    "Podemos también usarla con un _DataFrame_:"
   ]
  },
  {
   "cell_type": "code",
   "execution_count": 38,
   "id": "bfa06ea8",
   "metadata": {},
   "outputs": [
    {
     "data": {
      "text/html": [
       "<div>\n",
       "<style scoped>\n",
       "    .dataframe tbody tr th:only-of-type {\n",
       "        vertical-align: middle;\n",
       "    }\n",
       "\n",
       "    .dataframe tbody tr th {\n",
       "        vertical-align: top;\n",
       "    }\n",
       "\n",
       "    .dataframe thead th {\n",
       "        text-align: right;\n",
       "    }\n",
       "</style>\n",
       "<table border=\"1\" class=\"dataframe\">\n",
       "  <thead>\n",
       "    <tr style=\"text-align: right;\">\n",
       "      <th></th>\n",
       "      <th>nombre</th>\n",
       "      <th>especialidad</th>\n",
       "    </tr>\n",
       "  </thead>\n",
       "  <tbody>\n",
       "    <tr>\n",
       "      <th>0</th>\n",
       "      <td>SFDX SHOW</td>\n",
       "      <td>HARDWARE</td>\n",
       "    </tr>\n",
       "    <tr>\n",
       "      <th>1</th>\n",
       "      <td>SARA NOGARK</td>\n",
       "      <td>EDICIÓN DE VÍDEO</td>\n",
       "    </tr>\n",
       "    <tr>\n",
       "      <th>2</th>\n",
       "      <td>NATE GENTILE</td>\n",
       "      <td>PROGRAMACIÓN</td>\n",
       "    </tr>\n",
       "    <tr>\n",
       "      <th>3</th>\n",
       "      <td>BETTATECH</td>\n",
       "      <td>PROGRAMACIÓN</td>\n",
       "    </tr>\n",
       "    <tr>\n",
       "      <th>4</th>\n",
       "      <td>ANTONIO SAROSI</td>\n",
       "      <td>SISTEMAS OPERATIVOS</td>\n",
       "    </tr>\n",
       "    <tr>\n",
       "      <th>5</th>\n",
       "      <td>EDGAR PONS</td>\n",
       "      <td>ROBÓTICA</td>\n",
       "    </tr>\n",
       "    <tr>\n",
       "      <th>6</th>\n",
       "      <td>S4VITAR</td>\n",
       "      <td>HACKING</td>\n",
       "    </tr>\n",
       "  </tbody>\n",
       "</table>\n",
       "</div>"
      ],
      "text/plain": [
       "           nombre         especialidad\n",
       "0       SFDX SHOW             HARDWARE\n",
       "1     SARA NOGARK     EDICIÓN DE VÍDEO\n",
       "2    NATE GENTILE         PROGRAMACIÓN\n",
       "3       BETTATECH         PROGRAMACIÓN\n",
       "4  ANTONIO SAROSI  SISTEMAS OPERATIVOS\n",
       "5      EDGAR PONS             ROBÓTICA\n",
       "6         S4VITAR              HACKING"
      ]
     },
     "execution_count": 38,
     "metadata": {},
     "output_type": "execute_result"
    }
   ],
   "source": [
    "df[['nombre','especialidad']].apply(lambda x: x.str.upper())"
   ]
  },
  {
   "cell_type": "markdown",
   "id": "d92bab15",
   "metadata": {},
   "source": [
    "## df.drop()"
   ]
  },
  {
   "cell_type": "markdown",
   "id": "970d3a83",
   "metadata": {},
   "source": [
    "Si necesitamos eliminar tanto filas como columnas de nuestro _DataFrame_, `df.drop()` es nuestro método. Es importante tener en cuenta que también contiene el argumento `inplace`, **por lo que los cambios no se harán efectivos si no lo indicamos explícitamente**!\n",
    "\n",
    "> [df.drop(*nombre_columna o fila*, _axis_)](https://pandas.pydata.org/docs/reference/api/pandas.DataFrame.drop.html)\n",
    "\n",
    "El parámetro `axis` indica el eje en el que queremos eliminar la información. Le indicaremos `0` si es una fila, y `1` si es una columna:"
   ]
  },
  {
   "cell_type": "code",
   "execution_count": 39,
   "id": "f211a820",
   "metadata": {},
   "outputs": [
    {
     "data": {
      "text/html": [
       "<div>\n",
       "<style scoped>\n",
       "    .dataframe tbody tr th:only-of-type {\n",
       "        vertical-align: middle;\n",
       "    }\n",
       "\n",
       "    .dataframe tbody tr th {\n",
       "        vertical-align: top;\n",
       "    }\n",
       "\n",
       "    .dataframe thead th {\n",
       "        text-align: right;\n",
       "    }\n",
       "</style>\n",
       "<table border=\"1\" class=\"dataframe\">\n",
       "  <thead>\n",
       "    <tr style=\"text-align: right;\">\n",
       "      <th></th>\n",
       "      <th>nombre</th>\n",
       "      <th>especialidad</th>\n",
       "      <th>edad</th>\n",
       "      <th>visitas</th>\n",
       "      <th>sexo</th>\n",
       "    </tr>\n",
       "  </thead>\n",
       "  <tbody>\n",
       "    <tr>\n",
       "      <th>0</th>\n",
       "      <td>SFDX Show</td>\n",
       "      <td>Hardware</td>\n",
       "      <td>30</td>\n",
       "      <td>130855</td>\n",
       "      <td>H</td>\n",
       "    </tr>\n",
       "    <tr>\n",
       "      <th>1</th>\n",
       "      <td>Sara Nogark</td>\n",
       "      <td>Edición de vídeo</td>\n",
       "      <td>29</td>\n",
       "      <td>114175</td>\n",
       "      <td>M</td>\n",
       "    </tr>\n",
       "    <tr>\n",
       "      <th>3</th>\n",
       "      <td>Bettatech</td>\n",
       "      <td>Programación</td>\n",
       "      <td>31</td>\n",
       "      <td>149462</td>\n",
       "      <td>H</td>\n",
       "    </tr>\n",
       "    <tr>\n",
       "      <th>4</th>\n",
       "      <td>Antonio Sarosi</td>\n",
       "      <td>Sistemas Operativos</td>\n",
       "      <td>28</td>\n",
       "      <td>132008</td>\n",
       "      <td>H</td>\n",
       "    </tr>\n",
       "    <tr>\n",
       "      <th>5</th>\n",
       "      <td>Edgar Pons</td>\n",
       "      <td>Robótica</td>\n",
       "      <td>29</td>\n",
       "      <td>143620</td>\n",
       "      <td>H</td>\n",
       "    </tr>\n",
       "    <tr>\n",
       "      <th>6</th>\n",
       "      <td>s4vitar</td>\n",
       "      <td>Hacking</td>\n",
       "      <td>28</td>\n",
       "      <td>132567</td>\n",
       "      <td>H</td>\n",
       "    </tr>\n",
       "  </tbody>\n",
       "</table>\n",
       "</div>"
      ],
      "text/plain": [
       "           nombre         especialidad  edad  visitas sexo\n",
       "0       SFDX Show             Hardware    30   130855    H\n",
       "1     Sara Nogark     Edición de vídeo    29   114175    M\n",
       "3       Bettatech         Programación    31   149462    H\n",
       "4  Antonio Sarosi  Sistemas Operativos    28   132008    H\n",
       "5      Edgar Pons             Robótica    29   143620    H\n",
       "6         s4vitar              Hacking    28   132567    H"
      ]
     },
     "execution_count": 39,
     "metadata": {},
     "output_type": "execute_result"
    }
   ],
   "source": [
    "df.drop(2, axis=0) # vemos que el índice 2 ya no está"
   ]
  },
  {
   "cell_type": "code",
   "execution_count": 40,
   "id": "ff9875a5",
   "metadata": {},
   "outputs": [
    {
     "data": {
      "text/html": [
       "<div>\n",
       "<style scoped>\n",
       "    .dataframe tbody tr th:only-of-type {\n",
       "        vertical-align: middle;\n",
       "    }\n",
       "\n",
       "    .dataframe tbody tr th {\n",
       "        vertical-align: top;\n",
       "    }\n",
       "\n",
       "    .dataframe thead th {\n",
       "        text-align: right;\n",
       "    }\n",
       "</style>\n",
       "<table border=\"1\" class=\"dataframe\">\n",
       "  <thead>\n",
       "    <tr style=\"text-align: right;\">\n",
       "      <th></th>\n",
       "      <th>especialidad</th>\n",
       "      <th>edad</th>\n",
       "      <th>visitas</th>\n",
       "      <th>sexo</th>\n",
       "    </tr>\n",
       "  </thead>\n",
       "  <tbody>\n",
       "    <tr>\n",
       "      <th>0</th>\n",
       "      <td>Hardware</td>\n",
       "      <td>30</td>\n",
       "      <td>130855</td>\n",
       "      <td>H</td>\n",
       "    </tr>\n",
       "    <tr>\n",
       "      <th>1</th>\n",
       "      <td>Edición de vídeo</td>\n",
       "      <td>29</td>\n",
       "      <td>114175</td>\n",
       "      <td>M</td>\n",
       "    </tr>\n",
       "    <tr>\n",
       "      <th>2</th>\n",
       "      <td>Programación</td>\n",
       "      <td>31</td>\n",
       "      <td>142545</td>\n",
       "      <td>H</td>\n",
       "    </tr>\n",
       "    <tr>\n",
       "      <th>3</th>\n",
       "      <td>Programación</td>\n",
       "      <td>31</td>\n",
       "      <td>149462</td>\n",
       "      <td>H</td>\n",
       "    </tr>\n",
       "    <tr>\n",
       "      <th>4</th>\n",
       "      <td>Sistemas Operativos</td>\n",
       "      <td>28</td>\n",
       "      <td>132008</td>\n",
       "      <td>H</td>\n",
       "    </tr>\n",
       "    <tr>\n",
       "      <th>5</th>\n",
       "      <td>Robótica</td>\n",
       "      <td>29</td>\n",
       "      <td>143620</td>\n",
       "      <td>H</td>\n",
       "    </tr>\n",
       "    <tr>\n",
       "      <th>6</th>\n",
       "      <td>Hacking</td>\n",
       "      <td>28</td>\n",
       "      <td>132567</td>\n",
       "      <td>H</td>\n",
       "    </tr>\n",
       "  </tbody>\n",
       "</table>\n",
       "</div>"
      ],
      "text/plain": [
       "          especialidad  edad  visitas sexo\n",
       "0             Hardware    30   130855    H\n",
       "1     Edición de vídeo    29   114175    M\n",
       "2         Programación    31   142545    H\n",
       "3         Programación    31   149462    H\n",
       "4  Sistemas Operativos    28   132008    H\n",
       "5             Robótica    29   143620    H\n",
       "6              Hacking    28   132567    H"
      ]
     },
     "execution_count": 40,
     "metadata": {},
     "output_type": "execute_result"
    }
   ],
   "source": [
    "df.drop('nombre', axis=1) # Hemos eliminado la columna 'nombre'"
   ]
  },
  {
   "cell_type": "markdown",
   "id": "c9b4a30e",
   "metadata": {},
   "source": [
    "## df.drop_duplicates()"
   ]
  },
  {
   "cell_type": "markdown",
   "id": "882c3240",
   "metadata": {},
   "source": [
    "Si nuestro _DataFrame_ tiene valores duplicados en cualquiera de sus columnas, podemos eliminarlo con `df.drop_duplicates()`. Esta función eliminará la fila entera donde tengamos el duplicado. Además podemos decidir si eliminar el primer duplicado que encuentra, o el último, entre otras opciones:\n",
    "\n",
    "> [df.drop_duplicates(*nombre_columna*, _keep_)](https://pandas.pydata.org/docs/reference/api/pandas.DataFrame.drop_duplicates.html)"
   ]
  },
  {
   "cell_type": "code",
   "execution_count": 41,
   "id": "bd5ef0b3",
   "metadata": {},
   "outputs": [
    {
     "data": {
      "text/html": [
       "<div>\n",
       "<style scoped>\n",
       "    .dataframe tbody tr th:only-of-type {\n",
       "        vertical-align: middle;\n",
       "    }\n",
       "\n",
       "    .dataframe tbody tr th {\n",
       "        vertical-align: top;\n",
       "    }\n",
       "\n",
       "    .dataframe thead th {\n",
       "        text-align: right;\n",
       "    }\n",
       "</style>\n",
       "<table border=\"1\" class=\"dataframe\">\n",
       "  <thead>\n",
       "    <tr style=\"text-align: right;\">\n",
       "      <th></th>\n",
       "      <th>nombre</th>\n",
       "      <th>especialidad</th>\n",
       "      <th>edad</th>\n",
       "      <th>visitas</th>\n",
       "      <th>sexo</th>\n",
       "    </tr>\n",
       "  </thead>\n",
       "  <tbody>\n",
       "    <tr>\n",
       "      <th>0</th>\n",
       "      <td>SFDX Show</td>\n",
       "      <td>Hardware</td>\n",
       "      <td>30</td>\n",
       "      <td>130855</td>\n",
       "      <td>H</td>\n",
       "    </tr>\n",
       "    <tr>\n",
       "      <th>1</th>\n",
       "      <td>Sara Nogark</td>\n",
       "      <td>Edición de vídeo</td>\n",
       "      <td>29</td>\n",
       "      <td>114175</td>\n",
       "      <td>M</td>\n",
       "    </tr>\n",
       "    <tr>\n",
       "      <th>2</th>\n",
       "      <td>Nate Gentile</td>\n",
       "      <td>Programación</td>\n",
       "      <td>31</td>\n",
       "      <td>142545</td>\n",
       "      <td>H</td>\n",
       "    </tr>\n",
       "    <tr>\n",
       "      <th>3</th>\n",
       "      <td>Bettatech</td>\n",
       "      <td>Programación</td>\n",
       "      <td>31</td>\n",
       "      <td>149462</td>\n",
       "      <td>H</td>\n",
       "    </tr>\n",
       "    <tr>\n",
       "      <th>4</th>\n",
       "      <td>Antonio Sarosi</td>\n",
       "      <td>Sistemas Operativos</td>\n",
       "      <td>28</td>\n",
       "      <td>132008</td>\n",
       "      <td>H</td>\n",
       "    </tr>\n",
       "    <tr>\n",
       "      <th>5</th>\n",
       "      <td>Edgar Pons</td>\n",
       "      <td>Robótica</td>\n",
       "      <td>29</td>\n",
       "      <td>143620</td>\n",
       "      <td>H</td>\n",
       "    </tr>\n",
       "    <tr>\n",
       "      <th>6</th>\n",
       "      <td>s4vitar</td>\n",
       "      <td>Hacking</td>\n",
       "      <td>28</td>\n",
       "      <td>132567</td>\n",
       "      <td>H</td>\n",
       "    </tr>\n",
       "  </tbody>\n",
       "</table>\n",
       "</div>"
      ],
      "text/plain": [
       "           nombre         especialidad  edad  visitas sexo\n",
       "0       SFDX Show             Hardware    30   130855    H\n",
       "1     Sara Nogark     Edición de vídeo    29   114175    M\n",
       "2    Nate Gentile         Programación    31   142545    H\n",
       "3       Bettatech         Programación    31   149462    H\n",
       "4  Antonio Sarosi  Sistemas Operativos    28   132008    H\n",
       "5      Edgar Pons             Robótica    29   143620    H\n",
       "6         s4vitar              Hacking    28   132567    H"
      ]
     },
     "execution_count": 41,
     "metadata": {},
     "output_type": "execute_result"
    }
   ],
   "source": [
    "df"
   ]
  },
  {
   "cell_type": "code",
   "execution_count": 42,
   "id": "d9de91e5",
   "metadata": {},
   "outputs": [
    {
     "data": {
      "text/html": [
       "<div>\n",
       "<style scoped>\n",
       "    .dataframe tbody tr th:only-of-type {\n",
       "        vertical-align: middle;\n",
       "    }\n",
       "\n",
       "    .dataframe tbody tr th {\n",
       "        vertical-align: top;\n",
       "    }\n",
       "\n",
       "    .dataframe thead th {\n",
       "        text-align: right;\n",
       "    }\n",
       "</style>\n",
       "<table border=\"1\" class=\"dataframe\">\n",
       "  <thead>\n",
       "    <tr style=\"text-align: right;\">\n",
       "      <th></th>\n",
       "      <th>nombre</th>\n",
       "      <th>especialidad</th>\n",
       "      <th>edad</th>\n",
       "      <th>visitas</th>\n",
       "      <th>sexo</th>\n",
       "    </tr>\n",
       "  </thead>\n",
       "  <tbody>\n",
       "    <tr>\n",
       "      <th>0</th>\n",
       "      <td>SFDX Show</td>\n",
       "      <td>Hardware</td>\n",
       "      <td>30</td>\n",
       "      <td>130855</td>\n",
       "      <td>H</td>\n",
       "    </tr>\n",
       "    <tr>\n",
       "      <th>1</th>\n",
       "      <td>Sara Nogark</td>\n",
       "      <td>Edición de vídeo</td>\n",
       "      <td>29</td>\n",
       "      <td>114175</td>\n",
       "      <td>M</td>\n",
       "    </tr>\n",
       "    <tr>\n",
       "      <th>2</th>\n",
       "      <td>Nate Gentile</td>\n",
       "      <td>Programación</td>\n",
       "      <td>31</td>\n",
       "      <td>142545</td>\n",
       "      <td>H</td>\n",
       "    </tr>\n",
       "    <tr>\n",
       "      <th>4</th>\n",
       "      <td>Antonio Sarosi</td>\n",
       "      <td>Sistemas Operativos</td>\n",
       "      <td>28</td>\n",
       "      <td>132008</td>\n",
       "      <td>H</td>\n",
       "    </tr>\n",
       "  </tbody>\n",
       "</table>\n",
       "</div>"
      ],
      "text/plain": [
       "           nombre         especialidad  edad  visitas sexo\n",
       "0       SFDX Show             Hardware    30   130855    H\n",
       "1     Sara Nogark     Edición de vídeo    29   114175    M\n",
       "2    Nate Gentile         Programación    31   142545    H\n",
       "4  Antonio Sarosi  Sistemas Operativos    28   132008    H"
      ]
     },
     "execution_count": 42,
     "metadata": {},
     "output_type": "execute_result"
    }
   ],
   "source": [
    "df.drop_duplicates('edad', keep='first')"
   ]
  },
  {
   "cell_type": "markdown",
   "id": "25c0346f",
   "metadata": {},
   "source": [
    "Si nos fijamos, en la columna `edad` ahora sólo tenemos un valor de cada, y se ha mantenido el primero de cada uno, por orden!\n",
    "\n",
    "_nota: esta función también necesita el 'famoso' `inplace=True`  para confirmar los cambios!_"
   ]
  },
  {
   "cell_type": "markdown",
   "id": "aefd21fd",
   "metadata": {},
   "source": [
    "## df.rename()"
   ]
  },
  {
   "cell_type": "markdown",
   "id": "3e356304",
   "metadata": {},
   "source": [
    "Si necesitamos cambiar el nombre a nuestras columnas podemos usar este método. Al argumento `columns`, debemos pasarle un _diccionario_ con las llaves como columnas a cambiar, y los valores como el nuevo nombre de estas columnas:\n",
    "\n",
    "> [df.rename(columns=_diccionario_)](https://pandas.pydata.org/docs/reference/api/pandas.DataFrame.rename.html)\n"
   ]
  },
  {
   "cell_type": "code",
   "execution_count": 43,
   "id": "65c6bca7",
   "metadata": {},
   "outputs": [
    {
     "data": {
      "text/html": [
       "<div>\n",
       "<style scoped>\n",
       "    .dataframe tbody tr th:only-of-type {\n",
       "        vertical-align: middle;\n",
       "    }\n",
       "\n",
       "    .dataframe tbody tr th {\n",
       "        vertical-align: top;\n",
       "    }\n",
       "\n",
       "    .dataframe thead th {\n",
       "        text-align: right;\n",
       "    }\n",
       "</style>\n",
       "<table border=\"1\" class=\"dataframe\">\n",
       "  <thead>\n",
       "    <tr style=\"text-align: right;\">\n",
       "      <th></th>\n",
       "      <th>nombre</th>\n",
       "      <th>especialidad</th>\n",
       "      <th>edad</th>\n",
       "      <th>visitas</th>\n",
       "      <th>sexo</th>\n",
       "    </tr>\n",
       "  </thead>\n",
       "  <tbody>\n",
       "    <tr>\n",
       "      <th>0</th>\n",
       "      <td>SFDX Show</td>\n",
       "      <td>Hardware</td>\n",
       "      <td>30</td>\n",
       "      <td>130855</td>\n",
       "      <td>H</td>\n",
       "    </tr>\n",
       "  </tbody>\n",
       "</table>\n",
       "</div>"
      ],
      "text/plain": [
       "      nombre especialidad  edad  visitas sexo\n",
       "0  SFDX Show     Hardware    30   130855    H"
      ]
     },
     "execution_count": 43,
     "metadata": {},
     "output_type": "execute_result"
    }
   ],
   "source": [
    "df.head(1)"
   ]
  },
  {
   "cell_type": "code",
   "execution_count": 44,
   "id": "f00fd72d",
   "metadata": {},
   "outputs": [
    {
     "data": {
      "text/html": [
       "<div>\n",
       "<style scoped>\n",
       "    .dataframe tbody tr th:only-of-type {\n",
       "        vertical-align: middle;\n",
       "    }\n",
       "\n",
       "    .dataframe tbody tr th {\n",
       "        vertical-align: top;\n",
       "    }\n",
       "\n",
       "    .dataframe thead th {\n",
       "        text-align: right;\n",
       "    }\n",
       "</style>\n",
       "<table border=\"1\" class=\"dataframe\">\n",
       "  <thead>\n",
       "    <tr style=\"text-align: right;\">\n",
       "      <th></th>\n",
       "      <th>nombre</th>\n",
       "      <th>especialidad</th>\n",
       "      <th>viejo</th>\n",
       "      <th>visitas</th>\n",
       "      <th>sexo</th>\n",
       "    </tr>\n",
       "  </thead>\n",
       "  <tbody>\n",
       "    <tr>\n",
       "      <th>0</th>\n",
       "      <td>SFDX Show</td>\n",
       "      <td>Hardware</td>\n",
       "      <td>30</td>\n",
       "      <td>130855</td>\n",
       "      <td>H</td>\n",
       "    </tr>\n",
       "  </tbody>\n",
       "</table>\n",
       "</div>"
      ],
      "text/plain": [
       "      nombre especialidad  viejo  visitas sexo\n",
       "0  SFDX Show     Hardware     30   130855    H"
      ]
     },
     "execution_count": 44,
     "metadata": {},
     "output_type": "execute_result"
    }
   ],
   "source": [
    "df.rename(columns={'edad':'viejo'}).head(1)"
   ]
  },
  {
   "cell_type": "markdown",
   "id": "054f3063",
   "metadata": {},
   "source": [
    "# Ordenación"
   ]
  },
  {
   "cell_type": "markdown",
   "id": "b645078d",
   "metadata": {},
   "source": [
    "En ocasiones querremos ordenar nuestro _DataFrame_ según los valores de alguna columna. Y tenemos varios métodos para ello!"
   ]
  },
  {
   "cell_type": "markdown",
   "id": "0df66632",
   "metadata": {},
   "source": [
    "## df.sort_values()"
   ]
  },
  {
   "cell_type": "markdown",
   "id": "346a3265",
   "metadata": {},
   "source": [
    "Este método permite seleccionar una columna y ordenar todo el _DataFrame_ dependiendo del orden de los valores de ésta. Además, podemos indicar si lo queremos en orden _ascendente_ (de menor a mayor) o viceversa. Esto se lo indicamos con el parámetro `ascending`, que por defecto viene **activado** (`True`):\n",
    "\n",
    "> [df.sort_values(by=*nombre_columna*, ascending = `True`)](https://pandas.pydata.org/docs/reference/api/pandas.DataFrame.sort_values.html)"
   ]
  },
  {
   "cell_type": "code",
   "execution_count": 45,
   "id": "3d7ccc20",
   "metadata": {},
   "outputs": [
    {
     "data": {
      "text/html": [
       "<div>\n",
       "<style scoped>\n",
       "    .dataframe tbody tr th:only-of-type {\n",
       "        vertical-align: middle;\n",
       "    }\n",
       "\n",
       "    .dataframe tbody tr th {\n",
       "        vertical-align: top;\n",
       "    }\n",
       "\n",
       "    .dataframe thead th {\n",
       "        text-align: right;\n",
       "    }\n",
       "</style>\n",
       "<table border=\"1\" class=\"dataframe\">\n",
       "  <thead>\n",
       "    <tr style=\"text-align: right;\">\n",
       "      <th></th>\n",
       "      <th>nombre</th>\n",
       "      <th>especialidad</th>\n",
       "      <th>edad</th>\n",
       "      <th>visitas</th>\n",
       "      <th>sexo</th>\n",
       "    </tr>\n",
       "  </thead>\n",
       "  <tbody>\n",
       "    <tr>\n",
       "      <th>1</th>\n",
       "      <td>Sara Nogark</td>\n",
       "      <td>Edición de vídeo</td>\n",
       "      <td>29</td>\n",
       "      <td>114175</td>\n",
       "      <td>M</td>\n",
       "    </tr>\n",
       "    <tr>\n",
       "      <th>0</th>\n",
       "      <td>SFDX Show</td>\n",
       "      <td>Hardware</td>\n",
       "      <td>30</td>\n",
       "      <td>130855</td>\n",
       "      <td>H</td>\n",
       "    </tr>\n",
       "    <tr>\n",
       "      <th>4</th>\n",
       "      <td>Antonio Sarosi</td>\n",
       "      <td>Sistemas Operativos</td>\n",
       "      <td>28</td>\n",
       "      <td>132008</td>\n",
       "      <td>H</td>\n",
       "    </tr>\n",
       "    <tr>\n",
       "      <th>6</th>\n",
       "      <td>s4vitar</td>\n",
       "      <td>Hacking</td>\n",
       "      <td>28</td>\n",
       "      <td>132567</td>\n",
       "      <td>H</td>\n",
       "    </tr>\n",
       "    <tr>\n",
       "      <th>2</th>\n",
       "      <td>Nate Gentile</td>\n",
       "      <td>Programación</td>\n",
       "      <td>31</td>\n",
       "      <td>142545</td>\n",
       "      <td>H</td>\n",
       "    </tr>\n",
       "    <tr>\n",
       "      <th>5</th>\n",
       "      <td>Edgar Pons</td>\n",
       "      <td>Robótica</td>\n",
       "      <td>29</td>\n",
       "      <td>143620</td>\n",
       "      <td>H</td>\n",
       "    </tr>\n",
       "    <tr>\n",
       "      <th>3</th>\n",
       "      <td>Bettatech</td>\n",
       "      <td>Programación</td>\n",
       "      <td>31</td>\n",
       "      <td>149462</td>\n",
       "      <td>H</td>\n",
       "    </tr>\n",
       "  </tbody>\n",
       "</table>\n",
       "</div>"
      ],
      "text/plain": [
       "           nombre         especialidad  edad  visitas sexo\n",
       "1     Sara Nogark     Edición de vídeo    29   114175    M\n",
       "0       SFDX Show             Hardware    30   130855    H\n",
       "4  Antonio Sarosi  Sistemas Operativos    28   132008    H\n",
       "6         s4vitar              Hacking    28   132567    H\n",
       "2    Nate Gentile         Programación    31   142545    H\n",
       "5      Edgar Pons             Robótica    29   143620    H\n",
       "3       Bettatech         Programación    31   149462    H"
      ]
     },
     "execution_count": 45,
     "metadata": {},
     "output_type": "execute_result"
    }
   ],
   "source": [
    "# Ordenando por visitas, de menor a mayor\n",
    "\n",
    "df.sort_values(by='visitas')"
   ]
  },
  {
   "cell_type": "code",
   "execution_count": 46,
   "id": "e5439e4b",
   "metadata": {},
   "outputs": [
    {
     "data": {
      "text/html": [
       "<div>\n",
       "<style scoped>\n",
       "    .dataframe tbody tr th:only-of-type {\n",
       "        vertical-align: middle;\n",
       "    }\n",
       "\n",
       "    .dataframe tbody tr th {\n",
       "        vertical-align: top;\n",
       "    }\n",
       "\n",
       "    .dataframe thead th {\n",
       "        text-align: right;\n",
       "    }\n",
       "</style>\n",
       "<table border=\"1\" class=\"dataframe\">\n",
       "  <thead>\n",
       "    <tr style=\"text-align: right;\">\n",
       "      <th></th>\n",
       "      <th>nombre</th>\n",
       "      <th>especialidad</th>\n",
       "      <th>edad</th>\n",
       "      <th>visitas</th>\n",
       "      <th>sexo</th>\n",
       "    </tr>\n",
       "  </thead>\n",
       "  <tbody>\n",
       "    <tr>\n",
       "      <th>2</th>\n",
       "      <td>Nate Gentile</td>\n",
       "      <td>Programación</td>\n",
       "      <td>31</td>\n",
       "      <td>142545</td>\n",
       "      <td>H</td>\n",
       "    </tr>\n",
       "    <tr>\n",
       "      <th>3</th>\n",
       "      <td>Bettatech</td>\n",
       "      <td>Programación</td>\n",
       "      <td>31</td>\n",
       "      <td>149462</td>\n",
       "      <td>H</td>\n",
       "    </tr>\n",
       "    <tr>\n",
       "      <th>0</th>\n",
       "      <td>SFDX Show</td>\n",
       "      <td>Hardware</td>\n",
       "      <td>30</td>\n",
       "      <td>130855</td>\n",
       "      <td>H</td>\n",
       "    </tr>\n",
       "    <tr>\n",
       "      <th>1</th>\n",
       "      <td>Sara Nogark</td>\n",
       "      <td>Edición de vídeo</td>\n",
       "      <td>29</td>\n",
       "      <td>114175</td>\n",
       "      <td>M</td>\n",
       "    </tr>\n",
       "    <tr>\n",
       "      <th>5</th>\n",
       "      <td>Edgar Pons</td>\n",
       "      <td>Robótica</td>\n",
       "      <td>29</td>\n",
       "      <td>143620</td>\n",
       "      <td>H</td>\n",
       "    </tr>\n",
       "    <tr>\n",
       "      <th>4</th>\n",
       "      <td>Antonio Sarosi</td>\n",
       "      <td>Sistemas Operativos</td>\n",
       "      <td>28</td>\n",
       "      <td>132008</td>\n",
       "      <td>H</td>\n",
       "    </tr>\n",
       "    <tr>\n",
       "      <th>6</th>\n",
       "      <td>s4vitar</td>\n",
       "      <td>Hacking</td>\n",
       "      <td>28</td>\n",
       "      <td>132567</td>\n",
       "      <td>H</td>\n",
       "    </tr>\n",
       "  </tbody>\n",
       "</table>\n",
       "</div>"
      ],
      "text/plain": [
       "           nombre         especialidad  edad  visitas sexo\n",
       "2    Nate Gentile         Programación    31   142545    H\n",
       "3       Bettatech         Programación    31   149462    H\n",
       "0       SFDX Show             Hardware    30   130855    H\n",
       "1     Sara Nogark     Edición de vídeo    29   114175    M\n",
       "5      Edgar Pons             Robótica    29   143620    H\n",
       "4  Antonio Sarosi  Sistemas Operativos    28   132008    H\n",
       "6         s4vitar              Hacking    28   132567    H"
      ]
     },
     "execution_count": 46,
     "metadata": {},
     "output_type": "execute_result"
    }
   ],
   "source": [
    "# Ordenando por edad, de mayor a menor:\n",
    "\n",
    "df.sort_values(by='edad', ascending = False)"
   ]
  },
  {
   "cell_type": "markdown",
   "id": "e2f420e1",
   "metadata": {},
   "source": [
    "También podemos indicar que ordene por dos columnas o más, pasándole una lista con los strings indicando las columnas. La primera que indiquemos tendrá prioridad sobre la siguiente:"
   ]
  },
  {
   "cell_type": "code",
   "execution_count": 47,
   "id": "fbf212c8",
   "metadata": {},
   "outputs": [
    {
     "data": {
      "text/html": [
       "<div>\n",
       "<style scoped>\n",
       "    .dataframe tbody tr th:only-of-type {\n",
       "        vertical-align: middle;\n",
       "    }\n",
       "\n",
       "    .dataframe tbody tr th {\n",
       "        vertical-align: top;\n",
       "    }\n",
       "\n",
       "    .dataframe thead th {\n",
       "        text-align: right;\n",
       "    }\n",
       "</style>\n",
       "<table border=\"1\" class=\"dataframe\">\n",
       "  <thead>\n",
       "    <tr style=\"text-align: right;\">\n",
       "      <th></th>\n",
       "      <th>nombre</th>\n",
       "      <th>especialidad</th>\n",
       "      <th>edad</th>\n",
       "      <th>visitas</th>\n",
       "      <th>sexo</th>\n",
       "    </tr>\n",
       "  </thead>\n",
       "  <tbody>\n",
       "    <tr>\n",
       "      <th>3</th>\n",
       "      <td>Bettatech</td>\n",
       "      <td>Programación</td>\n",
       "      <td>31</td>\n",
       "      <td>149462</td>\n",
       "      <td>H</td>\n",
       "    </tr>\n",
       "    <tr>\n",
       "      <th>5</th>\n",
       "      <td>Edgar Pons</td>\n",
       "      <td>Robótica</td>\n",
       "      <td>29</td>\n",
       "      <td>143620</td>\n",
       "      <td>H</td>\n",
       "    </tr>\n",
       "    <tr>\n",
       "      <th>2</th>\n",
       "      <td>Nate Gentile</td>\n",
       "      <td>Programación</td>\n",
       "      <td>31</td>\n",
       "      <td>142545</td>\n",
       "      <td>H</td>\n",
       "    </tr>\n",
       "    <tr>\n",
       "      <th>6</th>\n",
       "      <td>s4vitar</td>\n",
       "      <td>Hacking</td>\n",
       "      <td>28</td>\n",
       "      <td>132567</td>\n",
       "      <td>H</td>\n",
       "    </tr>\n",
       "    <tr>\n",
       "      <th>4</th>\n",
       "      <td>Antonio Sarosi</td>\n",
       "      <td>Sistemas Operativos</td>\n",
       "      <td>28</td>\n",
       "      <td>132008</td>\n",
       "      <td>H</td>\n",
       "    </tr>\n",
       "    <tr>\n",
       "      <th>0</th>\n",
       "      <td>SFDX Show</td>\n",
       "      <td>Hardware</td>\n",
       "      <td>30</td>\n",
       "      <td>130855</td>\n",
       "      <td>H</td>\n",
       "    </tr>\n",
       "    <tr>\n",
       "      <th>1</th>\n",
       "      <td>Sara Nogark</td>\n",
       "      <td>Edición de vídeo</td>\n",
       "      <td>29</td>\n",
       "      <td>114175</td>\n",
       "      <td>M</td>\n",
       "    </tr>\n",
       "  </tbody>\n",
       "</table>\n",
       "</div>"
      ],
      "text/plain": [
       "           nombre         especialidad  edad  visitas sexo\n",
       "3       Bettatech         Programación    31   149462    H\n",
       "5      Edgar Pons             Robótica    29   143620    H\n",
       "2    Nate Gentile         Programación    31   142545    H\n",
       "6         s4vitar              Hacking    28   132567    H\n",
       "4  Antonio Sarosi  Sistemas Operativos    28   132008    H\n",
       "0       SFDX Show             Hardware    30   130855    H\n",
       "1     Sara Nogark     Edición de vídeo    29   114175    M"
      ]
     },
     "execution_count": 47,
     "metadata": {},
     "output_type": "execute_result"
    }
   ],
   "source": [
    "# Ordenando primero por visitas, luego por edad:\n",
    "\n",
    "df.sort_values(by=['visitas', 'edad'], ascending=False)"
   ]
  },
  {
   "cell_type": "markdown",
   "id": "b253373d",
   "metadata": {},
   "source": [
    "## df.nlargest()"
   ]
  },
  {
   "cell_type": "markdown",
   "id": "97a7883c",
   "metadata": {},
   "source": [
    "De forma más simplificada, `df.nlargest()` nos devolverá valores más altos que le indiquemos. En este caso, también debemos decirle cuántos queremos!\n",
    "\n",
    "> [df.nlargest(*n_valores*, _columna_)](https://pandas.pydata.org/docs/reference/api/pandas.DataFrame.nlargest.html)\n"
   ]
  },
  {
   "cell_type": "code",
   "execution_count": 48,
   "id": "d73ac696",
   "metadata": {},
   "outputs": [
    {
     "data": {
      "text/html": [
       "<div>\n",
       "<style scoped>\n",
       "    .dataframe tbody tr th:only-of-type {\n",
       "        vertical-align: middle;\n",
       "    }\n",
       "\n",
       "    .dataframe tbody tr th {\n",
       "        vertical-align: top;\n",
       "    }\n",
       "\n",
       "    .dataframe thead th {\n",
       "        text-align: right;\n",
       "    }\n",
       "</style>\n",
       "<table border=\"1\" class=\"dataframe\">\n",
       "  <thead>\n",
       "    <tr style=\"text-align: right;\">\n",
       "      <th></th>\n",
       "      <th>nombre</th>\n",
       "      <th>especialidad</th>\n",
       "      <th>edad</th>\n",
       "      <th>visitas</th>\n",
       "      <th>sexo</th>\n",
       "    </tr>\n",
       "  </thead>\n",
       "  <tbody>\n",
       "    <tr>\n",
       "      <th>3</th>\n",
       "      <td>Bettatech</td>\n",
       "      <td>Programación</td>\n",
       "      <td>31</td>\n",
       "      <td>149462</td>\n",
       "      <td>H</td>\n",
       "    </tr>\n",
       "    <tr>\n",
       "      <th>5</th>\n",
       "      <td>Edgar Pons</td>\n",
       "      <td>Robótica</td>\n",
       "      <td>29</td>\n",
       "      <td>143620</td>\n",
       "      <td>H</td>\n",
       "    </tr>\n",
       "    <tr>\n",
       "      <th>2</th>\n",
       "      <td>Nate Gentile</td>\n",
       "      <td>Programación</td>\n",
       "      <td>31</td>\n",
       "      <td>142545</td>\n",
       "      <td>H</td>\n",
       "    </tr>\n",
       "  </tbody>\n",
       "</table>\n",
       "</div>"
      ],
      "text/plain": [
       "         nombre  especialidad  edad  visitas sexo\n",
       "3     Bettatech  Programación    31   149462    H\n",
       "5    Edgar Pons      Robótica    29   143620    H\n",
       "2  Nate Gentile  Programación    31   142545    H"
      ]
     },
     "execution_count": 48,
     "metadata": {},
     "output_type": "execute_result"
    }
   ],
   "source": [
    "df.nlargest(3, columns='visitas')"
   ]
  },
  {
   "cell_type": "markdown",
   "id": "05c47c75",
   "metadata": {},
   "source": [
    "## df.nsmallest()"
   ]
  },
  {
   "cell_type": "markdown",
   "id": "e73e45a5",
   "metadata": {},
   "source": [
    "Este método funciona exactamente igual que el anterior, sólo que mostrará los valores más pequeños:\n",
    "\n",
    "> [df.nsmallest(*n_valores*, *columna*)](https://pandas.pydata.org/docs/reference/api/pandas.DataFrame.nsmallest.html)"
   ]
  },
  {
   "cell_type": "code",
   "execution_count": 49,
   "id": "4aa0d6db",
   "metadata": {},
   "outputs": [
    {
     "data": {
      "text/html": [
       "<div>\n",
       "<style scoped>\n",
       "    .dataframe tbody tr th:only-of-type {\n",
       "        vertical-align: middle;\n",
       "    }\n",
       "\n",
       "    .dataframe tbody tr th {\n",
       "        vertical-align: top;\n",
       "    }\n",
       "\n",
       "    .dataframe thead th {\n",
       "        text-align: right;\n",
       "    }\n",
       "</style>\n",
       "<table border=\"1\" class=\"dataframe\">\n",
       "  <thead>\n",
       "    <tr style=\"text-align: right;\">\n",
       "      <th></th>\n",
       "      <th>nombre</th>\n",
       "      <th>especialidad</th>\n",
       "      <th>edad</th>\n",
       "      <th>visitas</th>\n",
       "      <th>sexo</th>\n",
       "    </tr>\n",
       "  </thead>\n",
       "  <tbody>\n",
       "    <tr>\n",
       "      <th>1</th>\n",
       "      <td>Sara Nogark</td>\n",
       "      <td>Edición de vídeo</td>\n",
       "      <td>29</td>\n",
       "      <td>114175</td>\n",
       "      <td>M</td>\n",
       "    </tr>\n",
       "    <tr>\n",
       "      <th>0</th>\n",
       "      <td>SFDX Show</td>\n",
       "      <td>Hardware</td>\n",
       "      <td>30</td>\n",
       "      <td>130855</td>\n",
       "      <td>H</td>\n",
       "    </tr>\n",
       "    <tr>\n",
       "      <th>4</th>\n",
       "      <td>Antonio Sarosi</td>\n",
       "      <td>Sistemas Operativos</td>\n",
       "      <td>28</td>\n",
       "      <td>132008</td>\n",
       "      <td>H</td>\n",
       "    </tr>\n",
       "  </tbody>\n",
       "</table>\n",
       "</div>"
      ],
      "text/plain": [
       "           nombre         especialidad  edad  visitas sexo\n",
       "1     Sara Nogark     Edición de vídeo    29   114175    M\n",
       "0       SFDX Show             Hardware    30   130855    H\n",
       "4  Antonio Sarosi  Sistemas Operativos    28   132008    H"
      ]
     },
     "execution_count": 49,
     "metadata": {},
     "output_type": "execute_result"
    }
   ],
   "source": [
    "df.nsmallest(3, 'visitas')"
   ]
  },
  {
   "cell_type": "markdown",
   "id": "39a644ca",
   "metadata": {},
   "source": [
    "## df.value_counts()"
   ]
  },
  {
   "cell_type": "markdown",
   "id": "5dc49790",
   "metadata": {},
   "source": [
    "Este método es de los que más uso en el día a día. Éste nos devolverá una cuenta de cuántas veces se repite un valor en una columna, y por defecto te los ordena de mayor a menor. Súper útil para variables categóricas! (Entraremos en eso un poco más adelante)\n",
    "\n",
    "> [df.value_counts(*nombre_columna*)](https://pandas.pydata.org/docs/reference/api/pandas.DataFrame.value_counts.html)"
   ]
  },
  {
   "cell_type": "code",
   "execution_count": 50,
   "id": "55c77405",
   "metadata": {},
   "outputs": [
    {
     "data": {
      "text/plain": [
       "especialidad\n",
       "Programación           2\n",
       "Edición de vídeo       1\n",
       "Hacking                1\n",
       "Hardware               1\n",
       "Robótica               1\n",
       "Sistemas Operativos    1\n",
       "dtype: int64"
      ]
     },
     "execution_count": 50,
     "metadata": {},
     "output_type": "execute_result"
    }
   ],
   "source": [
    "df.value_counts('especialidad')"
   ]
  },
  {
   "cell_type": "markdown",
   "id": "1a118e12",
   "metadata": {},
   "source": [
    "# Funciones Avanzadas"
   ]
  },
  {
   "cell_type": "markdown",
   "id": "4a124862",
   "metadata": {},
   "source": [
    "Como explicamos en el capítulo, **Pandas** dispone de unas funciones 'avanzadas' para usos más específicos. \n",
    "\n",
    "**Recomendamos revisar este capítulo en vídeo las veces que sea necesario!**"
   ]
  },
  {
   "cell_type": "markdown",
   "id": "6a27d234",
   "metadata": {},
   "source": [
    "## pd.concat()"
   ]
  },
  {
   "cell_type": "markdown",
   "id": "e3572e6f",
   "metadata": {},
   "source": [
    "Esta función sirve para **concatenar** (o _juntar_) dos o más _DataFrames_. Se puede usar de muchas maneras, pero para no complicarlo innecesariamente vamos a usarlo para concatenar dos _DataFrames_ que tengan los mismos nombres en las columnas. \n",
    "\n",
    "**Observad que esta función no corresponde a un método de un DataFrame, por lo que no usaremos `df`, sinó `pd`, ya que llamamos a una función de la librería**:\n",
    "\n",
    "> [pd.concat([df1, df2..])](https://pandas.pydata.org/docs/reference/api/pandas.concat.html)"
   ]
  },
  {
   "cell_type": "code",
   "execution_count": 51,
   "id": "7732033c",
   "metadata": {},
   "outputs": [
    {
     "data": {
      "text/html": [
       "<div>\n",
       "<style scoped>\n",
       "    .dataframe tbody tr th:only-of-type {\n",
       "        vertical-align: middle;\n",
       "    }\n",
       "\n",
       "    .dataframe tbody tr th {\n",
       "        vertical-align: top;\n",
       "    }\n",
       "\n",
       "    .dataframe thead th {\n",
       "        text-align: right;\n",
       "    }\n",
       "</style>\n",
       "<table border=\"1\" class=\"dataframe\">\n",
       "  <thead>\n",
       "    <tr style=\"text-align: right;\">\n",
       "      <th></th>\n",
       "      <th>nombre</th>\n",
       "      <th>especialidad</th>\n",
       "      <th>edad</th>\n",
       "      <th>visitas</th>\n",
       "      <th>sexo</th>\n",
       "    </tr>\n",
       "  </thead>\n",
       "  <tbody>\n",
       "    <tr>\n",
       "      <th>0</th>\n",
       "      <td>SFDX Show</td>\n",
       "      <td>Hardware</td>\n",
       "      <td>30</td>\n",
       "      <td>130855</td>\n",
       "      <td>H</td>\n",
       "    </tr>\n",
       "    <tr>\n",
       "      <th>1</th>\n",
       "      <td>Sara Nogark</td>\n",
       "      <td>Edición de vídeo</td>\n",
       "      <td>29</td>\n",
       "      <td>114175</td>\n",
       "      <td>M</td>\n",
       "    </tr>\n",
       "    <tr>\n",
       "      <th>2</th>\n",
       "      <td>Nate Gentile</td>\n",
       "      <td>Programación</td>\n",
       "      <td>31</td>\n",
       "      <td>142545</td>\n",
       "      <td>H</td>\n",
       "    </tr>\n",
       "    <tr>\n",
       "      <th>3</th>\n",
       "      <td>Bettatech</td>\n",
       "      <td>Programación</td>\n",
       "      <td>31</td>\n",
       "      <td>149462</td>\n",
       "      <td>H</td>\n",
       "    </tr>\n",
       "    <tr>\n",
       "      <th>4</th>\n",
       "      <td>Antonio Sarosi</td>\n",
       "      <td>Sistemas Operativos</td>\n",
       "      <td>28</td>\n",
       "      <td>132008</td>\n",
       "      <td>H</td>\n",
       "    </tr>\n",
       "  </tbody>\n",
       "</table>\n",
       "</div>"
      ],
      "text/plain": [
       "           nombre         especialidad  edad  visitas sexo\n",
       "0       SFDX Show             Hardware    30   130855    H\n",
       "1     Sara Nogark     Edición de vídeo    29   114175    M\n",
       "2    Nate Gentile         Programación    31   142545    H\n",
       "3       Bettatech         Programación    31   149462    H\n",
       "4  Antonio Sarosi  Sistemas Operativos    28   132008    H"
      ]
     },
     "execution_count": 51,
     "metadata": {},
     "output_type": "execute_result"
    }
   ],
   "source": [
    "df.head() # DataFrame original"
   ]
  },
  {
   "cell_type": "code",
   "execution_count": 52,
   "id": "108bd06f",
   "metadata": {},
   "outputs": [
    {
     "data": {
      "text/html": [
       "<div>\n",
       "<style scoped>\n",
       "    .dataframe tbody tr th:only-of-type {\n",
       "        vertical-align: middle;\n",
       "    }\n",
       "\n",
       "    .dataframe tbody tr th {\n",
       "        vertical-align: top;\n",
       "    }\n",
       "\n",
       "    .dataframe thead th {\n",
       "        text-align: right;\n",
       "    }\n",
       "</style>\n",
       "<table border=\"1\" class=\"dataframe\">\n",
       "  <thead>\n",
       "    <tr style=\"text-align: right;\">\n",
       "      <th></th>\n",
       "      <th>nombre</th>\n",
       "      <th>especialidad</th>\n",
       "      <th>edad</th>\n",
       "      <th>visitas</th>\n",
       "      <th>sexo</th>\n",
       "    </tr>\n",
       "  </thead>\n",
       "  <tbody>\n",
       "    <tr>\n",
       "      <th>0</th>\n",
       "      <td>Batman</td>\n",
       "      <td>Hardware</td>\n",
       "      <td>30</td>\n",
       "      <td>130855</td>\n",
       "      <td>H</td>\n",
       "    </tr>\n",
       "    <tr>\n",
       "      <th>1</th>\n",
       "      <td>Spiderman</td>\n",
       "      <td>Edición de vídeo</td>\n",
       "      <td>29</td>\n",
       "      <td>114175</td>\n",
       "      <td>M</td>\n",
       "    </tr>\n",
       "    <tr>\n",
       "      <th>2</th>\n",
       "      <td>Catwoman</td>\n",
       "      <td>Programación</td>\n",
       "      <td>31</td>\n",
       "      <td>142545</td>\n",
       "      <td>H</td>\n",
       "    </tr>\n",
       "    <tr>\n",
       "      <th>3</th>\n",
       "      <td>Capitan America</td>\n",
       "      <td>Programación</td>\n",
       "      <td>31</td>\n",
       "      <td>149462</td>\n",
       "      <td>H</td>\n",
       "    </tr>\n",
       "    <tr>\n",
       "      <th>4</th>\n",
       "      <td>Thor</td>\n",
       "      <td>Sistemas Operativos</td>\n",
       "      <td>28</td>\n",
       "      <td>132008</td>\n",
       "      <td>H</td>\n",
       "    </tr>\n",
       "  </tbody>\n",
       "</table>\n",
       "</div>"
      ],
      "text/plain": [
       "            nombre         especialidad  edad  visitas sexo\n",
       "0           Batman             Hardware    30   130855    H\n",
       "1        Spiderman     Edición de vídeo    29   114175    M\n",
       "2         Catwoman         Programación    31   142545    H\n",
       "3  Capitan America         Programación    31   149462    H\n",
       "4             Thor  Sistemas Operativos    28   132008    H"
      ]
     },
     "execution_count": 52,
     "metadata": {},
     "output_type": "execute_result"
    }
   ],
   "source": [
    "# Crearemos una copia de nuestro df y le cambiaremos los valores de la columna 'nombre':\n",
    "\n",
    "df_nuevo = df.copy()\n",
    "\n",
    "df_nuevo['nombre'] = ['Batman', 'Spiderman', 'Catwoman', 'Capitan America', 'Thor', 'Iron Man', 'Loki']\n",
    "\n",
    "df_nuevo.head()"
   ]
  },
  {
   "cell_type": "code",
   "execution_count": 53,
   "id": "fde1f6e6",
   "metadata": {},
   "outputs": [
    {
     "data": {
      "text/html": [
       "<div>\n",
       "<style scoped>\n",
       "    .dataframe tbody tr th:only-of-type {\n",
       "        vertical-align: middle;\n",
       "    }\n",
       "\n",
       "    .dataframe tbody tr th {\n",
       "        vertical-align: top;\n",
       "    }\n",
       "\n",
       "    .dataframe thead th {\n",
       "        text-align: right;\n",
       "    }\n",
       "</style>\n",
       "<table border=\"1\" class=\"dataframe\">\n",
       "  <thead>\n",
       "    <tr style=\"text-align: right;\">\n",
       "      <th></th>\n",
       "      <th>nombre</th>\n",
       "      <th>especialidad</th>\n",
       "      <th>edad</th>\n",
       "      <th>visitas</th>\n",
       "      <th>sexo</th>\n",
       "    </tr>\n",
       "  </thead>\n",
       "  <tbody>\n",
       "    <tr>\n",
       "      <th>0</th>\n",
       "      <td>SFDX Show</td>\n",
       "      <td>Hardware</td>\n",
       "      <td>30</td>\n",
       "      <td>130855</td>\n",
       "      <td>H</td>\n",
       "    </tr>\n",
       "    <tr>\n",
       "      <th>1</th>\n",
       "      <td>Sara Nogark</td>\n",
       "      <td>Edición de vídeo</td>\n",
       "      <td>29</td>\n",
       "      <td>114175</td>\n",
       "      <td>M</td>\n",
       "    </tr>\n",
       "    <tr>\n",
       "      <th>2</th>\n",
       "      <td>Nate Gentile</td>\n",
       "      <td>Programación</td>\n",
       "      <td>31</td>\n",
       "      <td>142545</td>\n",
       "      <td>H</td>\n",
       "    </tr>\n",
       "    <tr>\n",
       "      <th>3</th>\n",
       "      <td>Bettatech</td>\n",
       "      <td>Programación</td>\n",
       "      <td>31</td>\n",
       "      <td>149462</td>\n",
       "      <td>H</td>\n",
       "    </tr>\n",
       "    <tr>\n",
       "      <th>4</th>\n",
       "      <td>Antonio Sarosi</td>\n",
       "      <td>Sistemas Operativos</td>\n",
       "      <td>28</td>\n",
       "      <td>132008</td>\n",
       "      <td>H</td>\n",
       "    </tr>\n",
       "    <tr>\n",
       "      <th>5</th>\n",
       "      <td>Edgar Pons</td>\n",
       "      <td>Robótica</td>\n",
       "      <td>29</td>\n",
       "      <td>143620</td>\n",
       "      <td>H</td>\n",
       "    </tr>\n",
       "    <tr>\n",
       "      <th>6</th>\n",
       "      <td>s4vitar</td>\n",
       "      <td>Hacking</td>\n",
       "      <td>28</td>\n",
       "      <td>132567</td>\n",
       "      <td>H</td>\n",
       "    </tr>\n",
       "    <tr>\n",
       "      <th>0</th>\n",
       "      <td>Batman</td>\n",
       "      <td>Hardware</td>\n",
       "      <td>30</td>\n",
       "      <td>130855</td>\n",
       "      <td>H</td>\n",
       "    </tr>\n",
       "    <tr>\n",
       "      <th>1</th>\n",
       "      <td>Spiderman</td>\n",
       "      <td>Edición de vídeo</td>\n",
       "      <td>29</td>\n",
       "      <td>114175</td>\n",
       "      <td>M</td>\n",
       "    </tr>\n",
       "    <tr>\n",
       "      <th>2</th>\n",
       "      <td>Catwoman</td>\n",
       "      <td>Programación</td>\n",
       "      <td>31</td>\n",
       "      <td>142545</td>\n",
       "      <td>H</td>\n",
       "    </tr>\n",
       "    <tr>\n",
       "      <th>3</th>\n",
       "      <td>Capitan America</td>\n",
       "      <td>Programación</td>\n",
       "      <td>31</td>\n",
       "      <td>149462</td>\n",
       "      <td>H</td>\n",
       "    </tr>\n",
       "    <tr>\n",
       "      <th>4</th>\n",
       "      <td>Thor</td>\n",
       "      <td>Sistemas Operativos</td>\n",
       "      <td>28</td>\n",
       "      <td>132008</td>\n",
       "      <td>H</td>\n",
       "    </tr>\n",
       "    <tr>\n",
       "      <th>5</th>\n",
       "      <td>Iron Man</td>\n",
       "      <td>Robótica</td>\n",
       "      <td>29</td>\n",
       "      <td>143620</td>\n",
       "      <td>H</td>\n",
       "    </tr>\n",
       "    <tr>\n",
       "      <th>6</th>\n",
       "      <td>Loki</td>\n",
       "      <td>Hacking</td>\n",
       "      <td>28</td>\n",
       "      <td>132567</td>\n",
       "      <td>H</td>\n",
       "    </tr>\n",
       "  </tbody>\n",
       "</table>\n",
       "</div>"
      ],
      "text/plain": [
       "            nombre         especialidad  edad  visitas sexo\n",
       "0        SFDX Show             Hardware    30   130855    H\n",
       "1      Sara Nogark     Edición de vídeo    29   114175    M\n",
       "2     Nate Gentile         Programación    31   142545    H\n",
       "3        Bettatech         Programación    31   149462    H\n",
       "4   Antonio Sarosi  Sistemas Operativos    28   132008    H\n",
       "5       Edgar Pons             Robótica    29   143620    H\n",
       "6          s4vitar              Hacking    28   132567    H\n",
       "0           Batman             Hardware    30   130855    H\n",
       "1        Spiderman     Edición de vídeo    29   114175    M\n",
       "2         Catwoman         Programación    31   142545    H\n",
       "3  Capitan America         Programación    31   149462    H\n",
       "4             Thor  Sistemas Operativos    28   132008    H\n",
       "5         Iron Man             Robótica    29   143620    H\n",
       "6             Loki              Hacking    28   132567    H"
      ]
     },
     "execution_count": 53,
     "metadata": {},
     "output_type": "execute_result"
    }
   ],
   "source": [
    "# Los concatenamos fácilmente!\n",
    "\n",
    "unido = pd.concat([df, df_nuevo])\n",
    "\n",
    "unido"
   ]
  },
  {
   "cell_type": "markdown",
   "id": "7368224e",
   "metadata": {},
   "source": [
    "Si os fijáis, veréis que los valores de los índices están repetidos. Esto hay que evitarlo a toda costa, por lo que le haremos un `df.reset_index()` para que genere de nuevo estos índices:"
   ]
  },
  {
   "cell_type": "code",
   "execution_count": 54,
   "id": "3ca4f6a2",
   "metadata": {},
   "outputs": [
    {
     "data": {
      "text/html": [
       "<div>\n",
       "<style scoped>\n",
       "    .dataframe tbody tr th:only-of-type {\n",
       "        vertical-align: middle;\n",
       "    }\n",
       "\n",
       "    .dataframe tbody tr th {\n",
       "        vertical-align: top;\n",
       "    }\n",
       "\n",
       "    .dataframe thead th {\n",
       "        text-align: right;\n",
       "    }\n",
       "</style>\n",
       "<table border=\"1\" class=\"dataframe\">\n",
       "  <thead>\n",
       "    <tr style=\"text-align: right;\">\n",
       "      <th></th>\n",
       "      <th>index</th>\n",
       "      <th>nombre</th>\n",
       "      <th>especialidad</th>\n",
       "      <th>edad</th>\n",
       "      <th>visitas</th>\n",
       "      <th>sexo</th>\n",
       "    </tr>\n",
       "  </thead>\n",
       "  <tbody>\n",
       "    <tr>\n",
       "      <th>0</th>\n",
       "      <td>0</td>\n",
       "      <td>SFDX Show</td>\n",
       "      <td>Hardware</td>\n",
       "      <td>30</td>\n",
       "      <td>130855</td>\n",
       "      <td>H</td>\n",
       "    </tr>\n",
       "    <tr>\n",
       "      <th>1</th>\n",
       "      <td>1</td>\n",
       "      <td>Sara Nogark</td>\n",
       "      <td>Edición de vídeo</td>\n",
       "      <td>29</td>\n",
       "      <td>114175</td>\n",
       "      <td>M</td>\n",
       "    </tr>\n",
       "    <tr>\n",
       "      <th>2</th>\n",
       "      <td>2</td>\n",
       "      <td>Nate Gentile</td>\n",
       "      <td>Programación</td>\n",
       "      <td>31</td>\n",
       "      <td>142545</td>\n",
       "      <td>H</td>\n",
       "    </tr>\n",
       "    <tr>\n",
       "      <th>3</th>\n",
       "      <td>3</td>\n",
       "      <td>Bettatech</td>\n",
       "      <td>Programación</td>\n",
       "      <td>31</td>\n",
       "      <td>149462</td>\n",
       "      <td>H</td>\n",
       "    </tr>\n",
       "    <tr>\n",
       "      <th>4</th>\n",
       "      <td>4</td>\n",
       "      <td>Antonio Sarosi</td>\n",
       "      <td>Sistemas Operativos</td>\n",
       "      <td>28</td>\n",
       "      <td>132008</td>\n",
       "      <td>H</td>\n",
       "    </tr>\n",
       "    <tr>\n",
       "      <th>5</th>\n",
       "      <td>5</td>\n",
       "      <td>Edgar Pons</td>\n",
       "      <td>Robótica</td>\n",
       "      <td>29</td>\n",
       "      <td>143620</td>\n",
       "      <td>H</td>\n",
       "    </tr>\n",
       "    <tr>\n",
       "      <th>6</th>\n",
       "      <td>6</td>\n",
       "      <td>s4vitar</td>\n",
       "      <td>Hacking</td>\n",
       "      <td>28</td>\n",
       "      <td>132567</td>\n",
       "      <td>H</td>\n",
       "    </tr>\n",
       "    <tr>\n",
       "      <th>7</th>\n",
       "      <td>0</td>\n",
       "      <td>Batman</td>\n",
       "      <td>Hardware</td>\n",
       "      <td>30</td>\n",
       "      <td>130855</td>\n",
       "      <td>H</td>\n",
       "    </tr>\n",
       "    <tr>\n",
       "      <th>8</th>\n",
       "      <td>1</td>\n",
       "      <td>Spiderman</td>\n",
       "      <td>Edición de vídeo</td>\n",
       "      <td>29</td>\n",
       "      <td>114175</td>\n",
       "      <td>M</td>\n",
       "    </tr>\n",
       "    <tr>\n",
       "      <th>9</th>\n",
       "      <td>2</td>\n",
       "      <td>Catwoman</td>\n",
       "      <td>Programación</td>\n",
       "      <td>31</td>\n",
       "      <td>142545</td>\n",
       "      <td>H</td>\n",
       "    </tr>\n",
       "    <tr>\n",
       "      <th>10</th>\n",
       "      <td>3</td>\n",
       "      <td>Capitan America</td>\n",
       "      <td>Programación</td>\n",
       "      <td>31</td>\n",
       "      <td>149462</td>\n",
       "      <td>H</td>\n",
       "    </tr>\n",
       "    <tr>\n",
       "      <th>11</th>\n",
       "      <td>4</td>\n",
       "      <td>Thor</td>\n",
       "      <td>Sistemas Operativos</td>\n",
       "      <td>28</td>\n",
       "      <td>132008</td>\n",
       "      <td>H</td>\n",
       "    </tr>\n",
       "    <tr>\n",
       "      <th>12</th>\n",
       "      <td>5</td>\n",
       "      <td>Iron Man</td>\n",
       "      <td>Robótica</td>\n",
       "      <td>29</td>\n",
       "      <td>143620</td>\n",
       "      <td>H</td>\n",
       "    </tr>\n",
       "    <tr>\n",
       "      <th>13</th>\n",
       "      <td>6</td>\n",
       "      <td>Loki</td>\n",
       "      <td>Hacking</td>\n",
       "      <td>28</td>\n",
       "      <td>132567</td>\n",
       "      <td>H</td>\n",
       "    </tr>\n",
       "  </tbody>\n",
       "</table>\n",
       "</div>"
      ],
      "text/plain": [
       "    index           nombre         especialidad  edad  visitas sexo\n",
       "0       0        SFDX Show             Hardware    30   130855    H\n",
       "1       1      Sara Nogark     Edición de vídeo    29   114175    M\n",
       "2       2     Nate Gentile         Programación    31   142545    H\n",
       "3       3        Bettatech         Programación    31   149462    H\n",
       "4       4   Antonio Sarosi  Sistemas Operativos    28   132008    H\n",
       "5       5       Edgar Pons             Robótica    29   143620    H\n",
       "6       6          s4vitar              Hacking    28   132567    H\n",
       "7       0           Batman             Hardware    30   130855    H\n",
       "8       1        Spiderman     Edición de vídeo    29   114175    M\n",
       "9       2         Catwoman         Programación    31   142545    H\n",
       "10      3  Capitan America         Programación    31   149462    H\n",
       "11      4             Thor  Sistemas Operativos    28   132008    H\n",
       "12      5         Iron Man             Robótica    29   143620    H\n",
       "13      6             Loki              Hacking    28   132567    H"
      ]
     },
     "execution_count": 54,
     "metadata": {},
     "output_type": "execute_result"
    }
   ],
   "source": [
    "unido.reset_index()"
   ]
  },
  {
   "cell_type": "markdown",
   "id": "ff3da763",
   "metadata": {},
   "source": [
    "Qué ha sucedido!? Nos ha generado otra columna llamada `index`! Esto sucede porque al pasarle un nuevo índice numérico, **Pandas** ha preferido guardar el antiguo por si las moscas. Para que esto no suceda, simplemente activaremos el argumento `drop`:"
   ]
  },
  {
   "cell_type": "code",
   "execution_count": 55,
   "id": "bc57a985",
   "metadata": {},
   "outputs": [
    {
     "data": {
      "text/html": [
       "<div>\n",
       "<style scoped>\n",
       "    .dataframe tbody tr th:only-of-type {\n",
       "        vertical-align: middle;\n",
       "    }\n",
       "\n",
       "    .dataframe tbody tr th {\n",
       "        vertical-align: top;\n",
       "    }\n",
       "\n",
       "    .dataframe thead th {\n",
       "        text-align: right;\n",
       "    }\n",
       "</style>\n",
       "<table border=\"1\" class=\"dataframe\">\n",
       "  <thead>\n",
       "    <tr style=\"text-align: right;\">\n",
       "      <th></th>\n",
       "      <th>nombre</th>\n",
       "      <th>especialidad</th>\n",
       "      <th>edad</th>\n",
       "      <th>visitas</th>\n",
       "      <th>sexo</th>\n",
       "    </tr>\n",
       "  </thead>\n",
       "  <tbody>\n",
       "    <tr>\n",
       "      <th>0</th>\n",
       "      <td>SFDX Show</td>\n",
       "      <td>Hardware</td>\n",
       "      <td>30</td>\n",
       "      <td>130855</td>\n",
       "      <td>H</td>\n",
       "    </tr>\n",
       "    <tr>\n",
       "      <th>1</th>\n",
       "      <td>Sara Nogark</td>\n",
       "      <td>Edición de vídeo</td>\n",
       "      <td>29</td>\n",
       "      <td>114175</td>\n",
       "      <td>M</td>\n",
       "    </tr>\n",
       "    <tr>\n",
       "      <th>2</th>\n",
       "      <td>Nate Gentile</td>\n",
       "      <td>Programación</td>\n",
       "      <td>31</td>\n",
       "      <td>142545</td>\n",
       "      <td>H</td>\n",
       "    </tr>\n",
       "    <tr>\n",
       "      <th>3</th>\n",
       "      <td>Bettatech</td>\n",
       "      <td>Programación</td>\n",
       "      <td>31</td>\n",
       "      <td>149462</td>\n",
       "      <td>H</td>\n",
       "    </tr>\n",
       "    <tr>\n",
       "      <th>4</th>\n",
       "      <td>Antonio Sarosi</td>\n",
       "      <td>Sistemas Operativos</td>\n",
       "      <td>28</td>\n",
       "      <td>132008</td>\n",
       "      <td>H</td>\n",
       "    </tr>\n",
       "    <tr>\n",
       "      <th>5</th>\n",
       "      <td>Edgar Pons</td>\n",
       "      <td>Robótica</td>\n",
       "      <td>29</td>\n",
       "      <td>143620</td>\n",
       "      <td>H</td>\n",
       "    </tr>\n",
       "    <tr>\n",
       "      <th>6</th>\n",
       "      <td>s4vitar</td>\n",
       "      <td>Hacking</td>\n",
       "      <td>28</td>\n",
       "      <td>132567</td>\n",
       "      <td>H</td>\n",
       "    </tr>\n",
       "    <tr>\n",
       "      <th>7</th>\n",
       "      <td>Batman</td>\n",
       "      <td>Hardware</td>\n",
       "      <td>30</td>\n",
       "      <td>130855</td>\n",
       "      <td>H</td>\n",
       "    </tr>\n",
       "    <tr>\n",
       "      <th>8</th>\n",
       "      <td>Spiderman</td>\n",
       "      <td>Edición de vídeo</td>\n",
       "      <td>29</td>\n",
       "      <td>114175</td>\n",
       "      <td>M</td>\n",
       "    </tr>\n",
       "    <tr>\n",
       "      <th>9</th>\n",
       "      <td>Catwoman</td>\n",
       "      <td>Programación</td>\n",
       "      <td>31</td>\n",
       "      <td>142545</td>\n",
       "      <td>H</td>\n",
       "    </tr>\n",
       "    <tr>\n",
       "      <th>10</th>\n",
       "      <td>Capitan America</td>\n",
       "      <td>Programación</td>\n",
       "      <td>31</td>\n",
       "      <td>149462</td>\n",
       "      <td>H</td>\n",
       "    </tr>\n",
       "    <tr>\n",
       "      <th>11</th>\n",
       "      <td>Thor</td>\n",
       "      <td>Sistemas Operativos</td>\n",
       "      <td>28</td>\n",
       "      <td>132008</td>\n",
       "      <td>H</td>\n",
       "    </tr>\n",
       "    <tr>\n",
       "      <th>12</th>\n",
       "      <td>Iron Man</td>\n",
       "      <td>Robótica</td>\n",
       "      <td>29</td>\n",
       "      <td>143620</td>\n",
       "      <td>H</td>\n",
       "    </tr>\n",
       "    <tr>\n",
       "      <th>13</th>\n",
       "      <td>Loki</td>\n",
       "      <td>Hacking</td>\n",
       "      <td>28</td>\n",
       "      <td>132567</td>\n",
       "      <td>H</td>\n",
       "    </tr>\n",
       "  </tbody>\n",
       "</table>\n",
       "</div>"
      ],
      "text/plain": [
       "             nombre         especialidad  edad  visitas sexo\n",
       "0         SFDX Show             Hardware    30   130855    H\n",
       "1       Sara Nogark     Edición de vídeo    29   114175    M\n",
       "2      Nate Gentile         Programación    31   142545    H\n",
       "3         Bettatech         Programación    31   149462    H\n",
       "4    Antonio Sarosi  Sistemas Operativos    28   132008    H\n",
       "5        Edgar Pons             Robótica    29   143620    H\n",
       "6           s4vitar              Hacking    28   132567    H\n",
       "7            Batman             Hardware    30   130855    H\n",
       "8         Spiderman     Edición de vídeo    29   114175    M\n",
       "9          Catwoman         Programación    31   142545    H\n",
       "10  Capitan America         Programación    31   149462    H\n",
       "11             Thor  Sistemas Operativos    28   132008    H\n",
       "12         Iron Man             Robótica    29   143620    H\n",
       "13             Loki              Hacking    28   132567    H"
      ]
     },
     "execution_count": 55,
     "metadata": {},
     "output_type": "execute_result"
    }
   ],
   "source": [
    "# En este caso, asignaremos este DataFrame a la variable df, ya que trabajaremos \n",
    "# con él para los siguientes ejemplos\n",
    "\n",
    "df = unido.reset_index(drop=True)\n",
    "\n",
    "df"
   ]
  },
  {
   "cell_type": "markdown",
   "id": "08e02831",
   "metadata": {},
   "source": [
    "## df.where()"
   ]
  },
  {
   "cell_type": "markdown",
   "id": "c56dfcb9",
   "metadata": {},
   "source": [
    "Si os acordáis, en el capítulo de **NumPy** analizamos un método con el mismo nombre, que servía para sustituir valores basados en condiciones. En el caso de **Pandas**, este método encuentra en el _DataFrame_ todos los valores que cumplen con la condición que le demos, transformando a `NaN` los que no la cumplen:\n",
    "\n",
    "> [df.where(condiciones)](https://pandas.pydata.org/docs/reference/api/pandas.DataFrame.where.html)\n",
    "\n",
    "Podemos aplicar varios filtros para encontrar los valores que nos interesen:"
   ]
  },
  {
   "cell_type": "code",
   "execution_count": 56,
   "id": "578342dc",
   "metadata": {},
   "outputs": [],
   "source": [
    "filtro1 = df['especialidad'] == 'Programación'\n",
    "filtro2 = df['visitas'] > 145000"
   ]
  },
  {
   "cell_type": "code",
   "execution_count": 57,
   "id": "0de9c035",
   "metadata": {},
   "outputs": [
    {
     "data": {
      "text/html": [
       "<div>\n",
       "<style scoped>\n",
       "    .dataframe tbody tr th:only-of-type {\n",
       "        vertical-align: middle;\n",
       "    }\n",
       "\n",
       "    .dataframe tbody tr th {\n",
       "        vertical-align: top;\n",
       "    }\n",
       "\n",
       "    .dataframe thead th {\n",
       "        text-align: right;\n",
       "    }\n",
       "</style>\n",
       "<table border=\"1\" class=\"dataframe\">\n",
       "  <thead>\n",
       "    <tr style=\"text-align: right;\">\n",
       "      <th></th>\n",
       "      <th>nombre</th>\n",
       "      <th>especialidad</th>\n",
       "      <th>edad</th>\n",
       "      <th>visitas</th>\n",
       "      <th>sexo</th>\n",
       "    </tr>\n",
       "  </thead>\n",
       "  <tbody>\n",
       "    <tr>\n",
       "      <th>0</th>\n",
       "      <td>NaN</td>\n",
       "      <td>NaN</td>\n",
       "      <td>NaN</td>\n",
       "      <td>NaN</td>\n",
       "      <td>NaN</td>\n",
       "    </tr>\n",
       "    <tr>\n",
       "      <th>1</th>\n",
       "      <td>NaN</td>\n",
       "      <td>NaN</td>\n",
       "      <td>NaN</td>\n",
       "      <td>NaN</td>\n",
       "      <td>NaN</td>\n",
       "    </tr>\n",
       "    <tr>\n",
       "      <th>2</th>\n",
       "      <td>NaN</td>\n",
       "      <td>NaN</td>\n",
       "      <td>NaN</td>\n",
       "      <td>NaN</td>\n",
       "      <td>NaN</td>\n",
       "    </tr>\n",
       "    <tr>\n",
       "      <th>3</th>\n",
       "      <td>Bettatech</td>\n",
       "      <td>Programación</td>\n",
       "      <td>31.0</td>\n",
       "      <td>149462.0</td>\n",
       "      <td>H</td>\n",
       "    </tr>\n",
       "    <tr>\n",
       "      <th>4</th>\n",
       "      <td>NaN</td>\n",
       "      <td>NaN</td>\n",
       "      <td>NaN</td>\n",
       "      <td>NaN</td>\n",
       "      <td>NaN</td>\n",
       "    </tr>\n",
       "    <tr>\n",
       "      <th>5</th>\n",
       "      <td>NaN</td>\n",
       "      <td>NaN</td>\n",
       "      <td>NaN</td>\n",
       "      <td>NaN</td>\n",
       "      <td>NaN</td>\n",
       "    </tr>\n",
       "    <tr>\n",
       "      <th>6</th>\n",
       "      <td>NaN</td>\n",
       "      <td>NaN</td>\n",
       "      <td>NaN</td>\n",
       "      <td>NaN</td>\n",
       "      <td>NaN</td>\n",
       "    </tr>\n",
       "    <tr>\n",
       "      <th>7</th>\n",
       "      <td>NaN</td>\n",
       "      <td>NaN</td>\n",
       "      <td>NaN</td>\n",
       "      <td>NaN</td>\n",
       "      <td>NaN</td>\n",
       "    </tr>\n",
       "    <tr>\n",
       "      <th>8</th>\n",
       "      <td>NaN</td>\n",
       "      <td>NaN</td>\n",
       "      <td>NaN</td>\n",
       "      <td>NaN</td>\n",
       "      <td>NaN</td>\n",
       "    </tr>\n",
       "    <tr>\n",
       "      <th>9</th>\n",
       "      <td>NaN</td>\n",
       "      <td>NaN</td>\n",
       "      <td>NaN</td>\n",
       "      <td>NaN</td>\n",
       "      <td>NaN</td>\n",
       "    </tr>\n",
       "    <tr>\n",
       "      <th>10</th>\n",
       "      <td>Capitan America</td>\n",
       "      <td>Programación</td>\n",
       "      <td>31.0</td>\n",
       "      <td>149462.0</td>\n",
       "      <td>H</td>\n",
       "    </tr>\n",
       "    <tr>\n",
       "      <th>11</th>\n",
       "      <td>NaN</td>\n",
       "      <td>NaN</td>\n",
       "      <td>NaN</td>\n",
       "      <td>NaN</td>\n",
       "      <td>NaN</td>\n",
       "    </tr>\n",
       "    <tr>\n",
       "      <th>12</th>\n",
       "      <td>NaN</td>\n",
       "      <td>NaN</td>\n",
       "      <td>NaN</td>\n",
       "      <td>NaN</td>\n",
       "      <td>NaN</td>\n",
       "    </tr>\n",
       "    <tr>\n",
       "      <th>13</th>\n",
       "      <td>NaN</td>\n",
       "      <td>NaN</td>\n",
       "      <td>NaN</td>\n",
       "      <td>NaN</td>\n",
       "      <td>NaN</td>\n",
       "    </tr>\n",
       "  </tbody>\n",
       "</table>\n",
       "</div>"
      ],
      "text/plain": [
       "             nombre  especialidad  edad   visitas sexo\n",
       "0               NaN           NaN   NaN       NaN  NaN\n",
       "1               NaN           NaN   NaN       NaN  NaN\n",
       "2               NaN           NaN   NaN       NaN  NaN\n",
       "3         Bettatech  Programación  31.0  149462.0    H\n",
       "4               NaN           NaN   NaN       NaN  NaN\n",
       "5               NaN           NaN   NaN       NaN  NaN\n",
       "6               NaN           NaN   NaN       NaN  NaN\n",
       "7               NaN           NaN   NaN       NaN  NaN\n",
       "8               NaN           NaN   NaN       NaN  NaN\n",
       "9               NaN           NaN   NaN       NaN  NaN\n",
       "10  Capitan America  Programación  31.0  149462.0    H\n",
       "11              NaN           NaN   NaN       NaN  NaN\n",
       "12              NaN           NaN   NaN       NaN  NaN\n",
       "13              NaN           NaN   NaN       NaN  NaN"
      ]
     },
     "execution_count": 57,
     "metadata": {},
     "output_type": "execute_result"
    }
   ],
   "source": [
    "df.where(filtro1 & filtro2)"
   ]
  },
  {
   "cell_type": "markdown",
   "id": "223c7b8a",
   "metadata": {},
   "source": [
    "## df.groupby()"
   ]
  },
  {
   "cell_type": "markdown",
   "id": "5bde7a5f",
   "metadata": {},
   "source": [
    "Esta función es un tanto especial, ya que nos introduce el concepto de los _datos agregados_. Imaginaos por un momento que en nuestro _DataFrame_ queremos contar el número de visitas **por cada una de las especialidades** como Programación, Edición de vídeo, etc. En este caso tendremos que 'agrupar' estas categorías para saber cuanto da la suma de sus visitas. Pues `df.groupby()` nos ayuda con ello:\n",
    "\n",
    "> [df.groupby(*columna_a_agregar*)](https://pandas.pydata.org/docs/reference/api/pandas.DataFrame.groupby.html)\n",
    "\n",
    "Si nosotros sólo agregamos estos datos, **Pandas** nos devolverá un objeto tipo `GroupBy`, pero no nos ofrecerá ningún tipo de información:"
   ]
  },
  {
   "cell_type": "code",
   "execution_count": 75,
   "id": "7edd9476",
   "metadata": {},
   "outputs": [
    {
     "data": {
      "text/plain": [
       "<pandas.core.groupby.generic.DataFrameGroupBy object at 0x00000260699358B0>"
      ]
     },
     "execution_count": 75,
     "metadata": {},
     "output_type": "execute_result"
    }
   ],
   "source": [
    "df.groupby('especialidad')"
   ]
  },
  {
   "cell_type": "markdown",
   "id": "94c0160b",
   "metadata": {},
   "source": [
    "Para que nosotros podamos hacer algún tipo de operación con las columnas agregadas, tenemos que usar algún método para ello, por ejemplo, el de sumar `.sum()`:"
   ]
  },
  {
   "cell_type": "code",
   "execution_count": 76,
   "id": "b620bd46",
   "metadata": {},
   "outputs": [
    {
     "data": {
      "text/html": [
       "<div>\n",
       "<style scoped>\n",
       "    .dataframe tbody tr th:only-of-type {\n",
       "        vertical-align: middle;\n",
       "    }\n",
       "\n",
       "    .dataframe tbody tr th {\n",
       "        vertical-align: top;\n",
       "    }\n",
       "\n",
       "    .dataframe thead th {\n",
       "        text-align: right;\n",
       "    }\n",
       "</style>\n",
       "<table border=\"1\" class=\"dataframe\">\n",
       "  <thead>\n",
       "    <tr style=\"text-align: right;\">\n",
       "      <th></th>\n",
       "      <th>edad</th>\n",
       "      <th>visitas</th>\n",
       "    </tr>\n",
       "    <tr>\n",
       "      <th>especialidad</th>\n",
       "      <th></th>\n",
       "      <th></th>\n",
       "    </tr>\n",
       "  </thead>\n",
       "  <tbody>\n",
       "    <tr>\n",
       "      <th>Edición de vídeo</th>\n",
       "      <td>58</td>\n",
       "      <td>228350</td>\n",
       "    </tr>\n",
       "    <tr>\n",
       "      <th>Hacking</th>\n",
       "      <td>56</td>\n",
       "      <td>265134</td>\n",
       "    </tr>\n",
       "    <tr>\n",
       "      <th>Hardware</th>\n",
       "      <td>60</td>\n",
       "      <td>261710</td>\n",
       "    </tr>\n",
       "    <tr>\n",
       "      <th>Programación</th>\n",
       "      <td>124</td>\n",
       "      <td>584014</td>\n",
       "    </tr>\n",
       "    <tr>\n",
       "      <th>Robótica</th>\n",
       "      <td>58</td>\n",
       "      <td>287240</td>\n",
       "    </tr>\n",
       "    <tr>\n",
       "      <th>Sistemas Operativos</th>\n",
       "      <td>56</td>\n",
       "      <td>264016</td>\n",
       "    </tr>\n",
       "  </tbody>\n",
       "</table>\n",
       "</div>"
      ],
      "text/plain": [
       "                     edad  visitas\n",
       "especialidad                      \n",
       "Edición de vídeo       58   228350\n",
       "Hacking                56   265134\n",
       "Hardware               60   261710\n",
       "Programación          124   584014\n",
       "Robótica               58   287240\n",
       "Sistemas Operativos    56   264016"
      ]
     },
     "execution_count": 76,
     "metadata": {},
     "output_type": "execute_result"
    }
   ],
   "source": [
    "df.groupby('especialidad').sum()"
   ]
  },
  {
   "cell_type": "markdown",
   "id": "64b659d7",
   "metadata": {},
   "source": [
    "Ahora nuestra columna `especialidad` es el índice de nuestro DataFrame, y el resto de las columnas _compatibles_ han sido agregadas y se le ha aplicado la operación que hemos indicado. Si necesitamos sólo la suma de las visitas, podemos indicarla con el accesor:"
   ]
  },
  {
   "cell_type": "code",
   "execution_count": 79,
   "id": "ab49d686",
   "metadata": {},
   "outputs": [
    {
     "data": {
      "text/plain": [
       "especialidad\n",
       "Edición de vídeo       228350\n",
       "Hacking                265134\n",
       "Hardware               261710\n",
       "Programación           584014\n",
       "Robótica               287240\n",
       "Sistemas Operativos    264016\n",
       "Name: visitas, dtype: int64"
      ]
     },
     "execution_count": 79,
     "metadata": {},
     "output_type": "execute_result"
    }
   ],
   "source": [
    "df.groupby('especialidad').sum()['visitas']"
   ]
  },
  {
   "cell_type": "markdown",
   "id": "3d54c399",
   "metadata": {},
   "source": [
    "Se pueden usar otros métodos, como por ejemplo `.max()` para encontrar el valor más alto.:"
   ]
  },
  {
   "cell_type": "code",
   "execution_count": 85,
   "id": "46064ff6",
   "metadata": {},
   "outputs": [
    {
     "data": {
      "text/html": [
       "<div>\n",
       "<style scoped>\n",
       "    .dataframe tbody tr th:only-of-type {\n",
       "        vertical-align: middle;\n",
       "    }\n",
       "\n",
       "    .dataframe tbody tr th {\n",
       "        vertical-align: top;\n",
       "    }\n",
       "\n",
       "    .dataframe thead th {\n",
       "        text-align: right;\n",
       "    }\n",
       "</style>\n",
       "<table border=\"1\" class=\"dataframe\">\n",
       "  <thead>\n",
       "    <tr style=\"text-align: right;\">\n",
       "      <th></th>\n",
       "      <th>nombre</th>\n",
       "      <th>especialidad</th>\n",
       "      <th>edad</th>\n",
       "      <th>visitas</th>\n",
       "    </tr>\n",
       "    <tr>\n",
       "      <th>sexo</th>\n",
       "      <th></th>\n",
       "      <th></th>\n",
       "      <th></th>\n",
       "      <th></th>\n",
       "    </tr>\n",
       "  </thead>\n",
       "  <tbody>\n",
       "    <tr>\n",
       "      <th>H</th>\n",
       "      <td>s4vitar</td>\n",
       "      <td>Sistemas Operativos</td>\n",
       "      <td>31</td>\n",
       "      <td>149462</td>\n",
       "    </tr>\n",
       "    <tr>\n",
       "      <th>M</th>\n",
       "      <td>Spiderman</td>\n",
       "      <td>Edición de vídeo</td>\n",
       "      <td>29</td>\n",
       "      <td>114175</td>\n",
       "    </tr>\n",
       "  </tbody>\n",
       "</table>\n",
       "</div>"
      ],
      "text/plain": [
       "         nombre         especialidad  edad  visitas\n",
       "sexo                                               \n",
       "H       s4vitar  Sistemas Operativos    31   149462\n",
       "M     Spiderman     Edición de vídeo    29   114175"
      ]
     },
     "execution_count": 85,
     "metadata": {},
     "output_type": "execute_result"
    }
   ],
   "source": [
    "df.groupby('sexo').max()"
   ]
  },
  {
   "cell_type": "markdown",
   "id": "8f5a60ea",
   "metadata": {},
   "source": [
    "También se puede agrupar por varias columnas, simplemente pasando una lista con los nombres. En este caso agruparemos por sexo y especialidad, y buscaremos la media de estas agregaciones con `.mean()`:"
   ]
  },
  {
   "cell_type": "code",
   "execution_count": 87,
   "id": "1929bd43",
   "metadata": {},
   "outputs": [
    {
     "data": {
      "text/html": [
       "<div>\n",
       "<style scoped>\n",
       "    .dataframe tbody tr th:only-of-type {\n",
       "        vertical-align: middle;\n",
       "    }\n",
       "\n",
       "    .dataframe tbody tr th {\n",
       "        vertical-align: top;\n",
       "    }\n",
       "\n",
       "    .dataframe thead th {\n",
       "        text-align: right;\n",
       "    }\n",
       "</style>\n",
       "<table border=\"1\" class=\"dataframe\">\n",
       "  <thead>\n",
       "    <tr style=\"text-align: right;\">\n",
       "      <th></th>\n",
       "      <th></th>\n",
       "      <th>edad</th>\n",
       "      <th>visitas</th>\n",
       "    </tr>\n",
       "    <tr>\n",
       "      <th>sexo</th>\n",
       "      <th>especialidad</th>\n",
       "      <th></th>\n",
       "      <th></th>\n",
       "    </tr>\n",
       "  </thead>\n",
       "  <tbody>\n",
       "    <tr>\n",
       "      <th rowspan=\"5\" valign=\"top\">H</th>\n",
       "      <th>Hacking</th>\n",
       "      <td>28.0</td>\n",
       "      <td>132567.0</td>\n",
       "    </tr>\n",
       "    <tr>\n",
       "      <th>Hardware</th>\n",
       "      <td>30.0</td>\n",
       "      <td>130855.0</td>\n",
       "    </tr>\n",
       "    <tr>\n",
       "      <th>Programación</th>\n",
       "      <td>31.0</td>\n",
       "      <td>146003.5</td>\n",
       "    </tr>\n",
       "    <tr>\n",
       "      <th>Robótica</th>\n",
       "      <td>29.0</td>\n",
       "      <td>143620.0</td>\n",
       "    </tr>\n",
       "    <tr>\n",
       "      <th>Sistemas Operativos</th>\n",
       "      <td>28.0</td>\n",
       "      <td>132008.0</td>\n",
       "    </tr>\n",
       "    <tr>\n",
       "      <th>M</th>\n",
       "      <th>Edición de vídeo</th>\n",
       "      <td>29.0</td>\n",
       "      <td>114175.0</td>\n",
       "    </tr>\n",
       "  </tbody>\n",
       "</table>\n",
       "</div>"
      ],
      "text/plain": [
       "                          edad   visitas\n",
       "sexo especialidad                       \n",
       "H    Hacking              28.0  132567.0\n",
       "     Hardware             30.0  130855.0\n",
       "     Programación         31.0  146003.5\n",
       "     Robótica             29.0  143620.0\n",
       "     Sistemas Operativos  28.0  132008.0\n",
       "M    Edición de vídeo     29.0  114175.0"
      ]
     },
     "execution_count": 87,
     "metadata": {},
     "output_type": "execute_result"
    }
   ],
   "source": [
    "df.groupby(['sexo', 'especialidad']).mean()"
   ]
  },
  {
   "cell_type": "markdown",
   "id": "f8a62d7d",
   "metadata": {},
   "source": [
    "## pd.pivot_table()"
   ]
  },
  {
   "cell_type": "markdown",
   "id": "464ad7c8",
   "metadata": {},
   "source": [
    "Esta función de **Pandas** _transforma_ nuestro DataFrame a nuestra conveniencia. Para aprender a usarla, sin embargo, requiere un poco de práctica.\n",
    "\n",
    "Esta función acepta varios argumentos:\n",
    " - El DataFrame que queremos transformar\n",
    " - Qué información queremos en el `indice`\n",
    " - Qué información queremos en las `columnas`\n",
    " - Qué `valores` queremos mostrar en la tabla.\n",
    " \n",
    "> [pd.pivot_table( _df, index, columns, values_ )](https://pandas.pydata.org/docs/reference/api/pandas.pivot_table.html)\n",
    "\n",
    "En este caso también se agregarán valores, como en GroupBy, sólo que en ésta ocasión la operación agregadora por defecto es **la media**, aunque podemos cambiarlo fácilmente."
   ]
  },
  {
   "cell_type": "markdown",
   "id": "79b4e961",
   "metadata": {},
   "source": [
    "Para este caso, haremos que nuestro _DataFrame_ contenga como **valores** la media de `visitas` por `sexo` (en el **índice**) y separará estos valores por la `especialidad` (en las **columnas**):"
   ]
  },
  {
   "cell_type": "code",
   "execution_count": 91,
   "id": "db1a0448",
   "metadata": {},
   "outputs": [
    {
     "data": {
      "text/html": [
       "<div>\n",
       "<style scoped>\n",
       "    .dataframe tbody tr th:only-of-type {\n",
       "        vertical-align: middle;\n",
       "    }\n",
       "\n",
       "    .dataframe tbody tr th {\n",
       "        vertical-align: top;\n",
       "    }\n",
       "\n",
       "    .dataframe thead th {\n",
       "        text-align: right;\n",
       "    }\n",
       "</style>\n",
       "<table border=\"1\" class=\"dataframe\">\n",
       "  <thead>\n",
       "    <tr style=\"text-align: right;\">\n",
       "      <th>especialidad</th>\n",
       "      <th>Edición de vídeo</th>\n",
       "      <th>Hacking</th>\n",
       "      <th>Hardware</th>\n",
       "      <th>Programación</th>\n",
       "      <th>Robótica</th>\n",
       "      <th>Sistemas Operativos</th>\n",
       "    </tr>\n",
       "    <tr>\n",
       "      <th>sexo</th>\n",
       "      <th></th>\n",
       "      <th></th>\n",
       "      <th></th>\n",
       "      <th></th>\n",
       "      <th></th>\n",
       "      <th></th>\n",
       "    </tr>\n",
       "  </thead>\n",
       "  <tbody>\n",
       "    <tr>\n",
       "      <th>H</th>\n",
       "      <td>NaN</td>\n",
       "      <td>132567.0</td>\n",
       "      <td>130855.0</td>\n",
       "      <td>146003.5</td>\n",
       "      <td>143620.0</td>\n",
       "      <td>132008.0</td>\n",
       "    </tr>\n",
       "    <tr>\n",
       "      <th>M</th>\n",
       "      <td>114175.0</td>\n",
       "      <td>NaN</td>\n",
       "      <td>NaN</td>\n",
       "      <td>NaN</td>\n",
       "      <td>NaN</td>\n",
       "      <td>NaN</td>\n",
       "    </tr>\n",
       "  </tbody>\n",
       "</table>\n",
       "</div>"
      ],
      "text/plain": [
       "especialidad  Edición de vídeo   Hacking  Hardware  Programación  Robótica  \\\n",
       "sexo                                                                         \n",
       "H                          NaN  132567.0  130855.0      146003.5  143620.0   \n",
       "M                     114175.0       NaN       NaN           NaN       NaN   \n",
       "\n",
       "especialidad  Sistemas Operativos  \n",
       "sexo                               \n",
       "H                        132008.0  \n",
       "M                             NaN  "
      ]
     },
     "execution_count": 91,
     "metadata": {},
     "output_type": "execute_result"
    }
   ],
   "source": [
    "pd.pivot_table(df, index='sexo', columns='especialidad', values='visitas')"
   ]
  },
  {
   "cell_type": "markdown",
   "id": "b55db230",
   "metadata": {},
   "source": [
    "También podemos introducir `strings` como valores en la tabla. De paso, cambiaremos la función agregadora con el parámetro `aggfunc`:"
   ]
  },
  {
   "cell_type": "code",
   "execution_count": 93,
   "id": "2702830a",
   "metadata": {},
   "outputs": [
    {
     "data": {
      "text/html": [
       "<div>\n",
       "<style scoped>\n",
       "    .dataframe tbody tr th:only-of-type {\n",
       "        vertical-align: middle;\n",
       "    }\n",
       "\n",
       "    .dataframe tbody tr th {\n",
       "        vertical-align: top;\n",
       "    }\n",
       "\n",
       "    .dataframe thead tr th {\n",
       "        text-align: left;\n",
       "    }\n",
       "\n",
       "    .dataframe thead tr:last-of-type th {\n",
       "        text-align: right;\n",
       "    }\n",
       "</style>\n",
       "<table border=\"1\" class=\"dataframe\">\n",
       "  <thead>\n",
       "    <tr>\n",
       "      <th></th>\n",
       "      <th colspan=\"6\" halign=\"left\">nombre</th>\n",
       "    </tr>\n",
       "    <tr>\n",
       "      <th>especialidad</th>\n",
       "      <th>Edición de vídeo</th>\n",
       "      <th>Hacking</th>\n",
       "      <th>Hardware</th>\n",
       "      <th>Programación</th>\n",
       "      <th>Robótica</th>\n",
       "      <th>Sistemas Operativos</th>\n",
       "    </tr>\n",
       "    <tr>\n",
       "      <th>sexo</th>\n",
       "      <th></th>\n",
       "      <th></th>\n",
       "      <th></th>\n",
       "      <th></th>\n",
       "      <th></th>\n",
       "      <th></th>\n",
       "    </tr>\n",
       "  </thead>\n",
       "  <tbody>\n",
       "    <tr>\n",
       "      <th>H</th>\n",
       "      <td>NaN</td>\n",
       "      <td>s4vitar</td>\n",
       "      <td>SFDX Show</td>\n",
       "      <td>Nate Gentile</td>\n",
       "      <td>Iron Man</td>\n",
       "      <td>Thor</td>\n",
       "    </tr>\n",
       "    <tr>\n",
       "      <th>M</th>\n",
       "      <td>Spiderman</td>\n",
       "      <td>NaN</td>\n",
       "      <td>NaN</td>\n",
       "      <td>NaN</td>\n",
       "      <td>NaN</td>\n",
       "      <td>NaN</td>\n",
       "    </tr>\n",
       "  </tbody>\n",
       "</table>\n",
       "</div>"
      ],
      "text/plain": [
       "                       nombre                                              \\\n",
       "especialidad Edición de vídeo  Hacking   Hardware  Programación  Robótica   \n",
       "sexo                                                                        \n",
       "H                         NaN  s4vitar  SFDX Show  Nate Gentile  Iron Man   \n",
       "M                   Spiderman      NaN        NaN           NaN       NaN   \n",
       "\n",
       "                                  \n",
       "especialidad Sistemas Operativos  \n",
       "sexo                              \n",
       "H                           Thor  \n",
       "M                            NaN  "
      ]
     },
     "execution_count": 93,
     "metadata": {},
     "output_type": "execute_result"
    }
   ],
   "source": [
    "pd.pivot_table(df, index=['sexo'], values=['nombre'], columns=['especialidad'], aggfunc=np.max )"
   ]
  },
  {
   "cell_type": "markdown",
   "id": "ce3c4772",
   "metadata": {},
   "source": [
    "# Fechas"
   ]
  },
  {
   "cell_type": "markdown",
   "id": "879ad1e4",
   "metadata": {},
   "source": [
    "Las fechas en Pandas son muy habituales y muy útiles de usar. Tenemos que saber que cada una de estas fechas son un objeto propio, aunque parezcan strings. Estamos hablando del objeto `DateTime`, que nos permite hacer muchísimas operaciones para tener un control total de los tiempos. Os dejo un [link](https://docs.python.org/3/library/datetime.html) para que conozcáis un poco más a fondo."
   ]
  },
  {
   "cell_type": "markdown",
   "id": "7e1f95d2",
   "metadata": {},
   "source": [
    "## Creando fechas"
   ]
  },
  {
   "cell_type": "markdown",
   "id": "dd8f0123",
   "metadata": {},
   "source": [
    "En Pandas podemos crear o importar estas fechas de muchísimas formas. La más sencilla a nuestro parecer, creando un _rango_ de fechas con una periodicidad en concreto:\n",
    "\n",
    "> [pd.date_range(_**start**= inicio_fecha, **end**= fecha_final, **freq**= frecuencia_)](https://pandas.pydata.org/docs/reference/api/pandas.date_range.html)\n",
    "\n",
    "Tenemos que saber que los strings que usaremos para definir estas fechas tienen varias posibilidades válidas para que **Pandas** las acepte. Unos ejemplos pueden ser:\n",
    "- `1 January 2022`\n",
    "- `01/01/2022`\n",
    "- `Wed Jan 01 18:42:50 2022`\n",
    "\n",
    "Hay muchos formatos válidos, y os los adjunto [aquí](https://datatest.readthedocs.io/en/stable/how-to/date-time-str.html#strftime-codes-for-common-formats)"
   ]
  },
  {
   "cell_type": "code",
   "execution_count": 64,
   "id": "5d65f4b3",
   "metadata": {},
   "outputs": [
    {
     "data": {
      "text/html": [
       "<div>\n",
       "<style scoped>\n",
       "    .dataframe tbody tr th:only-of-type {\n",
       "        vertical-align: middle;\n",
       "    }\n",
       "\n",
       "    .dataframe tbody tr th {\n",
       "        vertical-align: top;\n",
       "    }\n",
       "\n",
       "    .dataframe thead th {\n",
       "        text-align: right;\n",
       "    }\n",
       "</style>\n",
       "<table border=\"1\" class=\"dataframe\">\n",
       "  <thead>\n",
       "    <tr style=\"text-align: right;\">\n",
       "      <th></th>\n",
       "      <th>nombre</th>\n",
       "      <th>especialidad</th>\n",
       "      <th>edad</th>\n",
       "      <th>visitas</th>\n",
       "      <th>sexo</th>\n",
       "    </tr>\n",
       "  </thead>\n",
       "  <tbody>\n",
       "    <tr>\n",
       "      <th>0</th>\n",
       "      <td>SFDX Show</td>\n",
       "      <td>Hardware</td>\n",
       "      <td>30</td>\n",
       "      <td>130855</td>\n",
       "      <td>H</td>\n",
       "    </tr>\n",
       "    <tr>\n",
       "      <th>1</th>\n",
       "      <td>Sara Nogark</td>\n",
       "      <td>Edición de vídeo</td>\n",
       "      <td>29</td>\n",
       "      <td>114175</td>\n",
       "      <td>M</td>\n",
       "    </tr>\n",
       "    <tr>\n",
       "      <th>2</th>\n",
       "      <td>Nate Gentile</td>\n",
       "      <td>Programación</td>\n",
       "      <td>31</td>\n",
       "      <td>142545</td>\n",
       "      <td>H</td>\n",
       "    </tr>\n",
       "    <tr>\n",
       "      <th>3</th>\n",
       "      <td>Bettatech</td>\n",
       "      <td>Programación</td>\n",
       "      <td>31</td>\n",
       "      <td>149462</td>\n",
       "      <td>H</td>\n",
       "    </tr>\n",
       "    <tr>\n",
       "      <th>4</th>\n",
       "      <td>Antonio Sarosi</td>\n",
       "      <td>Sistemas Operativos</td>\n",
       "      <td>28</td>\n",
       "      <td>132008</td>\n",
       "      <td>H</td>\n",
       "    </tr>\n",
       "  </tbody>\n",
       "</table>\n",
       "</div>"
      ],
      "text/plain": [
       "           nombre         especialidad  edad  visitas sexo\n",
       "0       SFDX Show             Hardware    30   130855    H\n",
       "1     Sara Nogark     Edición de vídeo    29   114175    M\n",
       "2    Nate Gentile         Programación    31   142545    H\n",
       "3       Bettatech         Programación    31   149462    H\n",
       "4  Antonio Sarosi  Sistemas Operativos    28   132008    H"
      ]
     },
     "execution_count": 64,
     "metadata": {},
     "output_type": "execute_result"
    }
   ],
   "source": [
    "df.head()"
   ]
  },
  {
   "cell_type": "markdown",
   "id": "7e081e09",
   "metadata": {},
   "source": [
    "Pongamos que queremos añadir una 'fecha de entrada' de los profesores, imaginando que cada mes entra uno nuevo. Para ello, tendremos que crear un rango de fechas **con la misma longitud** que nuestro _DataFrame_ no podemos tener más ni menos:"
   ]
  },
  {
   "cell_type": "code",
   "execution_count": 95,
   "id": "3ccebd99",
   "metadata": {},
   "outputs": [
    {
     "data": {
      "text/plain": [
       "14"
      ]
     },
     "execution_count": 95,
     "metadata": {},
     "output_type": "execute_result"
    }
   ],
   "source": [
    "len(df)"
   ]
  },
  {
   "cell_type": "code",
   "execution_count": 97,
   "id": "5156c6be",
   "metadata": {},
   "outputs": [
    {
     "data": {
      "text/plain": [
       "DatetimeIndex(['2021-01-01', '2021-02-01', '2021-03-01', '2021-04-01',\n",
       "               '2021-05-01', '2021-06-01', '2021-07-01', '2021-08-01',\n",
       "               '2021-09-01', '2021-10-01', '2021-11-01', '2021-12-01',\n",
       "               '2022-01-01', '2022-02-01'],\n",
       "              dtype='datetime64[ns]', freq='MS')"
      ]
     },
     "execution_count": 97,
     "metadata": {},
     "output_type": "execute_result"
    }
   ],
   "source": [
    "fechas = pd.date_range(start='1 January 2021', end= '1 February 2022', freq= 'MS')\n",
    "\n",
    "fechas"
   ]
  },
  {
   "cell_type": "code",
   "execution_count": 98,
   "id": "5132d83e",
   "metadata": {},
   "outputs": [
    {
     "data": {
      "text/plain": [
       "14"
      ]
     },
     "execution_count": 98,
     "metadata": {},
     "output_type": "execute_result"
    }
   ],
   "source": [
    "len(fechas)"
   ]
  },
  {
   "cell_type": "markdown",
   "id": "a58e113e",
   "metadata": {},
   "source": [
    "También, podemos usar el atributo `periods` para definir cuántos elementos queremos, usando la propia longitud de nuestro _DataFrame_ para especificar la cantidad:"
   ]
  },
  {
   "cell_type": "code",
   "execution_count": 99,
   "id": "786628d8",
   "metadata": {},
   "outputs": [
    {
     "data": {
      "text/plain": [
       "DatetimeIndex(['2021-01-01', '2021-02-01', '2021-03-01', '2021-04-01',\n",
       "               '2021-05-01', '2021-06-01', '2021-07-01', '2021-08-01',\n",
       "               '2021-09-01', '2021-10-01', '2021-11-01', '2021-12-01',\n",
       "               '2022-01-01', '2022-02-01'],\n",
       "              dtype='datetime64[ns]', freq='MS')"
      ]
     },
     "execution_count": 99,
     "metadata": {},
     "output_type": "execute_result"
    }
   ],
   "source": [
    "fechas = pd.date_range(start='1 January 2021', periods= len(df), freq= 'MS')\n",
    "\n",
    "fechas"
   ]
  },
  {
   "cell_type": "code",
   "execution_count": 100,
   "id": "782725b1",
   "metadata": {},
   "outputs": [
    {
     "data": {
      "text/plain": [
       "14"
      ]
     },
     "execution_count": 100,
     "metadata": {},
     "output_type": "execute_result"
    }
   ],
   "source": [
    "len(df)"
   ]
  },
  {
   "cell_type": "markdown",
   "id": "f96a0fc2",
   "metadata": {},
   "source": [
    "## Asignando a un índice"
   ]
  },
  {
   "cell_type": "markdown",
   "id": "3b4ce5bd",
   "metadata": {},
   "source": [
    "Una de las utilidades de tener fechas en **Pandas** es que podemos usarlas para filtrar nuestros datos. De hecho, cuando se trabajan con fechas en Data Science se habla de el uso de **Series Temporales**, y es todo un arte bastante amplio.\n",
    "\n",
    "En nuestro caso, debemos saber que si asignamos las fechas al índice de nuestro DataFrame, podemos usarlas fácilmente para encontrar los períodos que nos interesen. Para ello, simplemente usaremos el método `.set_index()`:"
   ]
  },
  {
   "cell_type": "code",
   "execution_count": 142,
   "id": "98ab0a33",
   "metadata": {},
   "outputs": [],
   "source": [
    "df.set_index(pd.DatetimeIndex(fecha), inplace=True)"
   ]
  },
  {
   "cell_type": "markdown",
   "id": "b0d37ab7",
   "metadata": {},
   "source": [
    "Vemos que nuestro objeto `fecha` es el argumento de otra función de **Pandas**, `pd.DatetimeIndex`, que simplemente la usaremos para 'adaptar' estas fechas para que Pandas las interprete bien."
   ]
  },
  {
   "cell_type": "code",
   "execution_count": 143,
   "id": "bcfe19c5",
   "metadata": {},
   "outputs": [
    {
     "data": {
      "text/html": [
       "<div>\n",
       "<style scoped>\n",
       "    .dataframe tbody tr th:only-of-type {\n",
       "        vertical-align: middle;\n",
       "    }\n",
       "\n",
       "    .dataframe tbody tr th {\n",
       "        vertical-align: top;\n",
       "    }\n",
       "\n",
       "    .dataframe thead th {\n",
       "        text-align: right;\n",
       "    }\n",
       "</style>\n",
       "<table border=\"1\" class=\"dataframe\">\n",
       "  <thead>\n",
       "    <tr style=\"text-align: right;\">\n",
       "      <th></th>\n",
       "      <th>nombre</th>\n",
       "      <th>especialidad</th>\n",
       "      <th>edad</th>\n",
       "      <th>visitas</th>\n",
       "      <th>sexo</th>\n",
       "    </tr>\n",
       "  </thead>\n",
       "  <tbody>\n",
       "    <tr>\n",
       "      <th>2021-01-01</th>\n",
       "      <td>SFDX Show</td>\n",
       "      <td>Hardware</td>\n",
       "      <td>30</td>\n",
       "      <td>130855</td>\n",
       "      <td>H</td>\n",
       "    </tr>\n",
       "    <tr>\n",
       "      <th>2021-02-01</th>\n",
       "      <td>Sara Nogark</td>\n",
       "      <td>Edición de vídeo</td>\n",
       "      <td>29</td>\n",
       "      <td>114175</td>\n",
       "      <td>M</td>\n",
       "    </tr>\n",
       "    <tr>\n",
       "      <th>2021-03-01</th>\n",
       "      <td>Nate Gentile</td>\n",
       "      <td>Programación</td>\n",
       "      <td>31</td>\n",
       "      <td>142545</td>\n",
       "      <td>H</td>\n",
       "    </tr>\n",
       "    <tr>\n",
       "      <th>2021-04-01</th>\n",
       "      <td>Bettatech</td>\n",
       "      <td>Programación</td>\n",
       "      <td>31</td>\n",
       "      <td>149462</td>\n",
       "      <td>H</td>\n",
       "    </tr>\n",
       "    <tr>\n",
       "      <th>2021-05-01</th>\n",
       "      <td>Antonio Sarosi</td>\n",
       "      <td>Sistemas Operativos</td>\n",
       "      <td>28</td>\n",
       "      <td>132008</td>\n",
       "      <td>H</td>\n",
       "    </tr>\n",
       "    <tr>\n",
       "      <th>2021-06-01</th>\n",
       "      <td>Edgar Pons</td>\n",
       "      <td>Robótica</td>\n",
       "      <td>29</td>\n",
       "      <td>143620</td>\n",
       "      <td>H</td>\n",
       "    </tr>\n",
       "    <tr>\n",
       "      <th>2021-07-01</th>\n",
       "      <td>s4vitar</td>\n",
       "      <td>Hacking</td>\n",
       "      <td>28</td>\n",
       "      <td>132567</td>\n",
       "      <td>H</td>\n",
       "    </tr>\n",
       "    <tr>\n",
       "      <th>2021-08-01</th>\n",
       "      <td>Batman</td>\n",
       "      <td>Hardware</td>\n",
       "      <td>30</td>\n",
       "      <td>130855</td>\n",
       "      <td>H</td>\n",
       "    </tr>\n",
       "    <tr>\n",
       "      <th>2021-09-01</th>\n",
       "      <td>Spiderman</td>\n",
       "      <td>Edición de vídeo</td>\n",
       "      <td>29</td>\n",
       "      <td>114175</td>\n",
       "      <td>M</td>\n",
       "    </tr>\n",
       "    <tr>\n",
       "      <th>2021-10-01</th>\n",
       "      <td>Catwoman</td>\n",
       "      <td>Programación</td>\n",
       "      <td>31</td>\n",
       "      <td>142545</td>\n",
       "      <td>H</td>\n",
       "    </tr>\n",
       "    <tr>\n",
       "      <th>2021-11-01</th>\n",
       "      <td>Capitan America</td>\n",
       "      <td>Programación</td>\n",
       "      <td>31</td>\n",
       "      <td>149462</td>\n",
       "      <td>H</td>\n",
       "    </tr>\n",
       "    <tr>\n",
       "      <th>2021-12-01</th>\n",
       "      <td>Thor</td>\n",
       "      <td>Sistemas Operativos</td>\n",
       "      <td>28</td>\n",
       "      <td>132008</td>\n",
       "      <td>H</td>\n",
       "    </tr>\n",
       "    <tr>\n",
       "      <th>2022-01-01</th>\n",
       "      <td>Iron Man</td>\n",
       "      <td>Robótica</td>\n",
       "      <td>29</td>\n",
       "      <td>143620</td>\n",
       "      <td>H</td>\n",
       "    </tr>\n",
       "    <tr>\n",
       "      <th>2022-02-01</th>\n",
       "      <td>Loki</td>\n",
       "      <td>Hacking</td>\n",
       "      <td>28</td>\n",
       "      <td>132567</td>\n",
       "      <td>H</td>\n",
       "    </tr>\n",
       "  </tbody>\n",
       "</table>\n",
       "</div>"
      ],
      "text/plain": [
       "                     nombre         especialidad  edad  visitas sexo\n",
       "2021-01-01        SFDX Show             Hardware    30   130855    H\n",
       "2021-02-01      Sara Nogark     Edición de vídeo    29   114175    M\n",
       "2021-03-01     Nate Gentile         Programación    31   142545    H\n",
       "2021-04-01        Bettatech         Programación    31   149462    H\n",
       "2021-05-01   Antonio Sarosi  Sistemas Operativos    28   132008    H\n",
       "2021-06-01       Edgar Pons             Robótica    29   143620    H\n",
       "2021-07-01          s4vitar              Hacking    28   132567    H\n",
       "2021-08-01           Batman             Hardware    30   130855    H\n",
       "2021-09-01        Spiderman     Edición de vídeo    29   114175    M\n",
       "2021-10-01         Catwoman         Programación    31   142545    H\n",
       "2021-11-01  Capitan America         Programación    31   149462    H\n",
       "2021-12-01             Thor  Sistemas Operativos    28   132008    H\n",
       "2022-01-01         Iron Man             Robótica    29   143620    H\n",
       "2022-02-01             Loki              Hacking    28   132567    H"
      ]
     },
     "execution_count": 143,
     "metadata": {},
     "output_type": "execute_result"
    }
   ],
   "source": [
    "df"
   ]
  },
  {
   "cell_type": "code",
   "execution_count": 144,
   "id": "b9d3b327",
   "metadata": {},
   "outputs": [
    {
     "data": {
      "text/plain": [
       "DatetimeIndex(['2021-01-01', '2021-02-01', '2021-03-01', '2021-04-01',\n",
       "               '2021-05-01', '2021-06-01', '2021-07-01', '2021-08-01',\n",
       "               '2021-09-01', '2021-10-01', '2021-11-01', '2021-12-01',\n",
       "               '2022-01-01', '2022-02-01'],\n",
       "              dtype='datetime64[ns]', freq='MS')"
      ]
     },
     "execution_count": 144,
     "metadata": {},
     "output_type": "execute_result"
    }
   ],
   "source": [
    "df.index"
   ]
  },
  {
   "cell_type": "markdown",
   "id": "dc85b426",
   "metadata": {},
   "source": [
    "## Formato"
   ]
  },
  {
   "cell_type": "markdown",
   "id": "d1bb4a2f",
   "metadata": {},
   "source": [
    "Nosotros también podemos cambiar el formato de nuestras fechas de una manera fácil, según el que nos apetezca más. Simplemente tendremos que seleccionar nuestro índice con el atributo `df.index` y reasignarlo, esta vez transformándolo con el método `.strftime()` (de **str**ing **f**ormat **time**):\n",
    "\n",
    "> [DateTime.strftime(_formato_)](https://docs.python.org/3/library/datetime.html#strftime-and-strptime-format-codes)"
   ]
  },
  {
   "cell_type": "markdown",
   "id": "7d5d522a",
   "metadata": {},
   "source": [
    "Este formático está basado en un código universal, que se puede aplicar a varios lenguajes de programación. Lo explicamos en detalle en el vídeo, pero os dejo un [link](https://docs.python.org/3/library/datetime.html#strftime-and-strptime-format-codes) para que lo podáis consultar:"
   ]
  },
  {
   "cell_type": "code",
   "execution_count": 136,
   "id": "dd14d271",
   "metadata": {},
   "outputs": [],
   "source": [
    "formato = '%d/%m/%Y'"
   ]
  },
  {
   "cell_type": "code",
   "execution_count": 146,
   "id": "6b1d0ad6",
   "metadata": {},
   "outputs": [],
   "source": [
    "df.index = df.index.strftime(formato)"
   ]
  },
  {
   "cell_type": "code",
   "execution_count": 147,
   "id": "33dca6e1",
   "metadata": {},
   "outputs": [
    {
     "data": {
      "text/html": [
       "<div>\n",
       "<style scoped>\n",
       "    .dataframe tbody tr th:only-of-type {\n",
       "        vertical-align: middle;\n",
       "    }\n",
       "\n",
       "    .dataframe tbody tr th {\n",
       "        vertical-align: top;\n",
       "    }\n",
       "\n",
       "    .dataframe thead th {\n",
       "        text-align: right;\n",
       "    }\n",
       "</style>\n",
       "<table border=\"1\" class=\"dataframe\">\n",
       "  <thead>\n",
       "    <tr style=\"text-align: right;\">\n",
       "      <th></th>\n",
       "      <th>nombre</th>\n",
       "      <th>especialidad</th>\n",
       "      <th>edad</th>\n",
       "      <th>visitas</th>\n",
       "      <th>sexo</th>\n",
       "    </tr>\n",
       "  </thead>\n",
       "  <tbody>\n",
       "    <tr>\n",
       "      <th>01/01/2021</th>\n",
       "      <td>SFDX Show</td>\n",
       "      <td>Hardware</td>\n",
       "      <td>30</td>\n",
       "      <td>130855</td>\n",
       "      <td>H</td>\n",
       "    </tr>\n",
       "    <tr>\n",
       "      <th>01/02/2021</th>\n",
       "      <td>Sara Nogark</td>\n",
       "      <td>Edición de vídeo</td>\n",
       "      <td>29</td>\n",
       "      <td>114175</td>\n",
       "      <td>M</td>\n",
       "    </tr>\n",
       "    <tr>\n",
       "      <th>01/03/2021</th>\n",
       "      <td>Nate Gentile</td>\n",
       "      <td>Programación</td>\n",
       "      <td>31</td>\n",
       "      <td>142545</td>\n",
       "      <td>H</td>\n",
       "    </tr>\n",
       "    <tr>\n",
       "      <th>01/04/2021</th>\n",
       "      <td>Bettatech</td>\n",
       "      <td>Programación</td>\n",
       "      <td>31</td>\n",
       "      <td>149462</td>\n",
       "      <td>H</td>\n",
       "    </tr>\n",
       "    <tr>\n",
       "      <th>01/05/2021</th>\n",
       "      <td>Antonio Sarosi</td>\n",
       "      <td>Sistemas Operativos</td>\n",
       "      <td>28</td>\n",
       "      <td>132008</td>\n",
       "      <td>H</td>\n",
       "    </tr>\n",
       "    <tr>\n",
       "      <th>01/06/2021</th>\n",
       "      <td>Edgar Pons</td>\n",
       "      <td>Robótica</td>\n",
       "      <td>29</td>\n",
       "      <td>143620</td>\n",
       "      <td>H</td>\n",
       "    </tr>\n",
       "    <tr>\n",
       "      <th>01/07/2021</th>\n",
       "      <td>s4vitar</td>\n",
       "      <td>Hacking</td>\n",
       "      <td>28</td>\n",
       "      <td>132567</td>\n",
       "      <td>H</td>\n",
       "    </tr>\n",
       "    <tr>\n",
       "      <th>01/08/2021</th>\n",
       "      <td>Batman</td>\n",
       "      <td>Hardware</td>\n",
       "      <td>30</td>\n",
       "      <td>130855</td>\n",
       "      <td>H</td>\n",
       "    </tr>\n",
       "    <tr>\n",
       "      <th>01/09/2021</th>\n",
       "      <td>Spiderman</td>\n",
       "      <td>Edición de vídeo</td>\n",
       "      <td>29</td>\n",
       "      <td>114175</td>\n",
       "      <td>M</td>\n",
       "    </tr>\n",
       "    <tr>\n",
       "      <th>01/10/2021</th>\n",
       "      <td>Catwoman</td>\n",
       "      <td>Programación</td>\n",
       "      <td>31</td>\n",
       "      <td>142545</td>\n",
       "      <td>H</td>\n",
       "    </tr>\n",
       "    <tr>\n",
       "      <th>01/11/2021</th>\n",
       "      <td>Capitan America</td>\n",
       "      <td>Programación</td>\n",
       "      <td>31</td>\n",
       "      <td>149462</td>\n",
       "      <td>H</td>\n",
       "    </tr>\n",
       "    <tr>\n",
       "      <th>01/12/2021</th>\n",
       "      <td>Thor</td>\n",
       "      <td>Sistemas Operativos</td>\n",
       "      <td>28</td>\n",
       "      <td>132008</td>\n",
       "      <td>H</td>\n",
       "    </tr>\n",
       "    <tr>\n",
       "      <th>01/01/2022</th>\n",
       "      <td>Iron Man</td>\n",
       "      <td>Robótica</td>\n",
       "      <td>29</td>\n",
       "      <td>143620</td>\n",
       "      <td>H</td>\n",
       "    </tr>\n",
       "    <tr>\n",
       "      <th>01/02/2022</th>\n",
       "      <td>Loki</td>\n",
       "      <td>Hacking</td>\n",
       "      <td>28</td>\n",
       "      <td>132567</td>\n",
       "      <td>H</td>\n",
       "    </tr>\n",
       "  </tbody>\n",
       "</table>\n",
       "</div>"
      ],
      "text/plain": [
       "                     nombre         especialidad  edad  visitas sexo\n",
       "01/01/2021        SFDX Show             Hardware    30   130855    H\n",
       "01/02/2021      Sara Nogark     Edición de vídeo    29   114175    M\n",
       "01/03/2021     Nate Gentile         Programación    31   142545    H\n",
       "01/04/2021        Bettatech         Programación    31   149462    H\n",
       "01/05/2021   Antonio Sarosi  Sistemas Operativos    28   132008    H\n",
       "01/06/2021       Edgar Pons             Robótica    29   143620    H\n",
       "01/07/2021          s4vitar              Hacking    28   132567    H\n",
       "01/08/2021           Batman             Hardware    30   130855    H\n",
       "01/09/2021        Spiderman     Edición de vídeo    29   114175    M\n",
       "01/10/2021         Catwoman         Programación    31   142545    H\n",
       "01/11/2021  Capitan America         Programación    31   149462    H\n",
       "01/12/2021             Thor  Sistemas Operativos    28   132008    H\n",
       "01/01/2022         Iron Man             Robótica    29   143620    H\n",
       "01/02/2022             Loki              Hacking    28   132567    H"
      ]
     },
     "execution_count": 147,
     "metadata": {},
     "output_type": "execute_result"
    }
   ],
   "source": [
    "df"
   ]
  },
  {
   "cell_type": "markdown",
   "id": "0d6eaec6",
   "metadata": {},
   "source": [
    "----\n",
    "Vaya! Ha sido un capítulo extenso. Y no es para menos! **Pandas** es la librería que más usaremos, con diferencia, y la que nos va a dar más alegrías a lo largo del curso.\n",
    "\n",
    "Este _Notebook_ tiene el propósito de serviros como guía y consulta. Es normal que ahora parezcan muchos conceptos, pero no os preocupéis, con un poco de tiempo se entiende fácil ;)"
   ]
  },
  {
   "cell_type": "markdown",
   "id": "cb13882f",
   "metadata": {},
   "source": [
    "![](https://www.pintzap.com/img/memes/list/20.jpg)"
   ]
  }
 ],
 "metadata": {
  "kernelspec": {
   "display_name": "Python 3 (ipykernel)",
   "language": "python",
   "name": "python3"
  },
  "language_info": {
   "codemirror_mode": {
    "name": "ipython",
    "version": 3
   },
   "file_extension": ".py",
   "mimetype": "text/x-python",
   "name": "python",
   "nbconvert_exporter": "python",
   "pygments_lexer": "ipython3",
   "version": "3.10.9"
  },
  "toc": {
   "base_numbering": 1,
   "nav_menu": {},
   "number_sections": true,
   "sideBar": true,
   "skip_h1_title": false,
   "title_cell": "Table of Contents",
   "title_sidebar": "Contents",
   "toc_cell": false,
   "toc_position": {
    "height": "calc(100% - 180px)",
    "left": "10px",
    "top": "150px",
    "width": "384px"
   },
   "toc_section_display": true,
   "toc_window_display": true
  }
 },
 "nbformat": 4,
 "nbformat_minor": 5
}
