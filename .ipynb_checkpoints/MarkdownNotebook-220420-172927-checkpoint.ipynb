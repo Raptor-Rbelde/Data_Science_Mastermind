{
 "cells": [
  {
   "cell_type": "markdown",
   "id": "ccb13bb5",
   "metadata": {},
   "source": [
    "![](https://import.cdn.thinkific.com/220744/BExaQBPPQairRWFqxFbK_logo_mastermind_web_png)"
   ]
  },
  {
   "cell_type": "markdown",
   "id": "50a3c1ab",
   "metadata": {},
   "source": [
    "¡Bienvenid@s a este curso de Introducción a la Ciencia de Datos de **Mastermind**!  \n",
    "\n",
    "> Ten en cuenta que recomendamos ver todos los vídeos hasta este punto del curso, y realizar los tests antes de revisar el Notebook. ¡Esto aplica a éste y siguientes Notebooks!\n",
    "\n",
    "En este primer *Notebook* exploraremos algunas funcionalidades de **Markdown**, un lenguaje de formato de texto basado en HTML que podremos utilizar en nuestro Notebook de forma muy sencilla.\n",
    "\n",
    "**Muy importante** - Para poder generar contenido en formato **Markdown** es necesario asignar el formato *Markdown* a la celda donde se esté trabajando. Se puede hacer:\n",
    "- Con el menú desplegable en la barra de tareas (indicando *Markdown*) o \n",
    "- Pulsando la tecla `m` en el modo *edit* de la celda (cuando la barra que está a su izquierda está en color azul, haciendo click fuera del recuadro de la propia celda)\n",
    "\n",
    "\n",
    "\n"
   ]
  },
  {
   "cell_type": "markdown",
   "id": "8566fcb1",
   "metadata": {},
   "source": [
    "Lo primero que vamos a mirar es cómo generar apartados, ya que ayuda organizar nuestro *Notebook*. Lo primero que hay que saber es que estos apartados se llaman `headings`, y están organizados por números, del 1 al 4. El `heading` de nivel 1 es el nivel más alto, y va descendiendo a medida que se reduce éste nivel. \n",
    "\n",
    "Para colocar un `heading`, se debe introducir la cantidad de numerales (`#`) correspondiendo al nivel **al inicio** de la celda.  \n",
    "\n",
    "Por ejemplo: Un `heading` nivel 1 se escribirá: `# Título`, como en la celda inferior:"
   ]
  },
  {
   "cell_type": "markdown",
   "id": "ea1805c7",
   "metadata": {},
   "source": [
    "# Título (Heading 1)"
   ]
  },
  {
   "cell_type": "markdown",
   "id": "04415dd0",
   "metadata": {},
   "source": [
    "Los niveles de los `headings` se van ramificando a medida que los vamos introduciendo, permitiendo comprimir todo el bloque de celdas que haya debajo de éste:"
   ]
  },
  {
   "cell_type": "markdown",
   "id": "11c72daf",
   "metadata": {},
   "source": [
    "## Subtítulo (Heading 2)"
   ]
  },
  {
   "cell_type": "markdown",
   "id": "5e37ec00",
   "metadata": {},
   "source": [
    "Aquí puedes probar a contraer o expandir los títulos para ocultar el contenido, usando la flechita a la izquierda de cada `heading`."
   ]
  },
  {
   "cell_type": "markdown",
   "id": "339b3100",
   "metadata": {},
   "source": [
    "### Sección (Heading 3)"
   ]
  },
  {
   "cell_type": "markdown",
   "id": "ee8d9745",
   "metadata": {},
   "source": [
    "## Subtítulo 2 (Heading 2)"
   ]
  },
  {
   "cell_type": "markdown",
   "id": "6e26f454",
   "metadata": {},
   "source": [
    "#### Subsección (Heading 4)"
   ]
  },
  {
   "cell_type": "markdown",
   "id": "4558eb31",
   "metadata": {},
   "source": [
    "Usando más de cuatro numerales (`#`) construiremos 'apartados' que no irán numerados, pero cumplen la misma función que los `headings`, como se muestra en la celda inferior:"
   ]
  },
  {
   "cell_type": "markdown",
   "id": "12e7e468",
   "metadata": {},
   "source": [
    "##### Apartado"
   ]
  },
  {
   "cell_type": "markdown",
   "id": "728da099",
   "metadata": {},
   "source": [
    "##### Apartado 2"
   ]
  },
  {
   "cell_type": "markdown",
   "id": "8fe710ec",
   "metadata": {},
   "source": [
    "**IMPORTANTE**: Los `headings` permiten crear divisiones en nuestro `Table of Contents`, la extensión que hemos activado al inicio del curso. Este *índice* puede activarse y desactivarse usando éste icono en la barra de herramientas:"
   ]
  },
  {
   "cell_type": "markdown",
   "id": "7c413d27",
   "metadata": {},
   "source": [
    "![](https://i.imgur.com/mkY4zGj.png)"
   ]
  },
  {
   "cell_type": "markdown",
   "id": "108a99e5",
   "metadata": {},
   "source": [
    "Desde este `Table of Contents` podemos hacer click en los títulos para navegar directamente a esa sección del *Notebook*, muy útil para *Notebooks* muy largos."
   ]
  },
  {
   "cell_type": "markdown",
   "id": "2d193cec",
   "metadata": {},
   "source": [
    "# Formatos"
   ]
  },
  {
   "cell_type": "markdown",
   "id": "2fa1f3e8",
   "metadata": {},
   "source": [
    "Con **Markdown** podemos formatear nuestro texto de manera facilísima usando los siguientes formatos.  \n",
    "_(doble click sobre la celda para visualizarlo)_:"
   ]
  },
  {
   "cell_type": "markdown",
   "id": "44fe8ecf",
   "metadata": {},
   "source": [
    "**Texto en negrita**"
   ]
  },
  {
   "cell_type": "markdown",
   "id": "5ab033ea",
   "metadata": {},
   "source": [
    "*Texto en cursiva*"
   ]
  },
  {
   "cell_type": "markdown",
   "id": "64eec7bc",
   "metadata": {},
   "source": [
    "`Formato para indicar código`"
   ]
  },
  {
   "cell_type": "markdown",
   "id": "09d50181",
   "metadata": {},
   "source": [
    "Citar frases:\n",
    "    \n",
    "> pues me sobraba una rtx 6090 que tenia por ahi y un ryzen 18000 y decidi montarme un pc.  \n",
    "Nate Gentile, 2022\n",
    "\n",
    "*Gracias **@Nannachi** por la inspiración*"
   ]
  },
  {
   "cell_type": "markdown",
   "id": "e1458e33",
   "metadata": {},
   "source": [
    "Listas ordenadas!\n",
    "\n",
    "1. Primer elemento\n",
    "2. Segundo elemento\n",
    "3. Tercer elemento"
   ]
  },
  {
   "cell_type": "markdown",
   "id": "0407f4ed",
   "metadata": {},
   "source": [
    "O listas no ordenadas!\n",
    "\n",
    "- Primer elemento\n",
    "- Segundo elemento\n",
    "- Tercer elemento"
   ]
  },
  {
   "cell_type": "markdown",
   "id": "95379d67",
   "metadata": {},
   "source": [
    "Podemos **mezclar** *formatos* `diferentes` _en la misma celda_ sin problema **alguno**!\n",
    "\n",
    "---\n",
    "\n",
    "Incluso:\n",
    "- Mezclar\n",
    "- Listas\n",
    "- En \n",
    "- La\n",
    "- Misma\n",
    "- Celda"
   ]
  },
  {
   "cell_type": "markdown",
   "id": "d6affd9f",
   "metadata": {},
   "source": [
    "# Links"
   ]
  },
  {
   "cell_type": "markdown",
   "id": "15779137",
   "metadata": {},
   "source": [
    "Con *Markdown* también podemos introducir [links!](https://www.youtube.com/watch?v=dQw4w9WgXcQ) Puedes hacer click en el texto azul para acceder al contenido."
   ]
  },
  {
   "cell_type": "markdown",
   "id": "16430d6a",
   "metadata": {},
   "source": [
    "Para introducir un link, el formato es el siguiente:\n",
    "    \n",
    "`[Título del link](Dirección del link)`"
   ]
  },
  {
   "cell_type": "markdown",
   "id": "904f01fc",
   "metadata": {},
   "source": [
    "También podemos introducir imágenes en las celdas, tenemos dos maneras:\n",
    "1. Con la celda en formato Markdown, iremos al menú Edit > Insert Image para introducir una imagen de un archivo local 'fundido' en el Notebook (es decir, dentro del propio archivo de Notebook .ipynb)\n",
    "2. Usando un link, de la misma manera que haríamos con un link normal, pero en este caso añadiendo un '!' antes del título. Ejemplo: `![no introducimos nada](link_imagen)`"
   ]
  },
  {
   "cell_type": "markdown",
   "id": "d97dabb3",
   "metadata": {},
   "source": [
    "![](https://c.tenor.com/y2JXkY1pXkwAAAAM/cat-computer.gif)"
   ]
  },
  {
   "cell_type": "markdown",
   "id": "b03eb67b",
   "metadata": {},
   "source": [
    "Espero que te haya servido esta pequeña guía, nos vemos en el siguiente capítulo!"
   ]
  },
  {
   "cell_type": "markdown",
   "id": "4279efd4",
   "metadata": {},
   "source": [
    "![](https://sayingimages.com/wp-content/uploads/thank-you-good-sir-memes.jpg)"
   ]
  }
 ],
 "metadata": {
  "kernelspec": {
   "display_name": "Python 3 (ipykernel)",
   "language": "python",
   "name": "python3"
  },
  "language_info": {
   "codemirror_mode": {
    "name": "ipython",
    "version": 3
   },
   "file_extension": ".py",
   "mimetype": "text/x-python",
   "name": "python",
   "nbconvert_exporter": "python",
   "pygments_lexer": "ipython3",
   "version": "3.10.9"
  },
  "toc": {
   "base_numbering": 1,
   "nav_menu": {},
   "number_sections": true,
   "sideBar": true,
   "skip_h1_title": false,
   "title_cell": "Table of Contents",
   "title_sidebar": "Contents",
   "toc_cell": false,
   "toc_position": {},
   "toc_section_display": true,
   "toc_window_display": false
  }
 },
 "nbformat": 4,
 "nbformat_minor": 5
}
