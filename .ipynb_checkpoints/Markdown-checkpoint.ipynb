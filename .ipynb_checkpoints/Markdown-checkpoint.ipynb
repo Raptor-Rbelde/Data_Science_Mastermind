{
 "cells": [
  {
   "cell_type": "markdown",
   "id": "3ae77f72",
   "metadata": {},
   "source": [
    "# Titulo (heading 1)"
   ]
  },
  {
   "cell_type": "markdown",
   "id": "3e9d9cc6",
   "metadata": {},
   "source": [
    "## Subtitulo (Heading 2)"
   ]
  },
  {
   "cell_type": "markdown",
   "id": "96c2acc1",
   "metadata": {
    "heading_collapsed": true
   },
   "source": [
    "### Seccion (heading 3)"
   ]
  },
  {
   "cell_type": "markdown",
   "id": "316cb88e",
   "metadata": {},
   "source": [
    "## Subtitulo 2 (Heading 2)"
   ]
  },
  {
   "cell_type": "markdown",
   "id": "b0d889c4",
   "metadata": {},
   "source": [
    "###### subseccion"
   ]
  },
  {
   "cell_type": "markdown",
   "id": "3057df90",
   "metadata": {},
   "source": [
    "**Texto en negrita**"
   ]
  },
  {
   "cell_type": "markdown",
   "id": "3374e169",
   "metadata": {},
   "source": [
    "*Texto en cursiva*"
   ]
  },
  {
   "cell_type": "markdown",
   "id": "1eea63fe",
   "metadata": {},
   "source": [
    "`Formato para indicar codigo`"
   ]
  },
  {
   "cell_type": "markdown",
   "id": "2b4a8ea4",
   "metadata": {},
   "source": [
    "Escribo texto `con codigo`"
   ]
  },
  {
   "cell_type": "markdown",
   "id": "08a75e4c",
   "metadata": {},
   "source": [
    "> Esto es para un blockquote"
   ]
  },
  {
   "cell_type": "markdown",
   "id": "58f74832",
   "metadata": {},
   "source": [
    "- Primer elemento\n",
    "- Segundo Elemento\n",
    "- Tercer Elemento\n",
    "\n",
    "---\n",
    "\n",
    "- Otra lista"
   ]
  },
  {
   "cell_type": "markdown",
   "id": "6ec40e00",
   "metadata": {},
   "source": [
    "1. Primer ELemento\n",
    "2. Segundo elemento\n",
    "3. Tercer Elemento"
   ]
  },
  {
   "cell_type": "markdown",
   "id": "a67b123f",
   "metadata": {},
   "source": [
    "[Titulo del link](https://mastermind.ac)"
   ]
  },
  {
   "cell_type": "markdown",
   "id": "3730321d",
   "metadata": {},
   "source": [
    "![alt text](https://miro.medium.com/v2/resize:fit:720/format:webp/1*m0H6-tUbW6grMlezlb52yw.png)"
   ]
  },
  {
   "cell_type": "markdown",
   "id": "b1a8d245",
   "metadata": {},
   "source": [
    "## Tambien lo puedo hacer presionado solo un dos :D"
   ]
  }
 ],
 "metadata": {
  "kernelspec": {
   "display_name": "Python 3 (ipykernel)",
   "language": "python",
   "name": "python3"
  },
  "language_info": {
   "codemirror_mode": {
    "name": "ipython",
    "version": 3
   },
   "file_extension": ".py",
   "mimetype": "text/x-python",
   "name": "python",
   "nbconvert_exporter": "python",
   "pygments_lexer": "ipython3",
   "version": "3.10.9"
  },
  "toc": {
   "base_numbering": 1,
   "nav_menu": {},
   "number_sections": true,
   "sideBar": true,
   "skip_h1_title": false,
   "title_cell": "Table of Contents",
   "title_sidebar": "Contents",
   "toc_cell": false,
   "toc_position": {
    "height": "475px",
    "left": "54px",
    "top": "62.1333px",
    "width": "273.2px"
   },
   "toc_section_display": true,
   "toc_window_display": true
  }
 },
 "nbformat": 4,
 "nbformat_minor": 5
}
