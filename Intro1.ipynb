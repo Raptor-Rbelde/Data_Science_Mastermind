{
 "cells": [
  {
   "cell_type": "code",
   "execution_count": 3,
   "id": "9cdec54e",
   "metadata": {},
   "outputs": [
    {
     "data": {
      "text/plain": [
       "14"
      ]
     },
     "execution_count": 3,
     "metadata": {},
     "output_type": "execute_result"
    }
   ],
   "source": [
    "7 + 7"
   ]
  },
  {
   "cell_type": "markdown",
   "id": "bfc4bb5a",
   "metadata": {},
   "source": [
    "4 + 4"
   ]
  },
  {
   "cell_type": "raw",
   "id": "1f5f5d5f",
   "metadata": {},
   "source": [
    "874832784 + 493284903284"
   ]
  },
  {
   "cell_type": "markdown",
   "id": "53b832d7",
   "metadata": {},
   "source": [
    "# Titulo"
   ]
  },
  {
   "cell_type": "markdown",
   "id": "5d720b1c",
   "metadata": {},
   "source": [
    "## Subtitulo"
   ]
  },
  {
   "cell_type": "markdown",
   "id": "a4f27748",
   "metadata": {},
   "source": [
    "# Titulo 2"
   ]
  },
  {
   "cell_type": "code",
   "execution_count": null,
   "id": "d087c2f9",
   "metadata": {},
   "outputs": [],
   "source": []
  }
 ],
 "metadata": {
  "kernelspec": {
   "display_name": "Python 3 (ipykernel)",
   "language": "python",
   "name": "python3"
  },
  "language_info": {
   "codemirror_mode": {
    "name": "ipython",
    "version": 3
   },
   "file_extension": ".py",
   "mimetype": "text/x-python",
   "name": "python",
   "nbconvert_exporter": "python",
   "pygments_lexer": "ipython3",
   "version": "3.10.9"
  },
  "toc": {
   "base_numbering": 1,
   "nav_menu": {},
   "number_sections": true,
   "sideBar": true,
   "skip_h1_title": false,
   "title_cell": "Table of Contents",
   "title_sidebar": "Contents",
   "toc_cell": false,
   "toc_position": {
    "height": "calc(100% - 180px)",
    "left": "10px",
    "top": "150px",
    "width": "384px"
   },
   "toc_section_display": true,
   "toc_window_display": true
  }
 },
 "nbformat": 4,
 "nbformat_minor": 5
}
